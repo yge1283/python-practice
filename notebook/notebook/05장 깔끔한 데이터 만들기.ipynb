{
 "cells": [
  {
   "cell_type": "markdown",
   "id": "ae2d0b70",
   "metadata": {},
   "source": [
    "## 05-1 깔끔한 데이터란? "
   ]
  },
  {
   "cell_type": "markdown",
   "id": "2e735a33",
   "metadata": {},
   "source": [
    "## 05-2 열 이름이 값일 때"
   ]
  },
  {
   "cell_type": "markdown",
   "id": "25a5b920",
   "metadata": {},
   "source": [
    "### 하나의 열만 남기기"
   ]
  },
  {
   "cell_type": "markdown",
   "id": "5e204abb",
   "metadata": {},
   "source": [
    "#### [Do It! 실습] 넒은 데이터 확인하기"
   ]
  },
  {
   "cell_type": "code",
   "execution_count": 1,
   "id": "bfb7b816",
   "metadata": {},
   "outputs": [],
   "source": [
    "import pandas as pd\n",
    "\n",
    "pew = pd.read_csv('../data/pew.csv')"
   ]
  },
  {
   "cell_type": "code",
   "execution_count": 2,
   "id": "e3f4e66f",
   "metadata": {},
   "outputs": [
    {
     "name": "stdout",
     "output_type": "stream",
     "text": [
      "                   religion  <$10k  $10-20k  $20-30k  $30-40k\n",
      "0                  Agnostic     27       34       60       81\n",
      "1                   Atheist     12       27       37       52\n",
      "2                  Buddhist     27       21       30       34\n",
      "3                  Catholic    418      617      732      670\n",
      "4        Don’t know/refused     15       14       15       11\n",
      "5          Evangelical Prot    575      869     1064      982\n",
      "6                     Hindu      1        9        7        9\n",
      "7   Historically Black Prot    228      244      236      238\n",
      "8         Jehovah's Witness     20       27       24       24\n",
      "9                    Jewish     19       19       25       25\n",
      "10            Mainline Prot    289      495      619      655\n",
      "11                   Mormon     29       40       48       51\n",
      "12                   Muslim      6        7        9       10\n",
      "13                 Orthodox     13       17       23       32\n",
      "14          Other Christian      9        7       11       13\n",
      "15             Other Faiths     20       33       40       46\n",
      "16    Other World Religions      5        2        3        4\n",
      "17             Unaffiliated    217      299      374      365\n"
     ]
    }
   ],
   "source": [
    "print(pew.iloc[:, 0:5])"
   ]
  },
  {
   "cell_type": "markdown",
   "id": "05a2b206",
   "metadata": {},
   "source": [
    "#### [Do It! 실습] 긴 데이터로 만들기"
   ]
  },
  {
   "cell_type": "code",
   "execution_count": 3,
   "id": "ffd33b23",
   "metadata": {},
   "outputs": [
    {
     "name": "stdout",
     "output_type": "stream",
     "text": [
      "                  religion            variable  value\n",
      "0                 Agnostic               <$10k     27\n",
      "1                  Atheist               <$10k     12\n",
      "2                 Buddhist               <$10k     27\n",
      "3                 Catholic               <$10k    418\n",
      "4       Don’t know/refused               <$10k     15\n",
      "..                     ...                 ...    ...\n",
      "175               Orthodox  Don't know/refused     73\n",
      "176        Other Christian  Don't know/refused     18\n",
      "177           Other Faiths  Don't know/refused     71\n",
      "178  Other World Religions  Don't know/refused      8\n",
      "179           Unaffiliated  Don't know/refused    597\n",
      "\n",
      "[180 rows x 3 columns]\n"
     ]
    }
   ],
   "source": [
    "pew_long = pew.melt(id_vars='religion')\n",
    "print(pew_long)"
   ]
  },
  {
   "cell_type": "code",
   "execution_count": 4,
   "id": "67507589",
   "metadata": {},
   "outputs": [],
   "source": [
    "# melt() 메서드\n",
    "pew_long = pew.melt(id_vars='religion')\n",
    "\n",
    "# pd.melt() 함수\n",
    "pew_long = pd.melt(pew, id_vars='religion')"
   ]
  },
  {
   "cell_type": "code",
   "execution_count": 5,
   "id": "7f94173d",
   "metadata": {},
   "outputs": [
    {
     "name": "stdout",
     "output_type": "stream",
     "text": [
      "                  religion              income  count\n",
      "0                 Agnostic               <$10k     27\n",
      "1                  Atheist               <$10k     12\n",
      "2                 Buddhist               <$10k     27\n",
      "3                 Catholic               <$10k    418\n",
      "4       Don’t know/refused               <$10k     15\n",
      "..                     ...                 ...    ...\n",
      "175               Orthodox  Don't know/refused     73\n",
      "176        Other Christian  Don't know/refused     18\n",
      "177           Other Faiths  Don't know/refused     71\n",
      "178  Other World Religions  Don't know/refused      8\n",
      "179           Unaffiliated  Don't know/refused    597\n",
      "\n",
      "[180 rows x 3 columns]\n"
     ]
    }
   ],
   "source": [
    "pew_long = pew.melt(\n",
    "    id_vars=\"religion\", var_name=\"income\", value_name=\"count\"\n",
    ")\n",
    "print(pew_long)"
   ]
  },
  {
   "cell_type": "markdown",
   "id": "7b72a88b",
   "metadata": {},
   "source": [
    "### 여러 개의 열 남기기"
   ]
  },
  {
   "cell_type": "markdown",
   "id": "66f7c961",
   "metadata": {},
   "source": [
    "#### [Do It! 실습] 여러 개 열 유지하기"
   ]
  },
  {
   "cell_type": "code",
   "execution_count": 6,
   "id": "4a6e63b7",
   "metadata": {},
   "outputs": [
    {
     "name": "stdout",
     "output_type": "stream",
     "text": [
      "   year        artist                    track  time date.entered  wk1   wk2  \\\n",
      "0  2000         2 Pac  Baby Don't Cry (Keep...  4:22   2000-02-26   87  82.0   \n",
      "1  2000       2Ge+her  The Hardest Part Of ...  3:15   2000-09-02   91  87.0   \n",
      "2  2000  3 Doors Down               Kryptonite  3:53   2000-04-08   81  70.0   \n",
      "3  2000  3 Doors Down                    Loser  4:24   2000-10-21   76  76.0   \n",
      "4  2000      504 Boyz            Wobble Wobble  3:35   2000-04-15   57  34.0   \n",
      "\n",
      "    wk3   wk4   wk5   wk6   wk7   wk8   wk9  wk10  wk11  \n",
      "0  72.0  77.0  87.0  94.0  99.0   NaN   NaN   NaN   NaN  \n",
      "1  92.0   NaN   NaN   NaN   NaN   NaN   NaN   NaN   NaN  \n",
      "2  68.0  67.0  66.0  57.0  54.0  53.0  51.0  51.0  51.0  \n",
      "3  72.0  69.0  67.0  65.0  55.0  59.0  62.0  61.0  61.0  \n",
      "4  25.0  17.0  17.0  31.0  36.0  49.0  53.0  57.0  64.0  \n"
     ]
    }
   ],
   "source": [
    "billboard = pd.read_csv('../data/billboard.csv')\n",
    "print(billboard.iloc[0:5, 0:16])"
   ]
  },
  {
   "cell_type": "code",
   "execution_count": 7,
   "id": "f983c9dd",
   "metadata": {},
   "outputs": [
    {
     "name": "stdout",
     "output_type": "stream",
     "text": [
      "       year            artist                    track  time date.entered  \\\n",
      "0      2000             2 Pac  Baby Don't Cry (Keep...  4:22   2000-02-26   \n",
      "1      2000           2Ge+her  The Hardest Part Of ...  3:15   2000-09-02   \n",
      "2      2000      3 Doors Down               Kryptonite  3:53   2000-04-08   \n",
      "3      2000      3 Doors Down                    Loser  4:24   2000-10-21   \n",
      "4      2000          504 Boyz            Wobble Wobble  3:35   2000-04-15   \n",
      "...     ...               ...                      ...   ...          ...   \n",
      "24087  2000       Yankee Grey     Another Nine Minutes  3:10   2000-04-29   \n",
      "24088  2000  Yearwood, Trisha          Real Live Woman  3:55   2000-04-01   \n",
      "24089  2000   Ying Yang Twins  Whistle While You Tw...  4:19   2000-03-18   \n",
      "24090  2000     Zombie Nation            Kernkraft 400  3:30   2000-09-02   \n",
      "24091  2000   matchbox twenty                     Bent  4:12   2000-04-29   \n",
      "\n",
      "       week  rating  \n",
      "0       wk1    87.0  \n",
      "1       wk1    91.0  \n",
      "2       wk1    81.0  \n",
      "3       wk1    76.0  \n",
      "4       wk1    57.0  \n",
      "...     ...     ...  \n",
      "24087  wk76     NaN  \n",
      "24088  wk76     NaN  \n",
      "24089  wk76     NaN  \n",
      "24090  wk76     NaN  \n",
      "24091  wk76     NaN  \n",
      "\n",
      "[24092 rows x 7 columns]\n"
     ]
    }
   ],
   "source": [
    "billboard_long = billboard.melt(\n",
    "    id_vars=[\"year\", \"artist\", \"track\", \"time\", \"date.entered\"],\n",
    "    var_name=\"week\",\n",
    "    value_name=\"rating\",\n",
    ")\n",
    "print(billboard_long)"
   ]
  },
  {
   "cell_type": "markdown",
   "id": "f642d52c",
   "metadata": {},
   "source": [
    "## 05-3 열 이름에 변수가 여러 개일 때"
   ]
  },
  {
   "cell_type": "markdown",
   "id": "c6a9d255",
   "metadata": {},
   "source": [
    "### 열 이름이 여러 가지 뜻일 때 "
   ]
  },
  {
   "cell_type": "markdown",
   "id": "0c4257d2",
   "metadata": {},
   "source": [
    "#### [Do It! 실습] 깔끔한 데이터 만들기 첫 번째"
   ]
  },
  {
   "cell_type": "code",
   "execution_count": 8,
   "id": "001e3a9d",
   "metadata": {},
   "outputs": [
    {
     "name": "stdout",
     "output_type": "stream",
     "text": [
      "Index(['Date', 'Day', 'Cases_Guinea', 'Cases_Liberia', 'Cases_SierraLeone',\n",
      "       'Cases_Nigeria', 'Cases_Senegal', 'Cases_UnitedStates', 'Cases_Spain',\n",
      "       'Cases_Mali', 'Deaths_Guinea', 'Deaths_Liberia', 'Deaths_SierraLeone',\n",
      "       'Deaths_Nigeria', 'Deaths_Senegal', 'Deaths_UnitedStates',\n",
      "       'Deaths_Spain', 'Deaths_Mali'],\n",
      "      dtype='object')\n"
     ]
    }
   ],
   "source": [
    "ebola = pd.read_csv('../data/country_timeseries.csv')\n",
    "print(ebola.columns)"
   ]
  },
  {
   "cell_type": "code",
   "execution_count": 9,
   "id": "d29a149b",
   "metadata": {},
   "outputs": [
    {
     "name": "stdout",
     "output_type": "stream",
     "text": [
      "         Date  Day  Cases_Guinea  Deaths_Guinea\n",
      "0    1/5/2015  289        2776.0         1786.0\n",
      "1    1/4/2015  288        2775.0         1781.0\n",
      "2    1/3/2015  287        2769.0         1767.0\n",
      "3    1/2/2015  286           NaN            NaN\n",
      "4  12/31/2014  284        2730.0         1739.0\n"
     ]
    }
   ],
   "source": [
    "print(ebola.iloc[:5, [0, 1, 2, 10]])"
   ]
  },
  {
   "cell_type": "code",
   "execution_count": 10,
   "id": "bca82689",
   "metadata": {},
   "outputs": [
    {
     "name": "stdout",
     "output_type": "stream",
     "text": [
      "            Date  Day      variable   value\n",
      "0       1/5/2015  289  Cases_Guinea  2776.0\n",
      "1       1/4/2015  288  Cases_Guinea  2775.0\n",
      "2       1/3/2015  287  Cases_Guinea  2769.0\n",
      "3       1/2/2015  286  Cases_Guinea     NaN\n",
      "4     12/31/2014  284  Cases_Guinea  2730.0\n",
      "...          ...  ...           ...     ...\n",
      "1947   3/27/2014    5   Deaths_Mali     NaN\n",
      "1948   3/26/2014    4   Deaths_Mali     NaN\n",
      "1949   3/25/2014    3   Deaths_Mali     NaN\n",
      "1950   3/24/2014    2   Deaths_Mali     NaN\n",
      "1951   3/22/2014    0   Deaths_Mali     NaN\n",
      "\n",
      "[1952 rows x 4 columns]\n"
     ]
    }
   ],
   "source": [
    "ebola_long = ebola.melt(id_vars=['Date', 'Day'])\n",
    "print(ebola_long)"
   ]
  },
  {
   "cell_type": "markdown",
   "id": "5ea34d21",
   "metadata": {},
   "source": [
    "### 열 이름 분할하고 새로운 열로 할당하기"
   ]
  },
  {
   "cell_type": "markdown",
   "id": "fb9584ba",
   "metadata": {},
   "source": [
    "#### [Do It! 실습] 깔끔한 데이터 만들기 두 번째"
   ]
  },
  {
   "cell_type": "code",
   "execution_count": 11,
   "id": "6cd545f2",
   "metadata": {},
   "outputs": [
    {
     "name": "stdout",
     "output_type": "stream",
     "text": [
      "0    [Cases, Guinea]\n",
      "1    [Cases, Guinea]\n",
      "2    [Cases, Guinea]\n",
      "3    [Cases, Guinea]\n",
      "4    [Cases, Guinea]\n",
      "Name: variable, dtype: object\n"
     ]
    }
   ],
   "source": [
    "variable_split = ebola_long.variable.str.split('_')\n",
    "print(variable_split[:5])"
   ]
  },
  {
   "cell_type": "code",
   "execution_count": 12,
   "id": "8dd0d489",
   "metadata": {},
   "outputs": [
    {
     "name": "stdout",
     "output_type": "stream",
     "text": [
      "<class 'pandas.core.series.Series'>\n"
     ]
    }
   ],
   "source": [
    "print(type(variable_split))"
   ]
  },
  {
   "cell_type": "code",
   "execution_count": 13,
   "id": "6faa35fe",
   "metadata": {},
   "outputs": [
    {
     "name": "stdout",
     "output_type": "stream",
     "text": [
      "<class 'list'>\n"
     ]
    }
   ],
   "source": [
    "print(type(variable_split[0]))"
   ]
  },
  {
   "cell_type": "code",
   "execution_count": 14,
   "id": "b3c89942",
   "metadata": {},
   "outputs": [],
   "source": [
    "status_values = variable_split.str.get(0)\n",
    "country_values = variable_split.str.get(1)"
   ]
  },
  {
   "cell_type": "code",
   "execution_count": 15,
   "id": "d257ea79",
   "metadata": {},
   "outputs": [
    {
     "name": "stdout",
     "output_type": "stream",
     "text": [
      "0        Cases\n",
      "1        Cases\n",
      "2        Cases\n",
      "3        Cases\n",
      "4        Cases\n",
      "         ...  \n",
      "1947    Deaths\n",
      "1948    Deaths\n",
      "1949    Deaths\n",
      "1950    Deaths\n",
      "1951    Deaths\n",
      "Name: variable, Length: 1952, dtype: object\n"
     ]
    }
   ],
   "source": [
    "print(status_values)"
   ]
  },
  {
   "cell_type": "code",
   "execution_count": 16,
   "id": "28184a2f",
   "metadata": {},
   "outputs": [
    {
     "name": "stdout",
     "output_type": "stream",
     "text": [
      "            Date  Day      variable   value  status country\n",
      "0       1/5/2015  289  Cases_Guinea  2776.0   Cases  Guinea\n",
      "1       1/4/2015  288  Cases_Guinea  2775.0   Cases  Guinea\n",
      "2       1/3/2015  287  Cases_Guinea  2769.0   Cases  Guinea\n",
      "3       1/2/2015  286  Cases_Guinea     NaN   Cases  Guinea\n",
      "4     12/31/2014  284  Cases_Guinea  2730.0   Cases  Guinea\n",
      "...          ...  ...           ...     ...     ...     ...\n",
      "1947   3/27/2014    5   Deaths_Mali     NaN  Deaths    Mali\n",
      "1948   3/26/2014    4   Deaths_Mali     NaN  Deaths    Mali\n",
      "1949   3/25/2014    3   Deaths_Mali     NaN  Deaths    Mali\n",
      "1950   3/24/2014    2   Deaths_Mali     NaN  Deaths    Mali\n",
      "1951   3/22/2014    0   Deaths_Mali     NaN  Deaths    Mali\n",
      "\n",
      "[1952 rows x 6 columns]\n"
     ]
    }
   ],
   "source": [
    "ebola_long['status'] = status_values\n",
    "ebola_long['country'] = country_values\n",
    "print(ebola_long)"
   ]
  },
  {
   "cell_type": "markdown",
   "id": "1d6731c5",
   "metadata": {},
   "source": [
    "### 한 번에 분할하고 합치기"
   ]
  },
  {
   "cell_type": "markdown",
   "id": "dfed466d",
   "metadata": {},
   "source": [
    "#### [Do It! 실습] 깔끔한 데이터 한 번에 만들기"
   ]
  },
  {
   "cell_type": "code",
   "execution_count": 17,
   "id": "e7926cc0",
   "metadata": {},
   "outputs": [],
   "source": [
    "ebola_long = ebola.melt(id_vars=['Date', 'Day'])"
   ]
  },
  {
   "cell_type": "code",
   "execution_count": 18,
   "id": "362f6211",
   "metadata": {},
   "outputs": [
    {
     "name": "stdout",
     "output_type": "stream",
     "text": [
      "           0       1\n",
      "0      Cases  Guinea\n",
      "1      Cases  Guinea\n",
      "2      Cases  Guinea\n",
      "3      Cases  Guinea\n",
      "4      Cases  Guinea\n",
      "...      ...     ...\n",
      "1947  Deaths    Mali\n",
      "1948  Deaths    Mali\n",
      "1949  Deaths    Mali\n",
      "1950  Deaths    Mali\n",
      "1951  Deaths    Mali\n",
      "\n",
      "[1952 rows x 2 columns]\n"
     ]
    }
   ],
   "source": [
    "# split the column by _ into a dataframe using expand\n",
    "variable_split = ebola_long.variable.str.split('_', expand=True)\n",
    "print(variable_split)"
   ]
  },
  {
   "cell_type": "code",
   "execution_count": 19,
   "id": "5aba09eb",
   "metadata": {},
   "outputs": [
    {
     "name": "stdout",
     "output_type": "stream",
     "text": [
      "            Date  Day      variable   value  status country\n",
      "0       1/5/2015  289  Cases_Guinea  2776.0   Cases  Guinea\n",
      "1       1/4/2015  288  Cases_Guinea  2775.0   Cases  Guinea\n",
      "2       1/3/2015  287  Cases_Guinea  2769.0   Cases  Guinea\n",
      "3       1/2/2015  286  Cases_Guinea     NaN   Cases  Guinea\n",
      "4     12/31/2014  284  Cases_Guinea  2730.0   Cases  Guinea\n",
      "...          ...  ...           ...     ...     ...     ...\n",
      "1947   3/27/2014    5   Deaths_Mali     NaN  Deaths    Mali\n",
      "1948   3/26/2014    4   Deaths_Mali     NaN  Deaths    Mali\n",
      "1949   3/25/2014    3   Deaths_Mali     NaN  Deaths    Mali\n",
      "1950   3/24/2014    2   Deaths_Mali     NaN  Deaths    Mali\n",
      "1951   3/22/2014    0   Deaths_Mali     NaN  Deaths    Mali\n",
      "\n",
      "[1952 rows x 6 columns]\n"
     ]
    }
   ],
   "source": [
    "ebola_long[['status', 'country']] = variable_split\n",
    "print(ebola_long)"
   ]
  },
  {
   "cell_type": "markdown",
   "id": "e52d6d20",
   "metadata": {},
   "source": [
    "## 05-4 변수가 행과 열 모두에 있을 때"
   ]
  },
  {
   "cell_type": "markdown",
   "id": "009e657b",
   "metadata": {},
   "source": [
    "#### [Do It! 실습] 행과 열 모두에 있는 변수 정리하기"
   ]
  },
  {
   "cell_type": "code",
   "execution_count": 20,
   "id": "ed2dcc8a",
   "metadata": {},
   "outputs": [
    {
     "name": "stdout",
     "output_type": "stream",
     "text": [
      "        id  year  month element  d1    d2    d3  d4    d5  d6  d7\n",
      "0  MX17004  2010      1    tmax NaN   NaN   NaN NaN   NaN NaN NaN\n",
      "1  MX17004  2010      1    tmin NaN   NaN   NaN NaN   NaN NaN NaN\n",
      "2  MX17004  2010      2    tmax NaN  27.3  24.1 NaN   NaN NaN NaN\n",
      "3  MX17004  2010      2    tmin NaN  14.4  14.4 NaN   NaN NaN NaN\n",
      "4  MX17004  2010      3    tmax NaN   NaN   NaN NaN  32.1 NaN NaN\n"
     ]
    }
   ],
   "source": [
    "weather = pd.read_csv('../data/weather.csv')\n",
    "print(weather.iloc[:5, :11])"
   ]
  },
  {
   "cell_type": "code",
   "execution_count": 21,
   "id": "36f1dc58",
   "metadata": {},
   "outputs": [
    {
     "name": "stdout",
     "output_type": "stream",
     "text": [
      "          id  year  month element  day  temp\n",
      "0    MX17004  2010      1    tmax   d1   NaN\n",
      "1    MX17004  2010      1    tmin   d1   NaN\n",
      "2    MX17004  2010      2    tmax   d1   NaN\n",
      "3    MX17004  2010      2    tmin   d1   NaN\n",
      "4    MX17004  2010      3    tmax   d1   NaN\n",
      "..       ...   ...    ...     ...  ...   ...\n",
      "677  MX17004  2010     10    tmin  d31   NaN\n",
      "678  MX17004  2010     11    tmax  d31   NaN\n",
      "679  MX17004  2010     11    tmin  d31   NaN\n",
      "680  MX17004  2010     12    tmax  d31   NaN\n",
      "681  MX17004  2010     12    tmin  d31   NaN\n",
      "\n",
      "[682 rows x 6 columns]\n"
     ]
    }
   ],
   "source": [
    "weather_melt = weather.melt(\n",
    "    id_vars=[\"id\", \"year\", \"month\", \"element\"],\n",
    "    var_name=\"day\",\n",
    "    value_name=\"temp\",\n",
    ")\n",
    "\n",
    "print(weather_melt)"
   ]
  },
  {
   "cell_type": "code",
   "execution_count": 22,
   "id": "c7ef9aca",
   "metadata": {},
   "outputs": [
    {
     "name": "stdout",
     "output_type": "stream",
     "text": [
      "element                 tmax  tmin\n",
      "id      year month day            \n",
      "MX17004 2010 1     d30  27.8  14.5\n",
      "             2     d11  29.7  13.4\n",
      "                   d2   27.3  14.4\n",
      "                   d23  29.9  10.7\n",
      "                   d3   24.1  14.4\n",
      "             3     d10  34.5  16.8\n",
      "                   d16  31.1  17.6\n",
      "                   d5   32.1  14.2\n",
      "             4     d27  36.3  16.7\n",
      "             5     d27  33.2  18.2\n",
      "             6     d17  28.0  17.5\n",
      "                   d29  30.1  18.0\n",
      "             7     d3   28.6  17.5\n",
      "                   d14  29.9  16.5\n",
      "             8     d23  26.4  15.0\n",
      "                   d5   29.6  15.8\n",
      "                   d29  28.0  15.3\n",
      "                   d13  29.8  16.5\n",
      "                   d25  29.7  15.6\n",
      "                   d31  25.4  15.4\n",
      "                   d8   29.0  17.3\n",
      "             10    d5   27.0  14.0\n",
      "                   d14  29.5  13.0\n",
      "                   d15  28.7  10.5\n",
      "                   d28  31.2  15.0\n",
      "                   d7   28.1  12.9\n",
      "             11    d2   31.3  16.3\n",
      "                   d5   26.3   7.9\n",
      "                   d27  27.7  14.2\n",
      "                   d26  28.1  12.1\n",
      "                   d4   27.2  12.0\n",
      "             12    d1   29.9  13.8\n",
      "                   d6   27.8  10.5\n"
     ]
    }
   ],
   "source": [
    "weather_tidy = weather_melt.pivot_table(\n",
    "    index=['id', 'year', 'month', 'day'],\n",
    "    columns='element',\n",
    "    values='temp'\n",
    ")\n",
    "print(weather_tidy)"
   ]
  },
  {
   "cell_type": "code",
   "execution_count": 23,
   "id": "e9d9ceba",
   "metadata": {},
   "outputs": [
    {
     "name": "stdout",
     "output_type": "stream",
     "text": [
      "element       id  year  month  day  tmax  tmin\n",
      "0        MX17004  2010      1  d30  27.8  14.5\n",
      "1        MX17004  2010      2  d11  29.7  13.4\n",
      "2        MX17004  2010      2   d2  27.3  14.4\n",
      "3        MX17004  2010      2  d23  29.9  10.7\n",
      "4        MX17004  2010      2   d3  24.1  14.4\n",
      "5        MX17004  2010      3  d10  34.5  16.8\n",
      "6        MX17004  2010      3  d16  31.1  17.6\n",
      "7        MX17004  2010      3   d5  32.1  14.2\n",
      "8        MX17004  2010      4  d27  36.3  16.7\n",
      "9        MX17004  2010      5  d27  33.2  18.2\n",
      "10       MX17004  2010      6  d17  28.0  17.5\n",
      "11       MX17004  2010      6  d29  30.1  18.0\n",
      "12       MX17004  2010      7   d3  28.6  17.5\n",
      "13       MX17004  2010      7  d14  29.9  16.5\n",
      "14       MX17004  2010      8  d23  26.4  15.0\n",
      "15       MX17004  2010      8   d5  29.6  15.8\n",
      "16       MX17004  2010      8  d29  28.0  15.3\n",
      "17       MX17004  2010      8  d13  29.8  16.5\n",
      "18       MX17004  2010      8  d25  29.7  15.6\n",
      "19       MX17004  2010      8  d31  25.4  15.4\n",
      "20       MX17004  2010      8   d8  29.0  17.3\n",
      "21       MX17004  2010     10   d5  27.0  14.0\n",
      "22       MX17004  2010     10  d14  29.5  13.0\n",
      "23       MX17004  2010     10  d15  28.7  10.5\n",
      "24       MX17004  2010     10  d28  31.2  15.0\n",
      "25       MX17004  2010     10   d7  28.1  12.9\n",
      "26       MX17004  2010     11   d2  31.3  16.3\n",
      "27       MX17004  2010     11   d5  26.3   7.9\n",
      "28       MX17004  2010     11  d27  27.7  14.2\n",
      "29       MX17004  2010     11  d26  28.1  12.1\n",
      "30       MX17004  2010     11   d4  27.2  12.0\n",
      "31       MX17004  2010     12   d1  29.9  13.8\n",
      "32       MX17004  2010     12   d6  27.8  10.5\n"
     ]
    }
   ],
   "source": [
    "weather_tidy_flat = weather_tidy.reset_index()\n",
    "print(weather_tidy_flat)"
   ]
  },
  {
   "cell_type": "code",
   "execution_count": 24,
   "id": "81163b85",
   "metadata": {},
   "outputs": [
    {
     "name": "stdout",
     "output_type": "stream",
     "text": [
      "element       id  year  month  day  tmax  tmin\n",
      "0        MX17004  2010      1  d30  27.8  14.5\n",
      "1        MX17004  2010      2  d11  29.7  13.4\n",
      "2        MX17004  2010      2   d2  27.3  14.4\n",
      "3        MX17004  2010      2  d23  29.9  10.7\n",
      "4        MX17004  2010      2   d3  24.1  14.4\n",
      "5        MX17004  2010      3  d10  34.5  16.8\n",
      "6        MX17004  2010      3  d16  31.1  17.6\n",
      "7        MX17004  2010      3   d5  32.1  14.2\n",
      "8        MX17004  2010      4  d27  36.3  16.7\n",
      "9        MX17004  2010      5  d27  33.2  18.2\n",
      "10       MX17004  2010      6  d17  28.0  17.5\n",
      "11       MX17004  2010      6  d29  30.1  18.0\n",
      "12       MX17004  2010      7   d3  28.6  17.5\n",
      "13       MX17004  2010      7  d14  29.9  16.5\n",
      "14       MX17004  2010      8  d23  26.4  15.0\n",
      "15       MX17004  2010      8   d5  29.6  15.8\n",
      "16       MX17004  2010      8  d29  28.0  15.3\n",
      "17       MX17004  2010      8  d13  29.8  16.5\n",
      "18       MX17004  2010      8  d25  29.7  15.6\n",
      "19       MX17004  2010      8  d31  25.4  15.4\n",
      "20       MX17004  2010      8   d8  29.0  17.3\n",
      "21       MX17004  2010     10   d5  27.0  14.0\n",
      "22       MX17004  2010     10  d14  29.5  13.0\n",
      "23       MX17004  2010     10  d15  28.7  10.5\n",
      "24       MX17004  2010     10  d28  31.2  15.0\n",
      "25       MX17004  2010     10   d7  28.1  12.9\n",
      "26       MX17004  2010     11   d2  31.3  16.3\n",
      "27       MX17004  2010     11   d5  26.3   7.9\n",
      "28       MX17004  2010     11  d27  27.7  14.2\n",
      "29       MX17004  2010     11  d26  28.1  12.1\n",
      "30       MX17004  2010     11   d4  27.2  12.0\n",
      "31       MX17004  2010     12   d1  29.9  13.8\n",
      "32       MX17004  2010     12   d6  27.8  10.5\n"
     ]
    }
   ],
   "source": [
    "weather_tidy = (\n",
    "    weather_melt\n",
    "    .pivot_table(\n",
    "        index=['id', 'year', 'month', 'day'],\n",
    "        columns='element',\n",
    "        values='temp')\n",
    "    .reset_index()\n",
    ")\n",
    "print(weather_tidy)"
   ]
  },
  {
   "cell_type": "code",
   "execution_count": null,
   "id": "44002276",
   "metadata": {},
   "outputs": [],
   "source": []
  }
 ],
 "metadata": {
  "kernelspec": {
   "display_name": "Python 3 (ipykernel)",
   "language": "python",
   "name": "python3"
  },
  "language_info": {
   "codemirror_mode": {
    "name": "ipython",
    "version": 3
   },
   "file_extension": ".py",
   "mimetype": "text/x-python",
   "name": "python",
   "nbconvert_exporter": "python",
   "pygments_lexer": "ipython3",
   "version": "3.11.7"
  },
  "toc": {
   "base_numbering": 1,
   "nav_menu": {},
   "number_sections": false,
   "sideBar": false,
   "skip_h1_title": false,
   "title_cell": "Table of Contents",
   "title_sidebar": "Contents",
   "toc_cell": false,
   "toc_position": {
    "height": "1098px",
    "left": "613.867px",
    "top": "111.483px",
    "width": "255.467px"
   },
   "toc_section_display": true,
   "toc_window_display": true
  }
 },
 "nbformat": 4,
 "nbformat_minor": 5
}
