{
 "cells": [
  {
   "cell_type": "markdown",
   "id": "791803b6",
   "metadata": {},
   "source": [
    "## 03-1 나만의 데이터 만들기"
   ]
  },
  {
   "cell_type": "markdown",
   "id": "ae2f34de",
   "metadata": {},
   "source": [
    "### 시리즈와 데이터프레임 만들기"
   ]
  },
  {
   "cell_type": "markdown",
   "id": "053bce3a",
   "metadata": {},
   "source": [
    "#### [Do It! 실습] 시리즈 만들기"
   ]
  },
  {
   "cell_type": "code",
   "execution_count": 63,
   "id": "9d5e9047",
   "metadata": {},
   "outputs": [
    {
     "name": "stdout",
     "output_type": "stream",
     "text": [
      "0    banana\n",
      "1        42\n",
      "dtype: object\n"
     ]
    }
   ],
   "source": [
    "import pandas as pd\n",
    "\n",
    "s = pd.Series(['banana', 42])\n",
    "print(s)"
   ]
  },
  {
   "cell_type": "code",
   "execution_count": 64,
   "id": "63aa32d2",
   "metadata": {},
   "outputs": [
    {
     "name": "stdout",
     "output_type": "stream",
     "text": [
      "Person         Wes McKinney\n",
      "Who       Creator of Pandas\n",
      "dtype: object\n"
     ]
    }
   ],
   "source": [
    "s = pd.Series(data=['Wes McKinney', 'Creator of Pandas'], index=['Person', 'Who'])\n",
    "print(s)"
   ]
  },
  {
   "cell_type": "markdown",
   "id": "532d223e",
   "metadata": {},
   "source": [
    "#### [Do It! 실습] 데이터 프레임 만들기"
   ]
  },
  {
   "cell_type": "code",
   "execution_count": 65,
   "id": "647e2c0d",
   "metadata": {},
   "outputs": [
    {
     "name": "stdout",
     "output_type": "stream",
     "text": [
      "                Name    Occupation        Born        Died  Age\n",
      "0  Rosaline Franklin       Chemist  1920-07-25  1958-04-16   37\n",
      "1     William Gosset  Statistician  1876-06-13  1937-10-16   61\n"
     ]
    }
   ],
   "source": [
    "scientists = pd.DataFrame({\n",
    "        \"Name\": [\"Rosaline Franklin\", \"William Gosset\"],\n",
    "        \"Occupation\": [\"Chemist\", \"Statistician\"],\n",
    "        \"Born\": [\"1920-07-25\", \"1876-06-13\"],\n",
    "        \"Died\": [\"1958-04-16\", \"1937-10-16\"],\n",
    "        \"Age\": [37, 61],\n",
    "})\n",
    "\n",
    "print(scientists)"
   ]
  },
  {
   "cell_type": "code",
   "execution_count": 66,
   "id": "c250363d",
   "metadata": {},
   "outputs": [
    {
     "name": "stdout",
     "output_type": "stream",
     "text": [
      "                     Occupation        Born        Died  Age\n",
      "Rosaline Franklin       Chemist  1920-07-25  1958-04-16   37\n",
      "William Gosset     Statistician  1876-06-13  1937-10-16   61\n"
     ]
    }
   ],
   "source": [
    "scientists = pd.DataFrame(\n",
    "    data={\n",
    "        \"Occupation\": [\"Chemist\", \"Statistician\"],\n",
    "        \"Born\": [\"1920-07-25\", \"1876-06-13\"],\n",
    "        \"Died\": [\"1958-04-16\", \"1937-10-16\"],\n",
    "        \"Age\": [37, 61],\n",
    "    },\n",
    "    index=[\"Rosaline Franklin\", \"William Gosset\"],\n",
    "    columns=[\"Occupation\", \"Born\", \"Died\", \"Age\"],\n",
    ")\n",
    "\n",
    "print(scientists)"
   ]
  },
  {
   "cell_type": "markdown",
   "id": "6bafaa66",
   "metadata": {},
   "source": [
    "## 03-2 시리즈 다루기"
   ]
  },
  {
   "cell_type": "markdown",
   "id": "a42fcd48",
   "metadata": {},
   "source": [
    "#### [Do It! 실습] 시리즈 추출하기"
   ]
  },
  {
   "cell_type": "code",
   "execution_count": 67,
   "id": "b3c45970",
   "metadata": {},
   "outputs": [
    {
     "name": "stdout",
     "output_type": "stream",
     "text": [
      "                     Occupation        Born        Died  Age\n",
      "Rosaline Franklin       Chemist  1920-07-25  1958-04-16   37\n",
      "William Gosset     Statistician  1876-06-13  1937-10-16   61\n"
     ]
    }
   ],
   "source": [
    "scientists = pd.DataFrame(\n",
    "    data={\n",
    "        \"Occupation\": [\"Chemist\", \"Statistician\"],\n",
    "        \"Born\": [\"1920-07-25\", \"1876-06-13\"],\n",
    "        \"Died\": [\"1958-04-16\", \"1937-10-16\"],\n",
    "        \"Age\": [37, 61],\n",
    "    },\n",
    "    index=[\"Rosaline Franklin\", \"William Gosset\"],\n",
    "    columns=[\"Occupation\", \"Born\", \"Died\", \"Age\"],\n",
    ")\n",
    "\n",
    "print(scientists)"
   ]
  },
  {
   "cell_type": "code",
   "execution_count": 68,
   "id": "916d4b13",
   "metadata": {},
   "outputs": [
    {
     "name": "stdout",
     "output_type": "stream",
     "text": [
      "<class 'pandas.core.series.Series'>\n"
     ]
    }
   ],
   "source": [
    "first_row = scientists.loc['William Gosset']\n",
    "print(type(first_row))"
   ]
  },
  {
   "cell_type": "code",
   "execution_count": 69,
   "id": "e8ab3b80",
   "metadata": {},
   "outputs": [
    {
     "name": "stdout",
     "output_type": "stream",
     "text": [
      "Occupation    Statistician\n",
      "Born            1876-06-13\n",
      "Died            1937-10-16\n",
      "Age                     61\n",
      "Name: William Gosset, dtype: object\n"
     ]
    }
   ],
   "source": [
    "print(first_row)"
   ]
  },
  {
   "cell_type": "code",
   "execution_count": 70,
   "id": "c0904e9b",
   "metadata": {},
   "outputs": [
    {
     "name": "stdout",
     "output_type": "stream",
     "text": [
      "Index(['Occupation', 'Born', 'Died', 'Age'], dtype='object')\n"
     ]
    }
   ],
   "source": [
    "print(first_row.index)"
   ]
  },
  {
   "cell_type": "code",
   "execution_count": 71,
   "id": "e574b6a5",
   "metadata": {},
   "outputs": [
    {
     "name": "stdout",
     "output_type": "stream",
     "text": [
      "['Statistician' '1876-06-13' '1937-10-16' 61]\n"
     ]
    }
   ],
   "source": [
    "print(first_row.values)"
   ]
  },
  {
   "cell_type": "markdown",
   "id": "d13f1f32",
   "metadata": {},
   "source": [
    "### 시리즈의 keys() 메서드"
   ]
  },
  {
   "cell_type": "code",
   "execution_count": 72,
   "id": "b48633b4",
   "metadata": {},
   "outputs": [
    {
     "name": "stdout",
     "output_type": "stream",
     "text": [
      "Index(['Occupation', 'Born', 'Died', 'Age'], dtype='object')\n"
     ]
    }
   ],
   "source": [
    "print(first_row.keys())"
   ]
  },
  {
   "cell_type": "code",
   "execution_count": 73,
   "id": "3ffd68c8",
   "metadata": {},
   "outputs": [
    {
     "name": "stdout",
     "output_type": "stream",
     "text": [
      "Occupation\n"
     ]
    }
   ],
   "source": [
    "print(first_row.index[0])"
   ]
  },
  {
   "cell_type": "code",
   "execution_count": 74,
   "id": "5f35d384",
   "metadata": {},
   "outputs": [
    {
     "name": "stdout",
     "output_type": "stream",
     "text": [
      "Occupation\n"
     ]
    }
   ],
   "source": [
    "print(first_row.keys()[0])"
   ]
  },
  {
   "cell_type": "markdown",
   "id": "aecc8574",
   "metadata": {},
   "source": [
    "### 시리즈와 ndarray"
   ]
  },
  {
   "cell_type": "markdown",
   "id": "7813ee5e",
   "metadata": {},
   "source": [
    "#### [Do It! 실습] 시리즈의 메서드 사용하기"
   ]
  },
  {
   "cell_type": "code",
   "execution_count": 75,
   "id": "a2107720",
   "metadata": {},
   "outputs": [
    {
     "name": "stdout",
     "output_type": "stream",
     "text": [
      "Rosaline Franklin    37\n",
      "William Gosset       61\n",
      "Name: Age, dtype: int64\n"
     ]
    }
   ],
   "source": [
    "ages = scientists['Age']\n",
    "print(ages)"
   ]
  },
  {
   "cell_type": "code",
   "execution_count": 76,
   "id": "dcdba06a",
   "metadata": {},
   "outputs": [
    {
     "name": "stdout",
     "output_type": "stream",
     "text": [
      "49.0\n"
     ]
    }
   ],
   "source": [
    "# 평균\n",
    "print(ages.mean())"
   ]
  },
  {
   "cell_type": "code",
   "execution_count": 77,
   "id": "7720e212",
   "metadata": {},
   "outputs": [
    {
     "name": "stdout",
     "output_type": "stream",
     "text": [
      "37\n"
     ]
    }
   ],
   "source": [
    "# 최솟값\n",
    "print(ages.min())"
   ]
  },
  {
   "cell_type": "code",
   "execution_count": 78,
   "id": "d01ef373",
   "metadata": {},
   "outputs": [
    {
     "name": "stdout",
     "output_type": "stream",
     "text": [
      "61\n"
     ]
    }
   ],
   "source": [
    "# 최댓값\n",
    "print(ages.max())"
   ]
  },
  {
   "cell_type": "code",
   "execution_count": 79,
   "id": "c2972fa7",
   "metadata": {},
   "outputs": [
    {
     "name": "stdout",
     "output_type": "stream",
     "text": [
      "16.97056274847714\n"
     ]
    }
   ],
   "source": [
    "# 표준 편차\n",
    "print(ages.std())"
   ]
  },
  {
   "cell_type": "markdown",
   "id": "93e9f132",
   "metadata": {},
   "source": [
    "### 시리즈와 불리언"
   ]
  },
  {
   "cell_type": "code",
   "execution_count": 80,
   "id": "b2fff903",
   "metadata": {},
   "outputs": [],
   "source": [
    "scientists = pd.read_csv('../data/scientists.csv')"
   ]
  },
  {
   "cell_type": "markdown",
   "id": "f7a81e79",
   "metadata": {},
   "source": [
    "#### [Do It! 실습] 기술 통계량 계산하기"
   ]
  },
  {
   "cell_type": "code",
   "execution_count": 81,
   "id": "8a4b792a",
   "metadata": {},
   "outputs": [
    {
     "name": "stdout",
     "output_type": "stream",
     "text": [
      "0    37\n",
      "1    61\n",
      "2    90\n",
      "3    66\n",
      "4    56\n",
      "5    45\n",
      "6    41\n",
      "7    77\n",
      "Name: Age, dtype: int64\n"
     ]
    }
   ],
   "source": [
    "ages = scientists['Age']\n",
    "print(ages)"
   ]
  },
  {
   "cell_type": "code",
   "execution_count": 82,
   "id": "d0d2c0c8",
   "metadata": {},
   "outputs": [
    {
     "name": "stdout",
     "output_type": "stream",
     "text": [
      "count     8.000000\n",
      "mean     59.125000\n",
      "std      18.325918\n",
      "min      37.000000\n",
      "25%      44.000000\n",
      "50%      58.500000\n",
      "75%      68.750000\n",
      "max      90.000000\n",
      "Name: Age, dtype: float64\n"
     ]
    }
   ],
   "source": [
    "print(ages.describe())"
   ]
  },
  {
   "cell_type": "code",
   "execution_count": 83,
   "id": "5d020d24",
   "metadata": {},
   "outputs": [
    {
     "name": "stdout",
     "output_type": "stream",
     "text": [
      "59.125\n"
     ]
    }
   ],
   "source": [
    "print(ages.mean())"
   ]
  },
  {
   "cell_type": "code",
   "execution_count": 84,
   "id": "deb2a872",
   "metadata": {},
   "outputs": [
    {
     "name": "stdout",
     "output_type": "stream",
     "text": [
      "1    61\n",
      "2    90\n",
      "3    66\n",
      "7    77\n",
      "Name: Age, dtype: int64\n"
     ]
    }
   ],
   "source": [
    "print(ages[ages > ages.mean()])"
   ]
  },
  {
   "cell_type": "code",
   "execution_count": 85,
   "id": "656be7fb",
   "metadata": {},
   "outputs": [
    {
     "name": "stdout",
     "output_type": "stream",
     "text": [
      "0    False\n",
      "1     True\n",
      "2     True\n",
      "3     True\n",
      "4    False\n",
      "5    False\n",
      "6    False\n",
      "7     True\n",
      "Name: Age, dtype: bool\n"
     ]
    }
   ],
   "source": [
    "print(ages > ages.mean())"
   ]
  },
  {
   "cell_type": "code",
   "execution_count": 86,
   "id": "b3eb2f15",
   "metadata": {},
   "outputs": [
    {
     "name": "stdout",
     "output_type": "stream",
     "text": [
      "<class 'pandas.core.series.Series'>\n"
     ]
    }
   ],
   "source": [
    "print(type(ages > ages.mean()))"
   ]
  },
  {
   "cell_type": "code",
   "execution_count": 87,
   "id": "905bab93",
   "metadata": {},
   "outputs": [
    {
     "name": "stdout",
     "output_type": "stream",
     "text": [
      "0    37\n",
      "1    61\n",
      "4    56\n",
      "5    45\n",
      "7    77\n",
      "Name: Age, dtype: int64\n"
     ]
    }
   ],
   "source": [
    "manual_bool_values = [\n",
    "    True,   # 0\n",
    "    True,   # 1\n",
    "    False,  # 2\n",
    "    False,  # 3\n",
    "    True,   # 4\n",
    "    True,   # 5\n",
    "    False,  # 6\n",
    "    True,   # 7\n",
    "]\n",
    "print(ages[manual_bool_values])"
   ]
  },
  {
   "cell_type": "markdown",
   "id": "6a1f00a2",
   "metadata": {},
   "source": [
    "### 시리즈와 브로드캐스팅"
   ]
  },
  {
   "cell_type": "markdown",
   "id": "75367733",
   "metadata": {},
   "source": [
    "#### [Do It! 실습] 벡터와 벡터, 벡터와 스칼라 계산하기"
   ]
  },
  {
   "cell_type": "code",
   "execution_count": 88,
   "id": "e9d7dd01",
   "metadata": {},
   "outputs": [
    {
     "name": "stdout",
     "output_type": "stream",
     "text": [
      "0     74\n",
      "1    122\n",
      "2    180\n",
      "3    132\n",
      "4    112\n",
      "5     90\n",
      "6     82\n",
      "7    154\n",
      "Name: Age, dtype: int64\n"
     ]
    }
   ],
   "source": [
    "print(ages + ages)"
   ]
  },
  {
   "cell_type": "code",
   "execution_count": 89,
   "id": "e30adc42",
   "metadata": {},
   "outputs": [
    {
     "name": "stdout",
     "output_type": "stream",
     "text": [
      "0    1369\n",
      "1    3721\n",
      "2    8100\n",
      "3    4356\n",
      "4    3136\n",
      "5    2025\n",
      "6    1681\n",
      "7    5929\n",
      "Name: Age, dtype: int64\n"
     ]
    }
   ],
   "source": [
    "print(ages * ages)"
   ]
  },
  {
   "cell_type": "code",
   "execution_count": 90,
   "id": "f8f29f8b",
   "metadata": {},
   "outputs": [
    {
     "name": "stdout",
     "output_type": "stream",
     "text": [
      "0    137\n",
      "1    161\n",
      "2    190\n",
      "3    166\n",
      "4    156\n",
      "5    145\n",
      "6    141\n",
      "7    177\n",
      "Name: Age, dtype: int64\n"
     ]
    }
   ],
   "source": [
    "print(ages + 100)"
   ]
  },
  {
   "cell_type": "code",
   "execution_count": 91,
   "id": "25a83405",
   "metadata": {},
   "outputs": [
    {
     "name": "stdout",
     "output_type": "stream",
     "text": [
      "0     74\n",
      "1    122\n",
      "2    180\n",
      "3    132\n",
      "4    112\n",
      "5     90\n",
      "6     82\n",
      "7    154\n",
      "Name: Age, dtype: int64\n"
     ]
    }
   ],
   "source": [
    "print(ages * 2)"
   ]
  },
  {
   "cell_type": "markdown",
   "id": "2ff14dbf",
   "metadata": {},
   "source": [
    "#### [Do It! 실습] 길이가 서로 다른 벡터 연산하기"
   ]
  },
  {
   "cell_type": "code",
   "execution_count": 92,
   "id": "1e7e4029",
   "metadata": {},
   "outputs": [
    {
     "name": "stdout",
     "output_type": "stream",
     "text": [
      "0     38.0\n",
      "1    161.0\n",
      "2      NaN\n",
      "3      NaN\n",
      "4      NaN\n",
      "5      NaN\n",
      "6      NaN\n",
      "7      NaN\n",
      "dtype: float64\n"
     ]
    }
   ],
   "source": [
    "print(ages + pd.Series([1, 100]))"
   ]
  },
  {
   "cell_type": "code",
   "execution_count": 93,
   "id": "4bea80a1",
   "metadata": {},
   "outputs": [],
   "source": [
    "import numpy as np\n",
    "\n",
    "# print(ages + np.array([1, 100]))  # 오류"
   ]
  },
  {
   "cell_type": "markdown",
   "id": "012018c8",
   "metadata": {},
   "source": [
    "#### [Do It! 실습] 인덱스가 같은 벡터 자동 정렬하기"
   ]
  },
  {
   "cell_type": "code",
   "execution_count": 94,
   "id": "cd7a4a6e",
   "metadata": {},
   "outputs": [
    {
     "name": "stdout",
     "output_type": "stream",
     "text": [
      "7    77\n",
      "6    41\n",
      "5    45\n",
      "4    56\n",
      "3    66\n",
      "2    90\n",
      "1    61\n",
      "0    37\n",
      "Name: Age, dtype: int64\n"
     ]
    }
   ],
   "source": [
    "rev_ages = ages.sort_index(ascending=False)\n",
    "print(rev_ages)"
   ]
  },
  {
   "cell_type": "code",
   "execution_count": 95,
   "id": "4fd3b0b2",
   "metadata": {},
   "outputs": [
    {
     "name": "stdout",
     "output_type": "stream",
     "text": [
      "0     74\n",
      "1    122\n",
      "2    180\n",
      "3    132\n",
      "4    112\n",
      "5     90\n",
      "6     82\n",
      "7    154\n",
      "Name: Age, dtype: int64\n"
     ]
    }
   ],
   "source": [
    "print(ages * 2)"
   ]
  },
  {
   "cell_type": "code",
   "execution_count": 96,
   "id": "4ad6daa3",
   "metadata": {},
   "outputs": [
    {
     "name": "stdout",
     "output_type": "stream",
     "text": [
      "0     74\n",
      "1    122\n",
      "2    180\n",
      "3    132\n",
      "4    112\n",
      "5     90\n",
      "6     82\n",
      "7    154\n",
      "Name: Age, dtype: int64\n"
     ]
    }
   ],
   "source": [
    "print(ages + rev_ages)"
   ]
  },
  {
   "cell_type": "markdown",
   "id": "0c3c014b",
   "metadata": {},
   "source": [
    "## 03-3 데이터프레임 다루기"
   ]
  },
  {
   "cell_type": "markdown",
   "id": "e2ee22b4",
   "metadata": {},
   "source": [
    "### 데이터프레임의 구성"
   ]
  },
  {
   "cell_type": "code",
   "execution_count": 97,
   "id": "e0601d89",
   "metadata": {},
   "outputs": [
    {
     "data": {
      "text/plain": [
       "RangeIndex(start=0, stop=8, step=1)"
      ]
     },
     "execution_count": 97,
     "metadata": {},
     "output_type": "execute_result"
    }
   ],
   "source": [
    "scientists.index"
   ]
  },
  {
   "cell_type": "code",
   "execution_count": 98,
   "id": "06070d6b",
   "metadata": {},
   "outputs": [
    {
     "data": {
      "text/plain": [
       "Index(['Name', 'Born', 'Died', 'Age', 'Occupation'], dtype='object')"
      ]
     },
     "execution_count": 98,
     "metadata": {},
     "output_type": "execute_result"
    }
   ],
   "source": [
    "scientists.columns"
   ]
  },
  {
   "cell_type": "code",
   "execution_count": 99,
   "id": "7a5bcf0c",
   "metadata": {},
   "outputs": [
    {
     "data": {
      "text/plain": [
       "array([['Rosaline Franklin', '1920-07-25', '1958-04-16', 37, 'Chemist'],\n",
       "       ['William Gosset', '1876-06-13', '1937-10-16', 61, 'Statistician'],\n",
       "       ['Florence Nightingale', '1820-05-12', '1910-08-13', 90, 'Nurse'],\n",
       "       ['Marie Curie', '1867-11-07', '1934-07-04', 66, 'Chemist'],\n",
       "       ['Rachel Carson', '1907-05-27', '1964-04-14', 56, 'Biologist'],\n",
       "       ['John Snow', '1813-03-15', '1858-06-16', 45, 'Physician'],\n",
       "       ['Alan Turing', '1912-06-23', '1954-06-07', 41,\n",
       "        'Computer Scientist'],\n",
       "       ['Johann Gauss', '1777-04-30', '1855-02-23', 77, 'Mathematician']],\n",
       "      dtype=object)"
      ]
     },
     "execution_count": 99,
     "metadata": {},
     "output_type": "execute_result"
    }
   ],
   "source": [
    "scientists.values"
   ]
  },
  {
   "cell_type": "markdown",
   "id": "5738c609",
   "metadata": {},
   "source": [
    "### 데이터프레임과 불리언 추출"
   ]
  },
  {
   "cell_type": "code",
   "execution_count": 100,
   "id": "5507fe80",
   "metadata": {},
   "outputs": [
    {
     "name": "stdout",
     "output_type": "stream",
     "text": [
      "                   Name        Born        Died  Age     Occupation\n",
      "1        William Gosset  1876-06-13  1937-10-16   61   Statistician\n",
      "2  Florence Nightingale  1820-05-12  1910-08-13   90          Nurse\n",
      "3           Marie Curie  1867-11-07  1934-07-04   66        Chemist\n",
      "7          Johann Gauss  1777-04-30  1855-02-23   77  Mathematician\n"
     ]
    }
   ],
   "source": [
    "print(scientists.loc[scientists['Age'] > scientists['Age'].mean()])"
   ]
  },
  {
   "cell_type": "markdown",
   "id": "4d9da2fd",
   "metadata": {},
   "source": [
    "### 데이터프레임과 브로드캐스팅"
   ]
  },
  {
   "cell_type": "markdown",
   "id": "f010c834",
   "metadata": {},
   "source": [
    "#### [Do It! 실습] 데이터프레임을 대상으로 연산하기"
   ]
  },
  {
   "cell_type": "code",
   "execution_count": 101,
   "id": "8af4d8fe",
   "metadata": {},
   "outputs": [
    {
     "name": "stdout",
     "output_type": "stream",
     "text": [
      "                   Name        Born        Died  Age    Occupation\n",
      "0     Rosaline Franklin  1920-07-25  1958-04-16   37       Chemist\n",
      "1        William Gosset  1876-06-13  1937-10-16   61  Statistician\n",
      "2  Florence Nightingale  1820-05-12  1910-08-13   90         Nurse\n",
      "3           Marie Curie  1867-11-07  1934-07-04   66       Chemist\n"
     ]
    }
   ],
   "source": [
    "first_half = scientists[:4]\n",
    "second_half = scientists[4:]\n",
    "\n",
    "print(first_half)"
   ]
  },
  {
   "cell_type": "code",
   "execution_count": 102,
   "id": "2f600197",
   "metadata": {},
   "outputs": [
    {
     "name": "stdout",
     "output_type": "stream",
     "text": [
      "            Name        Born        Died  Age          Occupation\n",
      "4  Rachel Carson  1907-05-27  1964-04-14   56           Biologist\n",
      "5      John Snow  1813-03-15  1858-06-16   45           Physician\n",
      "6    Alan Turing  1912-06-23  1954-06-07   41  Computer Scientist\n",
      "7   Johann Gauss  1777-04-30  1855-02-23   77       Mathematician\n"
     ]
    }
   ],
   "source": [
    "print(second_half)"
   ]
  },
  {
   "cell_type": "code",
   "execution_count": 103,
   "id": "473f71c4",
   "metadata": {},
   "outputs": [
    {
     "name": "stdout",
     "output_type": "stream",
     "text": [
      "                                       Name                  Born  \\\n",
      "0        Rosaline FranklinRosaline Franklin  1920-07-251920-07-25   \n",
      "1              William GossetWilliam Gosset  1876-06-131876-06-13   \n",
      "2  Florence NightingaleFlorence Nightingale  1820-05-121820-05-12   \n",
      "3                    Marie CurieMarie Curie  1867-11-071867-11-07   \n",
      "4                Rachel CarsonRachel Carson  1907-05-271907-05-27   \n",
      "5                        John SnowJohn Snow  1813-03-151813-03-15   \n",
      "6                    Alan TuringAlan Turing  1912-06-231912-06-23   \n",
      "7                  Johann GaussJohann Gauss  1777-04-301777-04-30   \n",
      "\n",
      "                   Died  Age                            Occupation  \n",
      "0  1958-04-161958-04-16   74                        ChemistChemist  \n",
      "1  1937-10-161937-10-16  122              StatisticianStatistician  \n",
      "2  1910-08-131910-08-13  180                            NurseNurse  \n",
      "3  1934-07-041934-07-04  132                        ChemistChemist  \n",
      "4  1964-04-141964-04-14  112                    BiologistBiologist  \n",
      "5  1858-06-161858-06-16   90                    PhysicianPhysician  \n",
      "6  1954-06-071954-06-07   82  Computer ScientistComputer Scientist  \n",
      "7  1855-02-231855-02-23  154            MathematicianMathematician  \n"
     ]
    }
   ],
   "source": [
    "print(scientists * 2)"
   ]
  },
  {
   "cell_type": "code",
   "execution_count": 104,
   "id": "d7ad55af",
   "metadata": {},
   "outputs": [
    {
     "name": "stdout",
     "output_type": "stream",
     "text": [
      "    0   1   2\n",
      "0   2   4   6\n",
      "1   8  10  12\n",
      "2  14  16  18\n"
     ]
    }
   ],
   "source": [
    "df1 = df2 = pd.DataFrame(data=[[1, 2, 3], [4, 5, 6], [7, 8, 9]])\n",
    "\n",
    "df_added = df1.add(df2)\n",
    "print(df_added)"
   ]
  },
  {
   "cell_type": "markdown",
   "id": "297a5745",
   "metadata": {},
   "source": [
    "## 03-4 시리즈와 데이터프레임 데이터 변경하기"
   ]
  },
  {
   "cell_type": "markdown",
   "id": "62ed3774",
   "metadata": {},
   "source": [
    "#### [Do It! 실습] 열 추가하기"
   ]
  },
  {
   "cell_type": "code",
   "execution_count": 105,
   "id": "922a9c6c",
   "metadata": {},
   "outputs": [
    {
     "name": "stdout",
     "output_type": "stream",
     "text": [
      "Name          object\n",
      "Born          object\n",
      "Died          object\n",
      "Age            int64\n",
      "Occupation    object\n",
      "dtype: object\n"
     ]
    }
   ],
   "source": [
    "print(scientists.dtypes)"
   ]
  },
  {
   "cell_type": "code",
   "execution_count": 106,
   "id": "a9454cb0",
   "metadata": {},
   "outputs": [
    {
     "name": "stdout",
     "output_type": "stream",
     "text": [
      "0   1920-07-25\n",
      "1   1876-06-13\n",
      "2   1820-05-12\n",
      "3   1867-11-07\n",
      "4   1907-05-27\n",
      "5   1813-03-15\n",
      "6   1912-06-23\n",
      "7   1777-04-30\n",
      "Name: Born, dtype: datetime64[ns]\n"
     ]
    }
   ],
   "source": [
    "born_datetime = pd.to_datetime(scientists['Born'], format='%Y-%m-%d')\n",
    "print(born_datetime)"
   ]
  },
  {
   "cell_type": "code",
   "execution_count": 107,
   "id": "eb309ab6",
   "metadata": {},
   "outputs": [],
   "source": [
    "died_datetime = pd.to_datetime(scientists['Died'], format='%Y-%m-%d')"
   ]
  },
  {
   "cell_type": "code",
   "execution_count": 108,
   "id": "786b1117",
   "metadata": {},
   "outputs": [],
   "source": [
    "scientists['born_dt'], scientists['died_dt'] = (born_datetime, died_datetime)"
   ]
  },
  {
   "cell_type": "code",
   "execution_count": 109,
   "id": "9d8814dc",
   "metadata": {},
   "outputs": [
    {
     "name": "stdout",
     "output_type": "stream",
     "text": [
      "                   Name        Born        Died  Age    Occupation    born_dt  \\\n",
      "0     Rosaline Franklin  1920-07-25  1958-04-16   37       Chemist 1920-07-25   \n",
      "1        William Gosset  1876-06-13  1937-10-16   61  Statistician 1876-06-13   \n",
      "2  Florence Nightingale  1820-05-12  1910-08-13   90         Nurse 1820-05-12   \n",
      "3           Marie Curie  1867-11-07  1934-07-04   66       Chemist 1867-11-07   \n",
      "4         Rachel Carson  1907-05-27  1964-04-14   56     Biologist 1907-05-27   \n",
      "\n",
      "     died_dt  \n",
      "0 1958-04-16  \n",
      "1 1937-10-16  \n",
      "2 1910-08-13  \n",
      "3 1934-07-04  \n",
      "4 1964-04-14  \n"
     ]
    }
   ],
   "source": [
    "print(scientists.head())"
   ]
  },
  {
   "cell_type": "code",
   "execution_count": 110,
   "id": "25ac723d",
   "metadata": {},
   "outputs": [
    {
     "name": "stdout",
     "output_type": "stream",
     "text": [
      "(8, 7)\n"
     ]
    }
   ],
   "source": [
    "print(scientists.shape)"
   ]
  },
  {
   "cell_type": "code",
   "execution_count": 111,
   "id": "d7a27234",
   "metadata": {},
   "outputs": [
    {
     "name": "stdout",
     "output_type": "stream",
     "text": [
      "Name                  object\n",
      "Born                  object\n",
      "Died                  object\n",
      "Age                    int64\n",
      "Occupation            object\n",
      "born_dt       datetime64[ns]\n",
      "died_dt       datetime64[ns]\n",
      "dtype: object\n"
     ]
    }
   ],
   "source": [
    "print(scientists.dtypes)"
   ]
  },
  {
   "cell_type": "markdown",
   "id": "48678753",
   "metadata": {},
   "source": [
    "#### [Do It! 실습] 열 내용 변경하기"
   ]
  },
  {
   "cell_type": "code",
   "execution_count": 112,
   "id": "3fcf23db",
   "metadata": {},
   "outputs": [
    {
     "name": "stdout",
     "output_type": "stream",
     "text": [
      "0    37\n",
      "1    61\n",
      "2    90\n",
      "3    66\n",
      "4    56\n",
      "5    45\n",
      "6    41\n",
      "7    77\n",
      "Name: Age, dtype: int64\n"
     ]
    }
   ],
   "source": [
    "print(scientists['Age'])"
   ]
  },
  {
   "cell_type": "code",
   "execution_count": 113,
   "id": "ac4587ff",
   "metadata": {},
   "outputs": [
    {
     "name": "stdout",
     "output_type": "stream",
     "text": [
      "1    61\n",
      "5    45\n",
      "0    37\n",
      "7    77\n",
      "2    90\n",
      "4    56\n",
      "3    66\n",
      "6    41\n",
      "Name: Age, dtype: int64\n"
     ]
    }
   ],
   "source": [
    "print(scientists[\"Age\"].sample(frac=1, random_state=42))"
   ]
  },
  {
   "cell_type": "code",
   "execution_count": 114,
   "id": "e2cfbd61",
   "metadata": {},
   "outputs": [
    {
     "name": "stdout",
     "output_type": "stream",
     "text": [
      "0    37\n",
      "1    61\n",
      "2    90\n",
      "3    66\n",
      "4    56\n",
      "5    45\n",
      "6    41\n",
      "7    77\n",
      "Name: Age, dtype: int64\n"
     ]
    }
   ],
   "source": [
    "scientists[\"Age\"] = scientists[\"Age\"].sample(frac=1, random_state=42)\n",
    "print(scientists['Age'])"
   ]
  },
  {
   "cell_type": "code",
   "execution_count": 115,
   "id": "8a08971f",
   "metadata": {},
   "outputs": [
    {
     "name": "stdout",
     "output_type": "stream",
     "text": [
      "0    61\n",
      "1    45\n",
      "2    37\n",
      "3    77\n",
      "4    90\n",
      "5    56\n",
      "6    66\n",
      "7    41\n",
      "Name: Age, dtype: int64\n"
     ]
    }
   ],
   "source": [
    "scientists[\"Age\"] = scientists[\"Age\"].sample(frac=1, random_state=42).values\n",
    "print(scientists['Age'])"
   ]
  },
  {
   "cell_type": "code",
   "execution_count": 116,
   "id": "e7d4b8ae",
   "metadata": {},
   "outputs": [
    {
     "name": "stdout",
     "output_type": "stream",
     "text": [
      "                   Name        Born        Died  Age          Occupation  \\\n",
      "0     Rosaline Franklin  1920-07-25  1958-04-16   61             Chemist   \n",
      "1        William Gosset  1876-06-13  1937-10-16   45        Statistician   \n",
      "2  Florence Nightingale  1820-05-12  1910-08-13   37               Nurse   \n",
      "3           Marie Curie  1867-11-07  1934-07-04   77             Chemist   \n",
      "4         Rachel Carson  1907-05-27  1964-04-14   90           Biologist   \n",
      "5             John Snow  1813-03-15  1858-06-16   56           Physician   \n",
      "6           Alan Turing  1912-06-23  1954-06-07   66  Computer Scientist   \n",
      "7          Johann Gauss  1777-04-30  1855-02-23   41       Mathematician   \n",
      "\n",
      "     born_dt    died_dt   age_days  \n",
      "0 1920-07-25 1958-04-16 13779 days  \n",
      "1 1876-06-13 1937-10-16 22404 days  \n",
      "2 1820-05-12 1910-08-13 32964 days  \n",
      "3 1867-11-07 1934-07-04 24345 days  \n",
      "4 1907-05-27 1964-04-14 20777 days  \n",
      "5 1813-03-15 1858-06-16 16529 days  \n",
      "6 1912-06-23 1954-06-07 15324 days  \n",
      "7 1777-04-30 1855-02-23 28422 days  \n"
     ]
    }
   ],
   "source": [
    "scientists['age_days'] = (scientists['died_dt'] - scientists['born_dt'])\n",
    "print(scientists)"
   ]
  },
  {
   "cell_type": "code",
   "execution_count": 117,
   "id": "2f4186be",
   "metadata": {},
   "outputs": [
    {
     "name": "stdout",
     "output_type": "stream",
     "text": [
      "                   Name        Born        Died  Age          Occupation  \\\n",
      "0     Rosaline Franklin  1920-07-25  1958-04-16   61             Chemist   \n",
      "1        William Gosset  1876-06-13  1937-10-16   45        Statistician   \n",
      "2  Florence Nightingale  1820-05-12  1910-08-13   37               Nurse   \n",
      "3           Marie Curie  1867-11-07  1934-07-04   77             Chemist   \n",
      "4         Rachel Carson  1907-05-27  1964-04-14   90           Biologist   \n",
      "5             John Snow  1813-03-15  1858-06-16   56           Physician   \n",
      "6           Alan Turing  1912-06-23  1954-06-07   66  Computer Scientist   \n",
      "7          Johann Gauss  1777-04-30  1855-02-23   41       Mathematician   \n",
      "\n",
      "     born_dt    died_dt   age_days  age_years  \n",
      "0 1920-07-25 1958-04-16 13779 days       37.0  \n",
      "1 1876-06-13 1937-10-16 22404 days       61.0  \n",
      "2 1820-05-12 1910-08-13 32964 days       90.0  \n",
      "3 1867-11-07 1934-07-04 24345 days       66.0  \n",
      "4 1907-05-27 1964-04-14 20777 days       56.0  \n",
      "5 1813-03-15 1858-06-16 16529 days       45.0  \n",
      "6 1912-06-23 1954-06-07 15324 days       41.0  \n",
      "7 1777-04-30 1855-02-23 28422 days       77.0  \n"
     ]
    }
   ],
   "source": [
    "# scientists['age_years'] = (scientists['age_days'].astype('timedelta64[Y]'))  # pandas 2.0.3 오류\n",
    "scientists['age_years'] = (scientists['age_days'].dt.days / 365).apply(np.floor)  # 날짜 수를 햇수로 변환\n",
    "\n",
    "print(scientists)"
   ]
  },
  {
   "cell_type": "markdown",
   "id": "f59a0248",
   "metadata": {},
   "source": [
    "#### [Do It! 실습] assign()으로 열 수정하기 "
   ]
  },
  {
   "cell_type": "code",
   "execution_count": 118,
   "id": "ce6d0cef",
   "metadata": {},
   "outputs": [
    {
     "name": "stdout",
     "output_type": "stream",
     "text": [
      "                   Name        Born        Died  Age          Occupation  \\\n",
      "0     Rosaline Franklin  1920-07-25  1958-04-16   61             Chemist   \n",
      "1        William Gosset  1876-06-13  1937-10-16   45        Statistician   \n",
      "2  Florence Nightingale  1820-05-12  1910-08-13   37               Nurse   \n",
      "3           Marie Curie  1867-11-07  1934-07-04   77             Chemist   \n",
      "4         Rachel Carson  1907-05-27  1964-04-14   90           Biologist   \n",
      "5             John Snow  1813-03-15  1858-06-16   56           Physician   \n",
      "6           Alan Turing  1912-06-23  1954-06-07   66  Computer Scientist   \n",
      "7          Johann Gauss  1777-04-30  1855-02-23   41       Mathematician   \n",
      "\n",
      "     born_dt    died_dt   age_days  age_years age_days_assign  age_year_assign  \n",
      "0 1920-07-25 1958-04-16 13779 days       37.0      13779 days             37.0  \n",
      "1 1876-06-13 1937-10-16 22404 days       61.0      22404 days             61.0  \n",
      "2 1820-05-12 1910-08-13 32964 days       90.0      32964 days             90.0  \n",
      "3 1867-11-07 1934-07-04 24345 days       66.0      24345 days             66.0  \n",
      "4 1907-05-27 1964-04-14 20777 days       56.0      20777 days             56.0  \n",
      "5 1813-03-15 1858-06-16 16529 days       45.0      16529 days             45.0  \n",
      "6 1912-06-23 1954-06-07 15324 days       41.0      15324 days             41.0  \n",
      "7 1777-04-30 1855-02-23 28422 days       77.0      28422 days             77.0  \n"
     ]
    }
   ],
   "source": [
    "scientists = scientists.assign(\n",
    "    age_days_assign=scientists['died_dt'] - scientists['born_dt'],\n",
    "    # age_year_assign=scientists['age_days'].astype('timedelta64[Y]'))  # pandas 2.0.3 오류\n",
    "    age_year_assign=(scientists['age_days'].dt.days / 365).apply(np.floor)\n",
    ")\n",
    "print(scientists)"
   ]
  },
  {
   "cell_type": "markdown",
   "id": "acecfb7a",
   "metadata": {},
   "source": [
    "##### <한 걸음 더!> 다른 방법으로 나이 계산하기"
   ]
  },
  {
   "cell_type": "code",
   "execution_count": 119,
   "id": "e14b4e07",
   "metadata": {},
   "outputs": [
    {
     "name": "stdout",
     "output_type": "stream",
     "text": [
      "                   Name        Born        Died  Age          Occupation  \\\n",
      "0     Rosaline Franklin  1920-07-25  1958-04-16   61             Chemist   \n",
      "1        William Gosset  1876-06-13  1937-10-16   45        Statistician   \n",
      "2  Florence Nightingale  1820-05-12  1910-08-13   37               Nurse   \n",
      "3           Marie Curie  1867-11-07  1934-07-04   77             Chemist   \n",
      "4         Rachel Carson  1907-05-27  1964-04-14   90           Biologist   \n",
      "5             John Snow  1813-03-15  1858-06-16   56           Physician   \n",
      "6           Alan Turing  1912-06-23  1954-06-07   66  Computer Scientist   \n",
      "7          Johann Gauss  1777-04-30  1855-02-23   41       Mathematician   \n",
      "\n",
      "     born_dt    died_dt   age_days  age_years age_days_assign  age_year_assign  \n",
      "0 1920-07-25 1958-04-16 13779 days       37.0      13779 days             37.0  \n",
      "1 1876-06-13 1937-10-16 22404 days       61.0      22404 days             61.0  \n",
      "2 1820-05-12 1910-08-13 32964 days       90.0      32964 days             90.0  \n",
      "3 1867-11-07 1934-07-04 24345 days       66.0      24345 days             66.0  \n",
      "4 1907-05-27 1964-04-14 20777 days       56.0      20777 days             56.0  \n",
      "5 1813-03-15 1858-06-16 16529 days       45.0      16529 days             45.0  \n",
      "6 1912-06-23 1954-06-07 15324 days       41.0      15324 days             41.0  \n",
      "7 1777-04-30 1855-02-23 28422 days       77.0      28422 days             77.0  \n"
     ]
    }
   ],
   "source": [
    "scientists = scientists.assign(\n",
    "    age_days_assign=scientists[\"died_dt\"] - scientists[\"born_dt\"],\n",
    "    # age_year_assign=lambda df_: df_[\"age_days_assign\"].astype(\"timedelta64[Y]\"),  # pandas 2.0.3 오류\n",
    "    age_year_assign=lambda df_: (df_[\"age_days_assign\"].dt.days / 365).apply(np.floor), \n",
    ")\n",
    "print(scientists)"
   ]
  },
  {
   "cell_type": "markdown",
   "id": "56964d40",
   "metadata": {},
   "source": [
    "#### [Do It! 실습] 열 삭제하기"
   ]
  },
  {
   "cell_type": "code",
   "execution_count": 120,
   "id": "621949ae",
   "metadata": {},
   "outputs": [
    {
     "name": "stdout",
     "output_type": "stream",
     "text": [
      "Index(['Name', 'Born', 'Died', 'Age', 'Occupation', 'born_dt', 'died_dt',\n",
      "       'age_days', 'age_years', 'age_days_assign', 'age_year_assign'],\n",
      "      dtype='object')\n"
     ]
    }
   ],
   "source": [
    "print(scientists.columns)"
   ]
  },
  {
   "cell_type": "code",
   "execution_count": 121,
   "id": "ebe1e85e",
   "metadata": {},
   "outputs": [],
   "source": [
    "scientists_dropped = scientists.drop(['Age'], axis=\"columns\")"
   ]
  },
  {
   "cell_type": "code",
   "execution_count": 122,
   "id": "d5d8a6d4",
   "metadata": {},
   "outputs": [
    {
     "name": "stdout",
     "output_type": "stream",
     "text": [
      "Index(['Name', 'Born', 'Died', 'Occupation', 'born_dt', 'died_dt', 'age_days',\n",
      "       'age_years', 'age_days_assign', 'age_year_assign'],\n",
      "      dtype='object')\n"
     ]
    }
   ],
   "source": [
    "print(scientists_dropped.columns)"
   ]
  },
  {
   "cell_type": "markdown",
   "id": "d3c8dd7d",
   "metadata": {},
   "source": [
    "## 03-5 데이터 저장하고 불러오기"
   ]
  },
  {
   "cell_type": "markdown",
   "id": "b2f7cbe5",
   "metadata": {},
   "source": [
    "### 피클로 저장하고 불러오기"
   ]
  },
  {
   "cell_type": "markdown",
   "id": "e510feeb",
   "metadata": {},
   "source": [
    "#### [Do It! 실습] 시리즈와 데이터프레임 저장하기"
   ]
  },
  {
   "cell_type": "code",
   "execution_count": 123,
   "id": "3a1306f3",
   "metadata": {},
   "outputs": [
    {
     "name": "stdout",
     "output_type": "stream",
     "text": [
      "0       Rosaline Franklin\n",
      "1          William Gosset\n",
      "2    Florence Nightingale\n",
      "3             Marie Curie\n",
      "4           Rachel Carson\n",
      "5               John Snow\n",
      "6             Alan Turing\n",
      "7            Johann Gauss\n",
      "Name: Name, dtype: object\n"
     ]
    }
   ],
   "source": [
    "names = scientists['Name']\n",
    "print(names)"
   ]
  },
  {
   "cell_type": "code",
   "execution_count": 124,
   "id": "ee00f574",
   "metadata": {},
   "outputs": [],
   "source": [
    "names.to_pickle('../output/scientists_names_series.pickle')"
   ]
  },
  {
   "cell_type": "code",
   "execution_count": 125,
   "id": "1510766c",
   "metadata": {},
   "outputs": [],
   "source": [
    "scientists.to_pickle('../output/scientists_df.pickle')"
   ]
  },
  {
   "cell_type": "markdown",
   "id": "1abc7a8b",
   "metadata": {},
   "source": [
    "#### [Do It! 실습] 피클 데이터 읽어 오기"
   ]
  },
  {
   "cell_type": "code",
   "execution_count": 126,
   "id": "4e23f1cd",
   "metadata": {},
   "outputs": [
    {
     "name": "stdout",
     "output_type": "stream",
     "text": [
      "0       Rosaline Franklin\n",
      "1          William Gosset\n",
      "2    Florence Nightingale\n",
      "3             Marie Curie\n",
      "4           Rachel Carson\n",
      "5               John Snow\n",
      "6             Alan Turing\n",
      "7            Johann Gauss\n",
      "Name: Name, dtype: object\n"
     ]
    }
   ],
   "source": [
    "series_pickle = pd.read_pickle('../output/scientists_names_series.pickle')\n",
    "print(series_pickle)"
   ]
  },
  {
   "cell_type": "code",
   "execution_count": 127,
   "id": "15324a2b",
   "metadata": {},
   "outputs": [
    {
     "name": "stdout",
     "output_type": "stream",
     "text": [
      "                   Name        Born        Died  Age          Occupation  \\\n",
      "0     Rosaline Franklin  1920-07-25  1958-04-16   61             Chemist   \n",
      "1        William Gosset  1876-06-13  1937-10-16   45        Statistician   \n",
      "2  Florence Nightingale  1820-05-12  1910-08-13   37               Nurse   \n",
      "3           Marie Curie  1867-11-07  1934-07-04   77             Chemist   \n",
      "4         Rachel Carson  1907-05-27  1964-04-14   90           Biologist   \n",
      "5             John Snow  1813-03-15  1858-06-16   56           Physician   \n",
      "6           Alan Turing  1912-06-23  1954-06-07   66  Computer Scientist   \n",
      "7          Johann Gauss  1777-04-30  1855-02-23   41       Mathematician   \n",
      "\n",
      "     born_dt    died_dt   age_days  age_years age_days_assign  age_year_assign  \n",
      "0 1920-07-25 1958-04-16 13779 days       37.0      13779 days             37.0  \n",
      "1 1876-06-13 1937-10-16 22404 days       61.0      22404 days             61.0  \n",
      "2 1820-05-12 1910-08-13 32964 days       90.0      32964 days             90.0  \n",
      "3 1867-11-07 1934-07-04 24345 days       66.0      24345 days             66.0  \n",
      "4 1907-05-27 1964-04-14 20777 days       56.0      20777 days             56.0  \n",
      "5 1813-03-15 1858-06-16 16529 days       45.0      16529 days             45.0  \n",
      "6 1912-06-23 1954-06-07 15324 days       41.0      15324 days             41.0  \n",
      "7 1777-04-30 1855-02-23 28422 days       77.0      28422 days             77.0  \n"
     ]
    }
   ],
   "source": [
    "dataframe_pickle = pd.read_pickle('../output/scientists_df.pickle')\n",
    "print(dataframe_pickle)"
   ]
  },
  {
   "cell_type": "markdown",
   "id": "5a42426b",
   "metadata": {},
   "source": [
    "### CSV와 TSV 파일로 저장하고 불러오기"
   ]
  },
  {
   "cell_type": "code",
   "execution_count": 128,
   "id": "b0930a3f",
   "metadata": {},
   "outputs": [],
   "source": [
    "scientists.to_csv('../output/scientists_df_no_index.csv', index=False)"
   ]
  },
  {
   "cell_type": "markdown",
   "id": "6971ce7b",
   "metadata": {},
   "source": [
    "### 엑셀로 저장하기"
   ]
  },
  {
   "cell_type": "markdown",
   "id": "8fb7bd90",
   "metadata": {},
   "source": [
    "#### [Do It! 실습] 시리즈와 데이터프레임 저장하기"
   ]
  },
  {
   "cell_type": "code",
   "execution_count": 129,
   "id": "34ad1451",
   "metadata": {},
   "outputs": [],
   "source": [
    "#!pip install openpyxl  # openpyxl이 없다면 주석을 제거하고 설치하세요."
   ]
  },
  {
   "cell_type": "code",
   "execution_count": 130,
   "id": "9131d8a1",
   "metadata": {},
   "outputs": [
    {
     "name": "stdout",
     "output_type": "stream",
     "text": [
      "0       Rosaline Franklin\n",
      "1          William Gosset\n",
      "2    Florence Nightingale\n",
      "3             Marie Curie\n",
      "4           Rachel Carson\n",
      "5               John Snow\n",
      "6             Alan Turing\n",
      "7            Johann Gauss\n",
      "Name: Name, dtype: object\n"
     ]
    }
   ],
   "source": [
    "names = scientists['Name']\n",
    "print(names)"
   ]
  },
  {
   "cell_type": "code",
   "execution_count": 131,
   "id": "231f702a",
   "metadata": {},
   "outputs": [],
   "source": [
    "names_df = names.to_frame()"
   ]
  },
  {
   "cell_type": "code",
   "execution_count": 132,
   "id": "8654808a",
   "metadata": {},
   "outputs": [],
   "source": [
    "names_df.to_excel('../output/scientists_names_series_df.xls',\n",
    "                  engine='openpyxl')"
   ]
  },
  {
   "cell_type": "code",
   "execution_count": 133,
   "id": "51e5d8e5",
   "metadata": {},
   "outputs": [],
   "source": [
    "scientists.to_excel(\"../output/scientists_df.xlsx\",\n",
    "                    sheet_name=\"scientists\",\n",
    "                    index=False)"
   ]
  },
  {
   "cell_type": "markdown",
   "id": "5023b58f",
   "metadata": {},
   "source": [
    "### 다양한 형식으로 저장하기"
   ]
  },
  {
   "cell_type": "markdown",
   "id": "66e44d3e",
   "metadata": {},
   "source": [
    "#### [Do It! 실습] feather 파일로 저장하기"
   ]
  },
  {
   "cell_type": "code",
   "execution_count": 134,
   "id": "89ff1034",
   "metadata": {},
   "outputs": [],
   "source": [
    "#!pip install pyarrow  # pyarrow가 없다면 주석을 제거하고 설치하세요."
   ]
  },
  {
   "cell_type": "code",
   "execution_count": 135,
   "id": "df42e805",
   "metadata": {},
   "outputs": [],
   "source": [
    "scientists.to_feather('../output/scientists.feather')"
   ]
  },
  {
   "cell_type": "code",
   "execution_count": 136,
   "id": "72ed82d2",
   "metadata": {},
   "outputs": [
    {
     "name": "stdout",
     "output_type": "stream",
     "text": [
      "                   Name        Born        Died  Age          Occupation  \\\n",
      "0     Rosaline Franklin  1920-07-25  1958-04-16   61             Chemist   \n",
      "1        William Gosset  1876-06-13  1937-10-16   45        Statistician   \n",
      "2  Florence Nightingale  1820-05-12  1910-08-13   37               Nurse   \n",
      "3           Marie Curie  1867-11-07  1934-07-04   77             Chemist   \n",
      "4         Rachel Carson  1907-05-27  1964-04-14   90           Biologist   \n",
      "5             John Snow  1813-03-15  1858-06-16   56           Physician   \n",
      "6           Alan Turing  1912-06-23  1954-06-07   66  Computer Scientist   \n",
      "7          Johann Gauss  1777-04-30  1855-02-23   41       Mathematician   \n",
      "\n",
      "     born_dt    died_dt   age_days  age_years age_days_assign  age_year_assign  \n",
      "0 1920-07-25 1958-04-16 13779 days       37.0      13779 days             37.0  \n",
      "1 1876-06-13 1937-10-16 22404 days       61.0      22404 days             61.0  \n",
      "2 1820-05-12 1910-08-13 32964 days       90.0      32964 days             90.0  \n",
      "3 1867-11-07 1934-07-04 24345 days       66.0      24345 days             66.0  \n",
      "4 1907-05-27 1964-04-14 20777 days       56.0      20777 days             56.0  \n",
      "5 1813-03-15 1858-06-16 16529 days       45.0      16529 days             45.0  \n",
      "6 1912-06-23 1954-06-07 15324 days       41.0      15324 days             41.0  \n",
      "7 1777-04-30 1855-02-23 28422 days       77.0      28422 days             77.0  \n"
     ]
    }
   ],
   "source": [
    "sci_feather = pd.read_feather('../output/scientists.feather')\n",
    "print(sci_feather)"
   ]
  },
  {
   "cell_type": "markdown",
   "id": "daa33bd3",
   "metadata": {},
   "source": [
    "#### [Do It! 실습] 딕셔너리로 변환하기"
   ]
  },
  {
   "cell_type": "code",
   "execution_count": 137,
   "id": "bf261336",
   "metadata": {},
   "outputs": [],
   "source": [
    "sci_sub_dict = scientists.head(2)"
   ]
  },
  {
   "cell_type": "code",
   "execution_count": 138,
   "id": "de86535b",
   "metadata": {},
   "outputs": [],
   "source": [
    "sci_dict = sci_sub_dict.to_dict()"
   ]
  },
  {
   "cell_type": "code",
   "execution_count": 139,
   "id": "880b85a8",
   "metadata": {},
   "outputs": [
    {
     "name": "stdout",
     "output_type": "stream",
     "text": [
      "{'Age': {0: 61, 1: 45},\n",
      " 'Born': {0: '1920-07-25', 1: '1876-06-13'},\n",
      " 'Died': {0: '1958-04-16', 1: '1937-10-16'},\n",
      " 'Name': {0: 'Rosaline Franklin', 1: 'William Gosset'},\n",
      " 'Occupation': {0: 'Chemist', 1: 'Statistician'},\n",
      " 'age_days': {0: Timedelta('13779 days 00:00:00'),\n",
      "              1: Timedelta('22404 days 00:00:00')},\n",
      " 'age_days_assign': {0: Timedelta('13779 days 00:00:00'),\n",
      "                     1: Timedelta('22404 days 00:00:00')},\n",
      " 'age_year_assign': {0: 37.0, 1: 61.0},\n",
      " 'age_years': {0: 37.0, 1: 61.0},\n",
      " 'born_dt': {0: Timestamp('1920-07-25 00:00:00'),\n",
      "             1: Timestamp('1876-06-13 00:00:00')},\n",
      " 'died_dt': {0: Timestamp('1958-04-16 00:00:00'),\n",
      "             1: Timestamp('1937-10-16 00:00:00')}}\n"
     ]
    }
   ],
   "source": [
    "import pprint\n",
    "pprint.pprint(sci_dict)"
   ]
  },
  {
   "cell_type": "code",
   "execution_count": 140,
   "id": "cc706fb0",
   "metadata": {},
   "outputs": [
    {
     "name": "stdout",
     "output_type": "stream",
     "text": [
      "                Name        Born        Died  Age    Occupation    born_dt  \\\n",
      "0  Rosaline Franklin  1920-07-25  1958-04-16   61       Chemist 1920-07-25   \n",
      "1     William Gosset  1876-06-13  1937-10-16   45  Statistician 1876-06-13   \n",
      "\n",
      "     died_dt   age_days  age_years age_days_assign  age_year_assign  \n",
      "0 1958-04-16 13779 days       37.0      13779 days             37.0  \n",
      "1 1937-10-16 22404 days       61.0      22404 days             61.0  \n"
     ]
    }
   ],
   "source": [
    "sci_dict_df = pd.DataFrame.from_dict(sci_dict)\n",
    "print(sci_dict_df)"
   ]
  },
  {
   "cell_type": "markdown",
   "id": "41835ae9",
   "metadata": {},
   "source": [
    "#### [Do It! 실습] JSON으로 저장하기"
   ]
  },
  {
   "cell_type": "code",
   "execution_count": 141,
   "id": "8b3bcfae",
   "metadata": {},
   "outputs": [
    {
     "name": "stdout",
     "output_type": "stream",
     "text": [
      "('[\\n'\n",
      " '  {\\n'\n",
      " '    \"Name\":\"Rosaline Franklin\",\\n'\n",
      " '    \"Born\":\"1920-07-25\",\\n'\n",
      " '    \"Died\":\"1958-04-16\",\\n'\n",
      " '    \"Age\":61,\\n'\n",
      " '    \"Occupation\":\"Chemist\",\\n'\n",
      " '    \"born_dt\":\"1920-07-25T00:00:00.000\",\\n'\n",
      " '    \"died_dt\":\"1958-04-16T00:00:00.000\",\\n'\n",
      " '    \"age_days\":\"P13779DT0H0M0S\",\\n'\n",
      " '    \"age_years\":37.0,\\n'\n",
      " '    \"age_days_assign\":\"P13779DT0H0M0S\",\\n'\n",
      " '    \"age_year_assign\":37.0\\n'\n",
      " '  },\\n'\n",
      " '  {\\n'\n",
      " '    \"Name\":\"William Gosset\",\\n'\n",
      " '    \"Born\":\"1876-06-13\",\\n'\n",
      " '    \"Died\":\"1937-10-16\",\\n'\n",
      " '    \"Age\":45,\\n'\n",
      " '    \"Occupation\":\"Statistician\",\\n'\n",
      " '    \"born_dt\":\"1876-06-13T00:00:00.000\",\\n'\n",
      " '    \"died_dt\":\"1937-10-16T00:00:00.000\",\\n'\n",
      " '    \"age_days\":\"P22404DT0H0M0S\",\\n'\n",
      " '    \"age_years\":61.0,\\n'\n",
      " '    \"age_days_assign\":\"P22404DT0H0M0S\",\\n'\n",
      " '    \"age_year_assign\":61.0\\n'\n",
      " '  }\\n'\n",
      " ']')\n"
     ]
    }
   ],
   "source": [
    "sci_json = sci_sub_dict.to_json(orient='records', indent=2, date_format=\"iso\")\n",
    "pprint.pprint(sci_json)"
   ]
  },
  {
   "cell_type": "code",
   "execution_count": 142,
   "id": "bf436259",
   "metadata": {},
   "outputs": [
    {
     "name": "stdout",
     "output_type": "stream",
     "text": [
      "                Name        Born        Died  Age    Occupation  \\\n",
      "0  Rosaline Franklin  1920-07-25  1958-04-16   61       Chemist   \n",
      "1     William Gosset  1876-06-13  1937-10-16   45  Statistician   \n",
      "\n",
      "                   born_dt                  died_dt        age_days  \\\n",
      "0  1920-07-25T00:00:00.000  1958-04-16T00:00:00.000  P13779DT0H0M0S   \n",
      "1  1876-06-13T00:00:00.000  1937-10-16T00:00:00.000  P22404DT0H0M0S   \n",
      "\n",
      "   age_years age_days_assign  age_year_assign  \n",
      "0         37  P13779DT0H0M0S               37  \n",
      "1         61  P22404DT0H0M0S               61  \n"
     ]
    }
   ],
   "source": [
    "sci_json_df = pd.read_json(\n",
    "    ('[\\n'\n",
    " '  {\\n'\n",
    " '    \"Name\":\"Rosaline Franklin\",\\n'\n",
    " '    \"Born\":\"1920-07-25\",\\n'\n",
    " '    \"Died\":\"1958-04-16\",\\n'\n",
    " '    \"Age\":61,\\n'\n",
    " '    \"Occupation\":\"Chemist\",\\n'\n",
    " '    \"born_dt\":\"1920-07-25T00:00:00.000\",\\n'\n",
    " '    \"died_dt\":\"1958-04-16T00:00:00.000\",\\n'\n",
    " '    \"age_days\":\"P13779DT0H0M0S\",\\n'\n",
    " '    \"age_years\":37.0,\\n'\n",
    " '    \"age_days_assign\":\"P13779DT0H0M0S\",\\n'\n",
    " '    \"age_year_assign\":37.0\\n'\n",
    " '  },\\n'\n",
    " '  {\\n'\n",
    " '    \"Name\":\"William Gosset\",\\n'\n",
    " '    \"Born\":\"1876-06-13\",\\n'\n",
    " '    \"Died\":\"1937-10-16\",\\n'\n",
    " '    \"Age\":45,\\n'\n",
    " '    \"Occupation\":\"Statistician\",\\n'\n",
    " '    \"born_dt\":\"1876-06-13T00:00:00.000\",\\n'\n",
    " '    \"died_dt\":\"1937-10-16T00:00:00.000\",\\n'\n",
    " '    \"age_days\":\"P22404DT0H0M0S\",\\n'\n",
    " '    \"age_years\":61.0,\\n'\n",
    " '    \"age_days_assign\":\"P22404DT0H0M0S\",\\n'\n",
    " '    \"age_year_assign\":61.0\\n'\n",
    " '  }\\n'\n",
    " ']'),\n",
    "     orient=\"records\"\n",
    ")\n",
    "print(sci_json_df)"
   ]
  },
  {
   "cell_type": "code",
   "execution_count": 143,
   "id": "fb9656b3",
   "metadata": {},
   "outputs": [
    {
     "name": "stdout",
     "output_type": "stream",
     "text": [
      "Name               object\n",
      "Born               object\n",
      "Died               object\n",
      "Age                 int64\n",
      "Occupation         object\n",
      "born_dt            object\n",
      "died_dt            object\n",
      "age_days           object\n",
      "age_years           int64\n",
      "age_days_assign    object\n",
      "age_year_assign     int64\n",
      "dtype: object\n"
     ]
    }
   ],
   "source": [
    "print(sci_json_df.dtypes)"
   ]
  },
  {
   "cell_type": "code",
   "execution_count": 144,
   "id": "dd4ce3f5",
   "metadata": {},
   "outputs": [
    {
     "name": "stdout",
     "output_type": "stream",
     "text": [
      "                Name        Born        Died  Age    Occupation  \\\n",
      "0  Rosaline Franklin  1920-07-25  1958-04-16   61       Chemist   \n",
      "1     William Gosset  1876-06-13  1937-10-16   45  Statistician   \n",
      "\n",
      "                   born_dt                  died_dt        age_days  \\\n",
      "0  1920-07-25T00:00:00.000  1958-04-16T00:00:00.000  P13779DT0H0M0S   \n",
      "1  1876-06-13T00:00:00.000  1937-10-16T00:00:00.000  P22404DT0H0M0S   \n",
      "\n",
      "   age_years age_days_assign  age_year_assign died_dt_json  \n",
      "0         37  P13779DT0H0M0S               37   1958-04-16  \n",
      "1         61  P22404DT0H0M0S               61   1937-10-16  \n"
     ]
    }
   ],
   "source": [
    "sci_json_df[\"died_dt_json\"] = pd.to_datetime(sci_json_df[\"died_dt\"])\n",
    "print(sci_json_df)"
   ]
  },
  {
   "cell_type": "code",
   "execution_count": 145,
   "id": "635c43fc",
   "metadata": {},
   "outputs": [
    {
     "name": "stdout",
     "output_type": "stream",
     "text": [
      "Name                       object\n",
      "Born                       object\n",
      "Died                       object\n",
      "Age                         int64\n",
      "Occupation                 object\n",
      "born_dt                    object\n",
      "died_dt                    object\n",
      "age_days                   object\n",
      "age_years                   int64\n",
      "age_days_assign            object\n",
      "age_year_assign             int64\n",
      "died_dt_json       datetime64[ns]\n",
      "dtype: object\n"
     ]
    }
   ],
   "source": [
    "print(sci_json_df.dtypes)"
   ]
  },
  {
   "cell_type": "code",
   "execution_count": null,
   "id": "edb468b4",
   "metadata": {},
   "outputs": [],
   "source": []
  }
 ],
 "metadata": {
  "kernelspec": {
   "display_name": "Python 3 (ipykernel)",
   "language": "python",
   "name": "python3"
  },
  "language_info": {
   "codemirror_mode": {
    "name": "ipython",
    "version": 3
   },
   "file_extension": ".py",
   "mimetype": "text/x-python",
   "name": "python",
   "nbconvert_exporter": "python",
   "pygments_lexer": "ipython3",
   "version": "3.11.7"
  },
  "toc": {
   "base_numbering": 1,
   "nav_menu": {},
   "number_sections": false,
   "sideBar": false,
   "skip_h1_title": false,
   "title_cell": "Table of Contents",
   "title_sidebar": "Contents",
   "toc_cell": false,
   "toc_position": {
    "height": "713px",
    "left": "1098px",
    "top": "110.533px",
    "width": "177px"
   },
   "toc_section_display": true,
   "toc_window_display": true
  }
 },
 "nbformat": 4,
 "nbformat_minor": 5
}
