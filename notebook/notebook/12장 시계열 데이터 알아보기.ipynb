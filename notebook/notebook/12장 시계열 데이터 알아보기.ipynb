{
 "cells": [
  {
   "cell_type": "markdown",
   "id": "d9d1c57e",
   "metadata": {},
   "source": [
    "## 12-1 datetime 객체"
   ]
  },
  {
   "cell_type": "code",
   "execution_count": 77,
   "id": "5738dfc3",
   "metadata": {},
   "outputs": [],
   "source": [
    "from datetime import datetime"
   ]
  },
  {
   "cell_type": "code",
   "execution_count": 78,
   "id": "7c187330",
   "metadata": {},
   "outputs": [
    {
     "name": "stdout",
     "output_type": "stream",
     "text": [
      "2023-10-18 09:33:26.490929\n"
     ]
    }
   ],
   "source": [
    "now = datetime.now()\n",
    "print(now)"
   ]
  },
  {
   "cell_type": "code",
   "execution_count": 79,
   "id": "ec37a4cb",
   "metadata": {},
   "outputs": [
    {
     "name": "stdout",
     "output_type": "stream",
     "text": [
      "2023-10-18 09:33:26.504689\n",
      "1970-01-01 00:00:00\n"
     ]
    }
   ],
   "source": [
    "t1 = datetime.now()\n",
    "t2 = datetime(1970, 1, 1)\n",
    "print(t1)\n",
    "print(t2)"
   ]
  },
  {
   "cell_type": "code",
   "execution_count": 80,
   "id": "626d4373",
   "metadata": {},
   "outputs": [
    {
     "name": "stdout",
     "output_type": "stream",
     "text": [
      "19648 days, 9:33:26.504689\n"
     ]
    }
   ],
   "source": [
    "diff = t1 - t2\n",
    "print(diff)"
   ]
  },
  {
   "cell_type": "code",
   "execution_count": 81,
   "id": "d243f1c5",
   "metadata": {},
   "outputs": [
    {
     "name": "stdout",
     "output_type": "stream",
     "text": [
      "<class 'datetime.timedelta'>\n"
     ]
    }
   ],
   "source": [
    "print(type(diff))"
   ]
  },
  {
   "cell_type": "markdown",
   "id": "b0d406bf",
   "metadata": {},
   "source": [
    "## 12-2 datetime으로 변환하기"
   ]
  },
  {
   "cell_type": "code",
   "execution_count": 82,
   "id": "3cbbbfe5",
   "metadata": {},
   "outputs": [
    {
     "name": "stdout",
     "output_type": "stream",
     "text": [
      "         Date  Day  Cases_Guinea  Cases_Liberia  Cases_SierraLeone\n",
      "0    1/5/2015  289        2776.0            NaN            10030.0\n",
      "1    1/4/2015  288        2775.0            NaN             9780.0\n",
      "2    1/3/2015  287        2769.0         8166.0             9722.0\n",
      "3    1/2/2015  286           NaN         8157.0                NaN\n",
      "4  12/31/2014  284        2730.0         8115.0             9633.0\n"
     ]
    }
   ],
   "source": [
    "import pandas as pd\n",
    "\n",
    "ebola = pd.read_csv('../data/country_timeseries.csv')\n",
    "print(ebola.iloc[:5, :5])"
   ]
  },
  {
   "cell_type": "code",
   "execution_count": 83,
   "id": "68bde0e4",
   "metadata": {},
   "outputs": [
    {
     "name": "stdout",
     "output_type": "stream",
     "text": [
      "<class 'pandas.core.frame.DataFrame'>\n",
      "RangeIndex: 122 entries, 0 to 121\n",
      "Data columns (total 18 columns):\n",
      " #   Column               Non-Null Count  Dtype  \n",
      "---  ------               --------------  -----  \n",
      " 0   Date                 122 non-null    object \n",
      " 1   Day                  122 non-null    int64  \n",
      " 2   Cases_Guinea         93 non-null     float64\n",
      " 3   Cases_Liberia        83 non-null     float64\n",
      " 4   Cases_SierraLeone    87 non-null     float64\n",
      " 5   Cases_Nigeria        38 non-null     float64\n",
      " 6   Cases_Senegal        25 non-null     float64\n",
      " 7   Cases_UnitedStates   18 non-null     float64\n",
      " 8   Cases_Spain          16 non-null     float64\n",
      " 9   Cases_Mali           12 non-null     float64\n",
      " 10  Deaths_Guinea        92 non-null     float64\n",
      " 11  Deaths_Liberia       81 non-null     float64\n",
      " 12  Deaths_SierraLeone   87 non-null     float64\n",
      " 13  Deaths_Nigeria       38 non-null     float64\n",
      " 14  Deaths_Senegal       22 non-null     float64\n",
      " 15  Deaths_UnitedStates  18 non-null     float64\n",
      " 16  Deaths_Spain         16 non-null     float64\n",
      " 17  Deaths_Mali          12 non-null     float64\n",
      "dtypes: float64(16), int64(1), object(1)\n",
      "memory usage: 17.3+ KB\n",
      "None\n"
     ]
    }
   ],
   "source": [
    "print(ebola.info())"
   ]
  },
  {
   "cell_type": "code",
   "execution_count": 84,
   "id": "3741a09a",
   "metadata": {},
   "outputs": [],
   "source": [
    "ebola['date_dt'] = pd.to_datetime(ebola['Date'])"
   ]
  },
  {
   "cell_type": "code",
   "execution_count": 85,
   "id": "ac970449",
   "metadata": {},
   "outputs": [],
   "source": [
    "ebola['date_dt'] = pd.to_datetime(ebola['Date'], format='%m/%d/%Y')"
   ]
  },
  {
   "cell_type": "code",
   "execution_count": 86,
   "id": "4b4253b9",
   "metadata": {},
   "outputs": [
    {
     "name": "stdout",
     "output_type": "stream",
     "text": [
      "<class 'pandas.core.frame.DataFrame'>\n",
      "RangeIndex: 122 entries, 0 to 121\n",
      "Data columns (total 19 columns):\n",
      " #   Column               Non-Null Count  Dtype         \n",
      "---  ------               --------------  -----         \n",
      " 0   Date                 122 non-null    object        \n",
      " 1   Day                  122 non-null    int64         \n",
      " 2   Cases_Guinea         93 non-null     float64       \n",
      " 3   Cases_Liberia        83 non-null     float64       \n",
      " 4   Cases_SierraLeone    87 non-null     float64       \n",
      " 5   Cases_Nigeria        38 non-null     float64       \n",
      " 6   Cases_Senegal        25 non-null     float64       \n",
      " 7   Cases_UnitedStates   18 non-null     float64       \n",
      " 8   Cases_Spain          16 non-null     float64       \n",
      " 9   Cases_Mali           12 non-null     float64       \n",
      " 10  Deaths_Guinea        92 non-null     float64       \n",
      " 11  Deaths_Liberia       81 non-null     float64       \n",
      " 12  Deaths_SierraLeone   87 non-null     float64       \n",
      " 13  Deaths_Nigeria       38 non-null     float64       \n",
      " 14  Deaths_Senegal       22 non-null     float64       \n",
      " 15  Deaths_UnitedStates  18 non-null     float64       \n",
      " 16  Deaths_Spain         16 non-null     float64       \n",
      " 17  Deaths_Mali          12 non-null     float64       \n",
      " 18  date_dt              122 non-null    datetime64[ns]\n",
      "dtypes: datetime64[ns](1), float64(16), int64(1), object(1)\n",
      "memory usage: 18.2+ KB\n",
      "None\n"
     ]
    }
   ],
   "source": [
    "print(ebola.info())"
   ]
  },
  {
   "cell_type": "markdown",
   "id": "dcd8f2c6",
   "metadata": {},
   "source": [
    "## 12-3 시계열 데이터 불러오기"
   ]
  },
  {
   "cell_type": "code",
   "execution_count": 87,
   "id": "6c5db757",
   "metadata": {},
   "outputs": [
    {
     "name": "stdout",
     "output_type": "stream",
     "text": [
      "<class 'pandas.core.frame.DataFrame'>\n",
      "RangeIndex: 122 entries, 0 to 121\n",
      "Data columns (total 18 columns):\n",
      " #   Column               Non-Null Count  Dtype         \n",
      "---  ------               --------------  -----         \n",
      " 0   Date                 122 non-null    datetime64[ns]\n",
      " 1   Day                  122 non-null    int64         \n",
      " 2   Cases_Guinea         93 non-null     float64       \n",
      " 3   Cases_Liberia        83 non-null     float64       \n",
      " 4   Cases_SierraLeone    87 non-null     float64       \n",
      " 5   Cases_Nigeria        38 non-null     float64       \n",
      " 6   Cases_Senegal        25 non-null     float64       \n",
      " 7   Cases_UnitedStates   18 non-null     float64       \n",
      " 8   Cases_Spain          16 non-null     float64       \n",
      " 9   Cases_Mali           12 non-null     float64       \n",
      " 10  Deaths_Guinea        92 non-null     float64       \n",
      " 11  Deaths_Liberia       81 non-null     float64       \n",
      " 12  Deaths_SierraLeone   87 non-null     float64       \n",
      " 13  Deaths_Nigeria       38 non-null     float64       \n",
      " 14  Deaths_Senegal       22 non-null     float64       \n",
      " 15  Deaths_UnitedStates  18 non-null     float64       \n",
      " 16  Deaths_Spain         16 non-null     float64       \n",
      " 17  Deaths_Mali          12 non-null     float64       \n",
      "dtypes: datetime64[ns](1), float64(16), int64(1)\n",
      "memory usage: 17.3 KB\n",
      "None\n"
     ]
    }
   ],
   "source": [
    "ebola = pd.read_csv('../data/country_timeseries.csv', parse_dates=[\"Date\"])\n",
    "print(ebola.info())"
   ]
  },
  {
   "cell_type": "markdown",
   "id": "dfeabf54",
   "metadata": {},
   "source": [
    "## 12-4 시간 정보 추출하기"
   ]
  },
  {
   "cell_type": "code",
   "execution_count": 88,
   "id": "cfefe584",
   "metadata": {},
   "outputs": [
    {
     "name": "stdout",
     "output_type": "stream",
     "text": [
      "2021-12-14 00:00:00\n",
      "<class 'pandas._libs.tslibs.timestamps.Timestamp'>\n"
     ]
    }
   ],
   "source": [
    "d = pd.to_datetime('2021-12-14')\n",
    "print(d)\n",
    "print(type(d))"
   ]
  },
  {
   "cell_type": "code",
   "execution_count": 89,
   "id": "30c4b513",
   "metadata": {},
   "outputs": [
    {
     "name": "stdout",
     "output_type": "stream",
     "text": [
      "2021\n",
      "12\n",
      "14\n"
     ]
    }
   ],
   "source": [
    "print(d.year)\n",
    "print(d.month)\n",
    "print(d.day)"
   ]
  },
  {
   "cell_type": "code",
   "execution_count": 90,
   "id": "dd51bf49",
   "metadata": {},
   "outputs": [
    {
     "name": "stdout",
     "output_type": "stream",
     "text": [
      "          Date    date_dt\n",
      "0   2015-01-05 2015-01-05\n",
      "1   2015-01-04 2015-01-04\n",
      "2   2015-01-03 2015-01-03\n",
      "3   2015-01-02 2015-01-02\n",
      "4   2014-12-31 2014-12-31\n",
      "..         ...        ...\n",
      "117 2014-03-27 2014-03-27\n",
      "118 2014-03-26 2014-03-26\n",
      "119 2014-03-25 2014-03-25\n",
      "120 2014-03-24 2014-03-24\n",
      "121 2014-03-22 2014-03-22\n",
      "\n",
      "[122 rows x 2 columns]\n"
     ]
    }
   ],
   "source": [
    "ebola['date_dt'] = pd.to_datetime(ebola['Date'])\n",
    "print(ebola[['Date', 'date_dt']])"
   ]
  },
  {
   "cell_type": "code",
   "execution_count": 91,
   "id": "c72a0390",
   "metadata": {},
   "outputs": [
    {
     "name": "stdout",
     "output_type": "stream",
     "text": [
      "          Date    date_dt  year\n",
      "0   2015-01-05 2015-01-05  2015\n",
      "1   2015-01-04 2015-01-04  2015\n",
      "2   2015-01-03 2015-01-03  2015\n",
      "3   2015-01-02 2015-01-02  2015\n",
      "4   2014-12-31 2014-12-31  2014\n",
      "..         ...        ...   ...\n",
      "117 2014-03-27 2014-03-27  2014\n",
      "118 2014-03-26 2014-03-26  2014\n",
      "119 2014-03-25 2014-03-25  2014\n",
      "120 2014-03-24 2014-03-24  2014\n",
      "121 2014-03-22 2014-03-22  2014\n",
      "\n",
      "[122 rows x 3 columns]\n"
     ]
    }
   ],
   "source": [
    "ebola['year'] = ebola['date_dt'].dt.year\n",
    "print(ebola[['Date', 'date_dt', 'year']])"
   ]
  },
  {
   "cell_type": "code",
   "execution_count": 92,
   "id": "6a3035ae",
   "metadata": {},
   "outputs": [
    {
     "name": "stdout",
     "output_type": "stream",
     "text": [
      "          Date    date_dt  year  month  day\n",
      "0   2015-01-05 2015-01-05  2015      1    5\n",
      "1   2015-01-04 2015-01-04  2015      1    4\n",
      "2   2015-01-03 2015-01-03  2015      1    3\n",
      "3   2015-01-02 2015-01-02  2015      1    2\n",
      "4   2014-12-31 2014-12-31  2014     12   31\n",
      "..         ...        ...   ...    ...  ...\n",
      "117 2014-03-27 2014-03-27  2014      3   27\n",
      "118 2014-03-26 2014-03-26  2014      3   26\n",
      "119 2014-03-25 2014-03-25  2014      3   25\n",
      "120 2014-03-24 2014-03-24  2014      3   24\n",
      "121 2014-03-22 2014-03-22  2014      3   22\n",
      "\n",
      "[122 rows x 5 columns]\n"
     ]
    }
   ],
   "source": [
    "ebola = ebola.assign(\n",
    "    month=ebola[\"date_dt\"].dt.month,\n",
    "    day=ebola[\"date_dt\"].dt.day\n",
    ")\n",
    "print(ebola[['Date', 'date_dt', 'year', 'month', 'day']])"
   ]
  },
  {
   "cell_type": "code",
   "execution_count": 93,
   "id": "70a6c173",
   "metadata": {},
   "outputs": [
    {
     "name": "stdout",
     "output_type": "stream",
     "text": [
      "<class 'pandas.core.frame.DataFrame'>\n",
      "RangeIndex: 122 entries, 0 to 121\n",
      "Data columns (total 22 columns):\n",
      " #   Column               Non-Null Count  Dtype         \n",
      "---  ------               --------------  -----         \n",
      " 0   Date                 122 non-null    datetime64[ns]\n",
      " 1   Day                  122 non-null    int64         \n",
      " 2   Cases_Guinea         93 non-null     float64       \n",
      " 3   Cases_Liberia        83 non-null     float64       \n",
      " 4   Cases_SierraLeone    87 non-null     float64       \n",
      " 5   Cases_Nigeria        38 non-null     float64       \n",
      " 6   Cases_Senegal        25 non-null     float64       \n",
      " 7   Cases_UnitedStates   18 non-null     float64       \n",
      " 8   Cases_Spain          16 non-null     float64       \n",
      " 9   Cases_Mali           12 non-null     float64       \n",
      " 10  Deaths_Guinea        92 non-null     float64       \n",
      " 11  Deaths_Liberia       81 non-null     float64       \n",
      " 12  Deaths_SierraLeone   87 non-null     float64       \n",
      " 13  Deaths_Nigeria       38 non-null     float64       \n",
      " 14  Deaths_Senegal       22 non-null     float64       \n",
      " 15  Deaths_UnitedStates  18 non-null     float64       \n",
      " 16  Deaths_Spain         16 non-null     float64       \n",
      " 17  Deaths_Mali          12 non-null     float64       \n",
      " 18  date_dt              122 non-null    datetime64[ns]\n",
      " 19  year                 122 non-null    int32         \n",
      " 20  month                122 non-null    int32         \n",
      " 21  day                  122 non-null    int32         \n",
      "dtypes: datetime64[ns](2), float64(16), int32(3), int64(1)\n",
      "memory usage: 19.7 KB\n",
      "None\n"
     ]
    }
   ],
   "source": [
    "print(ebola.info())"
   ]
  },
  {
   "cell_type": "markdown",
   "id": "60ec769e",
   "metadata": {},
   "source": [
    "## 12-5 시간 간격 계산하기"
   ]
  },
  {
   "cell_type": "code",
   "execution_count": 94,
   "id": "7cbfd244",
   "metadata": {},
   "outputs": [
    {
     "name": "stdout",
     "output_type": "stream",
     "text": [
      "          Date  Day  Cases_Guinea  Cases_Liberia  Cases_SierraLeone\n",
      "117 2014-03-27    5         103.0            8.0                6.0\n",
      "118 2014-03-26    4          86.0            NaN                NaN\n",
      "119 2014-03-25    3          86.0            NaN                NaN\n",
      "120 2014-03-24    2          86.0            NaN                NaN\n",
      "121 2014-03-22    0          49.0            NaN                NaN\n"
     ]
    }
   ],
   "source": [
    "print(ebola.iloc[-5:, :5])"
   ]
  },
  {
   "cell_type": "code",
   "execution_count": 95,
   "id": "498ad0d4",
   "metadata": {},
   "outputs": [
    {
     "name": "stdout",
     "output_type": "stream",
     "text": [
      "2014-03-22 00:00:00\n"
     ]
    }
   ],
   "source": [
    "print(ebola['date_dt'].min())"
   ]
  },
  {
   "cell_type": "code",
   "execution_count": 96,
   "id": "df18d4fb",
   "metadata": {},
   "outputs": [
    {
     "name": "stdout",
     "output_type": "stream",
     "text": [
      "          Date  Day outbreak_d\n",
      "0   2015-01-05  289   289 days\n",
      "1   2015-01-04  288   288 days\n",
      "2   2015-01-03  287   287 days\n",
      "3   2015-01-02  286   286 days\n",
      "4   2014-12-31  284   284 days\n",
      "..         ...  ...        ...\n",
      "117 2014-03-27    5     5 days\n",
      "118 2014-03-26    4     4 days\n",
      "119 2014-03-25    3     3 days\n",
      "120 2014-03-24    2     2 days\n",
      "121 2014-03-22    0     0 days\n",
      "\n",
      "[122 rows x 3 columns]\n"
     ]
    }
   ],
   "source": [
    "ebola['outbreak_d'] = ebola['date_dt'] - ebola['date_dt'].min()\n",
    "print(ebola[['Date', 'Day', 'outbreak_d']])"
   ]
  },
  {
   "cell_type": "code",
   "execution_count": 97,
   "id": "46a75199",
   "metadata": {},
   "outputs": [
    {
     "name": "stdout",
     "output_type": "stream",
     "text": [
      "<class 'pandas.core.frame.DataFrame'>\n",
      "RangeIndex: 122 entries, 0 to 121\n",
      "Data columns (total 23 columns):\n",
      " #   Column               Non-Null Count  Dtype          \n",
      "---  ------               --------------  -----          \n",
      " 0   Date                 122 non-null    datetime64[ns] \n",
      " 1   Day                  122 non-null    int64          \n",
      " 2   Cases_Guinea         93 non-null     float64        \n",
      " 3   Cases_Liberia        83 non-null     float64        \n",
      " 4   Cases_SierraLeone    87 non-null     float64        \n",
      " 5   Cases_Nigeria        38 non-null     float64        \n",
      " 6   Cases_Senegal        25 non-null     float64        \n",
      " 7   Cases_UnitedStates   18 non-null     float64        \n",
      " 8   Cases_Spain          16 non-null     float64        \n",
      " 9   Cases_Mali           12 non-null     float64        \n",
      " 10  Deaths_Guinea        92 non-null     float64        \n",
      " 11  Deaths_Liberia       81 non-null     float64        \n",
      " 12  Deaths_SierraLeone   87 non-null     float64        \n",
      " 13  Deaths_Nigeria       38 non-null     float64        \n",
      " 14  Deaths_Senegal       22 non-null     float64        \n",
      " 15  Deaths_UnitedStates  18 non-null     float64        \n",
      " 16  Deaths_Spain         16 non-null     float64        \n",
      " 17  Deaths_Mali          12 non-null     float64        \n",
      " 18  date_dt              122 non-null    datetime64[ns] \n",
      " 19  year                 122 non-null    int32          \n",
      " 20  month                122 non-null    int32          \n",
      " 21  day                  122 non-null    int32          \n",
      " 22  outbreak_d           122 non-null    timedelta64[ns]\n",
      "dtypes: datetime64[ns](2), float64(16), int32(3), int64(1), timedelta64[ns](1)\n",
      "memory usage: 20.6 KB\n",
      "None\n"
     ]
    }
   ],
   "source": [
    "print(ebola.info())"
   ]
  },
  {
   "cell_type": "markdown",
   "id": "f6e1fa15",
   "metadata": {},
   "source": [
    "## 12-6 datetime 객체의 메서드"
   ]
  },
  {
   "cell_type": "code",
   "execution_count": 98,
   "id": "7d9cc4ee",
   "metadata": {},
   "outputs": [
    {
     "name": "stdout",
     "output_type": "stream",
     "text": [
      "                                           Bank Name                City  ST  \\\n",
      "0                                Fayette County Bank          Saint Elmo  IL   \n",
      "1  Guaranty Bank, (d/b/a BestBank in Georgia & Mi...           Milwaukee  WI   \n",
      "2                                     First NBC Bank         New Orleans  LA   \n",
      "3                                      Proficio Bank  Cottonwood Heights  UT   \n",
      "4                      Seaway Bank and Trust Company             Chicago  IL   \n",
      "\n",
      "    CERT                Acquiring Institution Closing Date Updated Date  \n",
      "0   1802            United Fidelity Bank, fsb    26-May-17    26-Jul-17  \n",
      "1  30003  First-Citizens Bank & Trust Company     5-May-17    26-Jul-17  \n",
      "2  58302                         Whitney Bank    28-Apr-17    26-Jul-17  \n",
      "3  35495                    Cache Valley Bank     3-Mar-17    18-May-17  \n",
      "4  19328                  State Bank of Texas    27-Jan-17    18-May-17  \n"
     ]
    }
   ],
   "source": [
    "banks = pd.read_csv('../data/banklist.csv')\n",
    "print(banks.head())"
   ]
  },
  {
   "cell_type": "code",
   "execution_count": 99,
   "id": "44673ad3",
   "metadata": {},
   "outputs": [
    {
     "name": "stdout",
     "output_type": "stream",
     "text": [
      "<class 'pandas.core.frame.DataFrame'>\n",
      "RangeIndex: 553 entries, 0 to 552\n",
      "Data columns (total 7 columns):\n",
      " #   Column                 Non-Null Count  Dtype         \n",
      "---  ------                 --------------  -----         \n",
      " 0   Bank Name              553 non-null    object        \n",
      " 1   City                   553 non-null    object        \n",
      " 2   ST                     553 non-null    object        \n",
      " 3   CERT                   553 non-null    int64         \n",
      " 4   Acquiring Institution  553 non-null    object        \n",
      " 5   Closing Date           553 non-null    datetime64[ns]\n",
      " 6   Updated Date           553 non-null    datetime64[ns]\n",
      "dtypes: datetime64[ns](2), int64(1), object(4)\n",
      "memory usage: 30.4+ KB\n",
      "None\n"
     ]
    },
    {
     "name": "stderr",
     "output_type": "stream",
     "text": [
      "C:\\Users\\i\\AppData\\Local\\Temp\\ipykernel_6644\\3460641572.py:1: UserWarning: Could not infer format, so each element will be parsed individually, falling back to `dateutil`. To ensure parsing is consistent and as-expected, please specify a format.\n",
      "  banks = pd.read_csv(\n",
      "C:\\Users\\i\\AppData\\Local\\Temp\\ipykernel_6644\\3460641572.py:1: UserWarning: Could not infer format, so each element will be parsed individually, falling back to `dateutil`. To ensure parsing is consistent and as-expected, please specify a format.\n",
      "  banks = pd.read_csv(\n"
     ]
    }
   ],
   "source": [
    "banks = pd.read_csv(\n",
    "    \"../data/banklist.csv\", parse_dates=[\"Closing Date\", \"Updated Date\"]\n",
    ")\n",
    "print(banks.info())"
   ]
  },
  {
   "cell_type": "code",
   "execution_count": 100,
   "id": "8354d20a",
   "metadata": {},
   "outputs": [],
   "source": [
    "banks = banks.assign(\n",
    "    closing_quarter=banks['Closing Date'].dt.quarter,\n",
    "    closing_year=banks['Closing Date'].dt.year\n",
    ")"
   ]
  },
  {
   "cell_type": "code",
   "execution_count": 101,
   "id": "403f8a23",
   "metadata": {},
   "outputs": [
    {
     "name": "stdout",
     "output_type": "stream",
     "text": [
      "closing_year\n",
      "2000      2\n",
      "2001      4\n",
      "2002     11\n",
      "2003      3\n",
      "2004      4\n",
      "2007      3\n",
      "2008     25\n",
      "2009    140\n",
      "2010    157\n",
      "2011     92\n",
      "2012     51\n",
      "2013     24\n",
      "2014     18\n",
      "2015      8\n",
      "2016      5\n",
      "2017      6\n",
      "dtype: int64\n"
     ]
    }
   ],
   "source": [
    "closing_year = banks.groupby(['closing_year']).size()\n",
    "print(closing_year)"
   ]
  },
  {
   "cell_type": "code",
   "execution_count": 102,
   "id": "bb217f86",
   "metadata": {},
   "outputs": [
    {
     "name": "stdout",
     "output_type": "stream",
     "text": [
      "closing_year  closing_quarter\n",
      "2000          4                   2\n",
      "2001          1                   1\n",
      "              2                   1\n",
      "              3                   2\n",
      "2002          1                   6\n",
      "              2                   2\n",
      "              3                   1\n",
      "              4                   2\n",
      "2003          1                   1\n",
      "              2                   1\n",
      "              4                   1\n",
      "2004          1                   3\n",
      "              2                   1\n",
      "2007          1                   1\n",
      "              3                   1\n",
      "              4                   1\n",
      "2008          1                   2\n",
      "              2                   2\n",
      "              3                   9\n",
      "              4                  12\n",
      "2009          1                  21\n",
      "              2                  24\n",
      "              3                  50\n",
      "              4                  45\n",
      "2010          1                  41\n",
      "              2                  45\n",
      "              3                  41\n",
      "              4                  30\n",
      "2011          1                  26\n",
      "              2                  22\n",
      "              3                  26\n",
      "              4                  18\n",
      "2012          1                  16\n",
      "              2                  15\n",
      "              3                  12\n",
      "              4                   8\n",
      "2013          1                   4\n",
      "              2                  12\n",
      "              3                   6\n",
      "              4                   2\n",
      "2014          1                   5\n",
      "              2                   7\n",
      "              3                   2\n",
      "              4                   4\n",
      "2015          1                   4\n",
      "              2                   1\n",
      "              3                   1\n",
      "              4                   2\n",
      "2016          1                   1\n",
      "              2                   2\n",
      "              3                   2\n",
      "2017          1                   3\n",
      "              2                   3\n",
      "dtype: int64\n"
     ]
    }
   ],
   "source": [
    "closing_year_q = (\n",
    "    banks\n",
    "    .groupby(['closing_year', 'closing_quarter'])\n",
    "    .size()\n",
    ")\n",
    "print(closing_year_q)"
   ]
  },
  {
   "cell_type": "code",
   "execution_count": 103,
   "id": "19639e1e",
   "metadata": {},
   "outputs": [
    {
     "data": {
      "image/png": "[encoded data removed]",
      "text/plain": [
       "<Figure size 640x480 with 1 Axes>"
      ]
     },
     "metadata": {},
     "output_type": "display_data"
    }
   ],
   "source": [
    "import matplotlib.pyplot as plt\n",
    "\n",
    "fig, ax = plt.subplots()\n",
    "ax = closing_year.plot()\n",
    "plt.show()"
   ]
  },
  {
   "cell_type": "code",
   "execution_count": 104,
   "id": "bf07764b",
   "metadata": {},
   "outputs": [
    {
     "data": {
      "image/png": "[encoded data removed]",
      "text/plain": [
       "<Figure size 640x480 with 1 Axes>"
      ]
     },
     "metadata": {},
     "output_type": "display_data"
    }
   ],
   "source": [
    "fig, ax = plt.subplots()\n",
    "ax = closing_year_q.plot()\n",
    "plt.show()"
   ]
  },
  {
   "cell_type": "markdown",
   "id": "bbe9bd50",
   "metadata": {},
   "source": [
    "## 12-7 주식 데이터 다루기"
   ]
  },
  {
   "cell_type": "code",
   "execution_count": 105,
   "id": "eeb255ab",
   "metadata": {},
   "outputs": [],
   "source": [
    "# !pip install pandas-datareader"
   ]
  },
  {
   "cell_type": "code",
   "execution_count": 106,
   "id": "6b5ad7cf",
   "metadata": {},
   "outputs": [
    {
     "name": "stdout",
     "output_type": "stream",
     "text": [
      "                Open      High       Low     Close     Volume\n",
      "Date                                                         \n",
      "2023-10-17  250.1000  257.1830  247.0800  254.9204   93435368\n",
      "2023-10-16  250.0500  255.3999  248.4800  253.9200   88917176\n",
      "2023-10-13  258.9000  259.6000  250.2200  251.1200  102296786\n",
      "2023-10-12  262.9200  265.4100  256.6307  258.8700  111508114\n",
      "2023-10-11  266.2000  268.6000  260.9000  262.9900  103706266\n",
      "...              ...       ...       ...       ...        ...\n",
      "2018-10-25   21.1480   21.4000   20.0673   20.9907  312610860\n",
      "2018-10-24   20.0700   20.2960   19.0487   19.2333  300873870\n",
      "2018-10-23   17.5913   19.8620   17.4733   19.6093  285416295\n",
      "2018-10-22   17.3787   17.4573   16.8393   17.3967   84003900\n",
      "2018-10-19   17.8260   17.9773   16.9000   17.3333  140633235\n",
      "\n",
      "[1256 rows x 5 columns]\n"
     ]
    }
   ],
   "source": [
    "import pandas_datareader.data as web\n",
    "\n",
    "tesla = web.DataReader('TSLA', 'stooq')\n",
    "print(tesla)"
   ]
  },
  {
   "cell_type": "code",
   "execution_count": 107,
   "id": "b7a1dff8",
   "metadata": {},
   "outputs": [
    {
     "name": "stdout",
     "output_type": "stream",
     "text": [
      "<class 'pandas.core.frame.DataFrame'>\n",
      "DatetimeIndex: 1256 entries, 2023-10-17 to 2018-10-19\n",
      "Data columns (total 5 columns):\n",
      " #   Column  Non-Null Count  Dtype  \n",
      "---  ------  --------------  -----  \n",
      " 0   Open    1256 non-null   float64\n",
      " 1   High    1256 non-null   float64\n",
      " 2   Low     1256 non-null   float64\n",
      " 3   Close   1256 non-null   float64\n",
      " 4   Volume  1256 non-null   int64  \n",
      "dtypes: float64(4), int64(1)\n",
      "memory usage: 58.9 KB\n"
     ]
    }
   ],
   "source": [
    "tesla.info()"
   ]
  },
  {
   "cell_type": "code",
   "execution_count": 108,
   "id": "e8443b30",
   "metadata": {},
   "outputs": [
    {
     "name": "stdout",
     "output_type": "stream",
     "text": [
      "DatetimeIndex(['2023-10-17', '2023-10-16', '2023-10-13', '2023-10-12',\n",
      "               '2023-10-11', '2023-10-10', '2023-10-09', '2023-10-06',\n",
      "               '2023-10-05', '2023-10-04',\n",
      "               ...\n",
      "               '2018-11-01', '2018-10-31', '2018-10-30', '2018-10-29',\n",
      "               '2018-10-26', '2018-10-25', '2018-10-24', '2018-10-23',\n",
      "               '2018-10-22', '2018-10-19'],\n",
      "              dtype='datetime64[ns]', name='Date', length=1256, freq=None)\n"
     ]
    }
   ],
   "source": [
    "print(tesla.index)"
   ]
  },
  {
   "cell_type": "code",
   "execution_count": 109,
   "id": "857ae2b3",
   "metadata": {},
   "outputs": [
    {
     "name": "stdout",
     "output_type": "stream",
     "text": [
      "         Date       Open   High        Low      Close  Adj Close    Volume\n",
      "0  2010-06-29  19.000000  25.00  17.540001  23.889999  23.889999  18766300\n",
      "1  2010-06-30  25.790001  30.42  23.299999  23.830000  23.830000  17187100\n",
      "2  2010-07-01  25.000000  25.92  20.270000  21.959999  21.959999   8218800\n",
      "3  2010-07-02  23.000000  23.10  18.709999  19.200001  19.200001   5139800\n",
      "4  2010-07-06  20.000000  20.00  15.830000  16.110001  16.110001   6866900\n"
     ]
    }
   ],
   "source": [
    "tesla = pd.read_csv('../data/tesla_stock_yahoo.csv')\n",
    "print(tesla.head())"
   ]
  },
  {
   "cell_type": "code",
   "execution_count": 110,
   "id": "c2162917",
   "metadata": {},
   "outputs": [],
   "source": [
    "tesla = pd.read_csv(\n",
    "    '../data/tesla_stock_yahoo.csv', parse_dates=[\"Date\"]\n",
    ")"
   ]
  },
  {
   "cell_type": "code",
   "execution_count": 111,
   "id": "868259df",
   "metadata": {},
   "outputs": [
    {
     "name": "stdout",
     "output_type": "stream",
     "text": [
      "<class 'pandas.core.frame.DataFrame'>\n",
      "RangeIndex: 1791 entries, 0 to 1790\n",
      "Data columns (total 7 columns):\n",
      " #   Column     Non-Null Count  Dtype         \n",
      "---  ------     --------------  -----         \n",
      " 0   Date       1791 non-null   datetime64[ns]\n",
      " 1   Open       1791 non-null   float64       \n",
      " 2   High       1791 non-null   float64       \n",
      " 3   Low        1791 non-null   float64       \n",
      " 4   Close      1791 non-null   float64       \n",
      " 5   Adj Close  1791 non-null   float64       \n",
      " 6   Volume     1791 non-null   int64         \n",
      "dtypes: datetime64[ns](1), float64(5), int64(1)\n",
      "memory usage: 98.1 KB\n",
      "None\n"
     ]
    }
   ],
   "source": [
    "print(tesla.info())"
   ]
  },
  {
   "cell_type": "markdown",
   "id": "9580eedf",
   "metadata": {},
   "source": [
    "## 12-8 시간별 데이터 추출하기"
   ]
  },
  {
   "cell_type": "code",
   "execution_count": 112,
   "id": "02095715",
   "metadata": {},
   "outputs": [
    {
     "name": "stdout",
     "output_type": "stream",
     "text": [
      "        Date       Open   High        Low      Close  Adj Close    Volume\n",
      "0 2010-06-29  19.000000  25.00  17.540001  23.889999  23.889999  18766300\n",
      "1 2010-06-30  25.790001  30.42  23.299999  23.830000  23.830000  17187100\n"
     ]
    }
   ],
   "source": [
    "print(\n",
    "    tesla.loc[\n",
    "        (tesla.Date.dt.year == 2010) & (tesla.Date.dt.month == 6)\n",
    "    ]\n",
    ")"
   ]
  },
  {
   "cell_type": "markdown",
   "id": "8ab77f1e",
   "metadata": {},
   "source": [
    "#### [Do It! 실습] DatetimeIndex 객체로 추출하기"
   ]
  },
  {
   "cell_type": "code",
   "execution_count": 113,
   "id": "97a04aee",
   "metadata": {},
   "outputs": [
    {
     "name": "stdout",
     "output_type": "stream",
     "text": [
      "DatetimeIndex(['2010-06-29', '2010-06-30', '2010-07-01', '2010-07-02',\n",
      "               '2010-07-06', '2010-07-07', '2010-07-08', '2010-07-09',\n",
      "               '2010-07-12', '2010-07-13',\n",
      "               ...\n",
      "               '2017-07-26', '2017-07-27', '2017-07-28', '2017-07-31',\n",
      "               '2017-08-01', '2017-08-02', '2017-08-03', '2017-08-04',\n",
      "               '2017-08-07', '2017-08-08'],\n",
      "              dtype='datetime64[ns]', name='Date', length=1791, freq=None)\n"
     ]
    }
   ],
   "source": [
    "tesla.index = tesla['Date']\n",
    "print(tesla.index)"
   ]
  },
  {
   "cell_type": "code",
   "execution_count": 114,
   "id": "a6b139f1",
   "metadata": {},
   "outputs": [
    {
     "name": "stdout",
     "output_type": "stream",
     "text": [
      "                 Date        Open        High         Low       Close  \\\n",
      "Date                                                                    \n",
      "2015-01-02 2015-01-02  222.869995  223.250000  213.259995  219.309998   \n",
      "2015-01-05 2015-01-05  214.550003  216.500000  207.160004  210.089996   \n",
      "2015-01-06 2015-01-06  210.059998  214.199997  204.210007  211.279999   \n",
      "2015-01-07 2015-01-07  213.350006  214.779999  209.779999  210.949997   \n",
      "2015-01-08 2015-01-08  212.809998  213.800003  210.009995  210.619995   \n",
      "...               ...         ...         ...         ...         ...   \n",
      "2015-12-24 2015-12-24  230.559998  231.880005  228.279999  230.570007   \n",
      "2015-12-28 2015-12-28  231.490005  231.979996  225.539993  228.949997   \n",
      "2015-12-29 2015-12-29  230.059998  237.720001  229.550003  237.190002   \n",
      "2015-12-30 2015-12-30  236.600006  243.630005  235.669998  238.089996   \n",
      "2015-12-31 2015-12-31  238.509995  243.449997  238.369995  240.009995   \n",
      "\n",
      "             Adj Close   Volume  \n",
      "Date                             \n",
      "2015-01-02  219.309998  4764400  \n",
      "2015-01-05  210.089996  5368500  \n",
      "2015-01-06  211.279999  6261900  \n",
      "2015-01-07  210.949997  2968400  \n",
      "2015-01-08  210.619995  3442500  \n",
      "...                ...      ...  \n",
      "2015-12-24  230.570007   708000  \n",
      "2015-12-28  228.949997  1901300  \n",
      "2015-12-29  237.190002  2406300  \n",
      "2015-12-30  238.089996  3697900  \n",
      "2015-12-31  240.009995  2683200  \n",
      "\n",
      "[252 rows x 7 columns]\n"
     ]
    }
   ],
   "source": [
    "print(tesla.loc['2015'])"
   ]
  },
  {
   "cell_type": "code",
   "execution_count": 115,
   "id": "ca3226d7",
   "metadata": {},
   "outputs": [
    {
     "name": "stdout",
     "output_type": "stream",
     "text": [
      "                 Date       Open   High        Low      Close  Adj Close  \\\n",
      "Date                                                                       \n",
      "2010-06-29 2010-06-29  19.000000  25.00  17.540001  23.889999  23.889999   \n",
      "2010-06-30 2010-06-30  25.790001  30.42  23.299999  23.830000  23.830000   \n",
      "\n",
      "              Volume  \n",
      "Date                  \n",
      "2010-06-29  18766300  \n",
      "2010-06-30  17187100  \n"
     ]
    }
   ],
   "source": [
    "print(tesla.loc['2010-06'])"
   ]
  },
  {
   "cell_type": "markdown",
   "id": "a44f4ff5",
   "metadata": {},
   "source": [
    "#### [Do It! 실습] TimedeltaIndex 객체로 추출하기"
   ]
  },
  {
   "cell_type": "code",
   "execution_count": 116,
   "id": "83913f09",
   "metadata": {},
   "outputs": [],
   "source": [
    "tesla['ref_date'] = tesla['Date'] - tesla['Date'].min()"
   ]
  },
  {
   "cell_type": "code",
   "execution_count": 117,
   "id": "da48c702",
   "metadata": {},
   "outputs": [
    {
     "name": "stdout",
     "output_type": "stream",
     "text": [
      "TimedeltaIndex([   '0 days',    '1 days',    '2 days',    '3 days',\n",
      "                   '7 days',    '8 days',    '9 days',   '10 days',\n",
      "                  '13 days',   '14 days',\n",
      "                ...\n",
      "                '2584 days', '2585 days', '2586 days', '2589 days',\n",
      "                '2590 days', '2591 days', '2592 days', '2593 days',\n",
      "                '2596 days', '2597 days'],\n",
      "               dtype='timedelta64[ns]', name='ref_date', length=1791, freq=None)\n"
     ]
    }
   ],
   "source": [
    "tesla.index = tesla['ref_date']\n",
    "print(tesla.index)"
   ]
  },
  {
   "cell_type": "code",
   "execution_count": 118,
   "id": "4b7e1477",
   "metadata": {},
   "outputs": [
    {
     "name": "stdout",
     "output_type": "stream",
     "text": [
      "                Date        Open        High         Low       Close  \\\n",
      "ref_date                                                               \n",
      "0 days    2010-06-29   19.000000   25.000000   17.540001   23.889999   \n",
      "1 days    2010-06-30   25.790001   30.420000   23.299999   23.830000   \n",
      "2 days    2010-07-01   25.000000   25.920000   20.270000   21.959999   \n",
      "3 days    2010-07-02   23.000000   23.100000   18.709999   19.200001   \n",
      "7 days    2010-07-06   20.000000   20.000000   15.830000   16.110001   \n",
      "...              ...         ...         ...         ...         ...   \n",
      "2591 days 2017-08-02  318.940002  327.119995  311.220001  325.890015   \n",
      "2592 days 2017-08-03  345.329987  350.000000  343.149994  347.089996   \n",
      "2593 days 2017-08-04  347.000000  357.269989  343.299988  356.910004   \n",
      "2596 days 2017-08-07  357.350006  359.480011  352.750000  355.170013   \n",
      "2597 days 2017-08-08  357.529999  368.579987  357.399994  365.220001   \n",
      "\n",
      "            Adj Close    Volume  ref_date  \n",
      "ref_date                                   \n",
      "0 days      23.889999  18766300    0 days  \n",
      "1 days      23.830000  17187100    1 days  \n",
      "2 days      21.959999   8218800    2 days  \n",
      "3 days      19.200001   5139800    3 days  \n",
      "7 days      16.110001   6866900    7 days  \n",
      "...               ...       ...       ...  \n",
      "2591 days  325.890015  13091500 2591 days  \n",
      "2592 days  347.089996  13535000 2592 days  \n",
      "2593 days  356.910004   9198400 2593 days  \n",
      "2596 days  355.170013   6276900 2596 days  \n",
      "2597 days  365.220001   7449837 2597 days  \n",
      "\n",
      "[1791 rows x 8 columns]\n"
     ]
    }
   ],
   "source": [
    "print(tesla)"
   ]
  },
  {
   "cell_type": "code",
   "execution_count": 119,
   "id": "774092bc",
   "metadata": {},
   "outputs": [
    {
     "name": "stdout",
     "output_type": "stream",
     "text": [
      "               Date       Open       High        Low      Close  Adj Close  \\\n",
      "ref_date                                                                     \n",
      "0 days   2010-06-29  19.000000  25.000000  17.540001  23.889999  23.889999   \n",
      "1 days   2010-06-30  25.790001  30.420000  23.299999  23.830000  23.830000   \n",
      "2 days   2010-07-01  25.000000  25.920000  20.270000  21.959999  21.959999   \n",
      "3 days   2010-07-02  23.000000  23.100000  18.709999  19.200001  19.200001   \n",
      "7 days   2010-07-06  20.000000  20.000000  15.830000  16.110001  16.110001   \n",
      "8 days   2010-07-07  16.400000  16.629999  14.980000  15.800000  15.800000   \n",
      "9 days   2010-07-08  16.139999  17.520000  15.570000  17.459999  17.459999   \n",
      "10 days  2010-07-09  17.580000  17.900000  16.549999  17.400000  17.400000   \n",
      "\n",
      "            Volume ref_date  \n",
      "ref_date                     \n",
      "0 days    18766300   0 days  \n",
      "1 days    17187100   1 days  \n",
      "2 days     8218800   2 days  \n",
      "3 days     5139800   3 days  \n",
      "7 days     6866900   7 days  \n",
      "8 days     6921700   8 days  \n",
      "9 days     7711400   9 days  \n",
      "10 days    4050600  10 days  \n"
     ]
    }
   ],
   "source": [
    "print(tesla.loc['0 day': '10 day'])"
   ]
  },
  {
   "cell_type": "markdown",
   "id": "60d4cd3f",
   "metadata": {},
   "source": [
    "## 12-9 시간 범위 다루기"
   ]
  },
  {
   "cell_type": "code",
   "execution_count": 120,
   "id": "042b04d3",
   "metadata": {},
   "outputs": [
    {
     "name": "stdout",
     "output_type": "stream",
     "text": [
      "          Date  Day  Cases_Guinea  Cases_Liberia  Cases_SierraLeone\n",
      "0   2015-01-05  289        2776.0            NaN            10030.0\n",
      "1   2015-01-04  288        2775.0            NaN             9780.0\n",
      "2   2015-01-03  287        2769.0         8166.0             9722.0\n",
      "3   2015-01-02  286           NaN         8157.0                NaN\n",
      "4   2014-12-31  284        2730.0         8115.0             9633.0\n",
      "..         ...  ...           ...            ...                ...\n",
      "117 2014-03-27    5         103.0            8.0                6.0\n",
      "118 2014-03-26    4          86.0            NaN                NaN\n",
      "119 2014-03-25    3          86.0            NaN                NaN\n",
      "120 2014-03-24    2          86.0            NaN                NaN\n",
      "121 2014-03-22    0          49.0            NaN                NaN\n",
      "\n",
      "[122 rows x 5 columns]\n"
     ]
    }
   ],
   "source": [
    "ebola = pd.read_csv(\n",
    "    '../data/country_timeseries.csv', parse_dates=[\"Date\"]\n",
    ")\n",
    "print(ebola.iloc[:, :5])"
   ]
  },
  {
   "cell_type": "code",
   "execution_count": 121,
   "id": "25355f82",
   "metadata": {},
   "outputs": [
    {
     "name": "stdout",
     "output_type": "stream",
     "text": [
      "DatetimeIndex(['2014-12-31', '2015-01-01', '2015-01-02', '2015-01-03',\n",
      "               '2015-01-04', '2015-01-05'],\n",
      "              dtype='datetime64[ns]', freq='D')\n"
     ]
    }
   ],
   "source": [
    "head_range = pd.date_range(start='2014-12-31', end='2015-01-05')\n",
    "print(head_range)"
   ]
  },
  {
   "cell_type": "code",
   "execution_count": 122,
   "id": "c8ed84da",
   "metadata": {},
   "outputs": [],
   "source": [
    "ebola_5 = ebola.head()"
   ]
  },
  {
   "cell_type": "code",
   "execution_count": 123,
   "id": "ede600b4",
   "metadata": {},
   "outputs": [],
   "source": [
    "ebola_5.index = ebola_5['Date']"
   ]
  },
  {
   "cell_type": "code",
   "execution_count": 124,
   "id": "6b3bbcbb",
   "metadata": {},
   "outputs": [
    {
     "name": "stdout",
     "output_type": "stream",
     "text": [
      "                 Date    Day  Cases_Guinea  Cases_Liberia  Cases_SierraLeone\n",
      "2014-12-31 2014-12-31  284.0        2730.0         8115.0             9633.0\n",
      "2015-01-01        NaT    NaN           NaN            NaN                NaN\n",
      "2015-01-02 2015-01-02  286.0           NaN         8157.0                NaN\n",
      "2015-01-03 2015-01-03  287.0        2769.0         8166.0             9722.0\n",
      "2015-01-04 2015-01-04  288.0        2775.0            NaN             9780.0\n",
      "2015-01-05 2015-01-05  289.0        2776.0            NaN            10030.0\n"
     ]
    }
   ],
   "source": [
    "ebola_5 = ebola_5.reindex(head_range)\n",
    "print(ebola_5.iloc[:, :5])"
   ]
  },
  {
   "cell_type": "markdown",
   "id": "db9643fa",
   "metadata": {},
   "source": [
    "### 시간 범위의 주기 설정하기"
   ]
  },
  {
   "cell_type": "code",
   "execution_count": 125,
   "id": "4100df21",
   "metadata": {},
   "outputs": [
    {
     "name": "stdout",
     "output_type": "stream",
     "text": [
      "DatetimeIndex(['2022-01-03', '2022-01-04', '2022-01-05', '2022-01-06',\n",
      "               '2022-01-07'],\n",
      "              dtype='datetime64[ns]', freq='B')\n"
     ]
    }
   ],
   "source": [
    "print(pd.date_range('2022-01-01', '2022-01-07', freq='B'))"
   ]
  },
  {
   "cell_type": "markdown",
   "id": "57ef7cb7",
   "metadata": {},
   "source": [
    "#### [Do It! 실습] 시간 범위의 주기 간격 설정하기"
   ]
  },
  {
   "cell_type": "code",
   "execution_count": 154,
   "id": "2b853df3",
   "metadata": {},
   "outputs": [
    {
     "name": "stdout",
     "output_type": "stream",
     "text": [
      "DatetimeIndex(['2022-01-03', '2022-01-05', '2022-01-07'], dtype='datetime64[ns]', freq='2B')\n"
     ]
    }
   ],
   "source": [
    "print(pd.date_range('2022-01-01', '2022-01-07', freq='2B'))"
   ]
  },
  {
   "cell_type": "code",
   "execution_count": 155,
   "id": "b6479f6f",
   "metadata": {},
   "outputs": [
    {
     "name": "stdout",
     "output_type": "stream",
     "text": [
      "DatetimeIndex(['2022-01-06', '2022-02-03', '2022-03-03', '2022-04-07',\n",
      "               '2022-05-05', '2022-06-02', '2022-07-07', '2022-08-04',\n",
      "               '2022-09-01', '2022-10-06', '2022-11-03', '2022-12-01'],\n",
      "              dtype='datetime64[ns]', freq='WOM-1THU')\n"
     ]
    }
   ],
   "source": [
    "print(pd.date_range('2022-01-01', '2022-12-31', freq='WOM-1THU'))"
   ]
  },
  {
   "cell_type": "code",
   "execution_count": 156,
   "id": "b9ab6410",
   "metadata": {},
   "outputs": [
    {
     "name": "stdout",
     "output_type": "stream",
     "text": [
      "DatetimeIndex(['2022-01-21', '2022-02-18', '2022-03-18', '2022-04-15',\n",
      "               '2022-05-20', '2022-06-17', '2022-07-15', '2022-08-19',\n",
      "               '2022-09-16', '2022-10-21', '2022-11-18', '2022-12-16'],\n",
      "              dtype='datetime64[ns]', freq='WOM-3FRI')\n"
     ]
    }
   ],
   "source": [
    "print(pd.date_range('2022-01-01', '2022-12-31', freq='WOM-3FRI'))"
   ]
  },
  {
   "cell_type": "markdown",
   "id": "2077fc3f",
   "metadata": {},
   "source": [
    "## 12-10 열 방향으로 값 옮기기"
   ]
  },
  {
   "cell_type": "code",
   "execution_count": 129,
   "id": "47d42bb3",
   "metadata": {},
   "outputs": [
    {
     "data": {
      "image/png": "[encoded data removed]",
      "text/plain": [
       "<Figure size 640x480 with 1 Axes>"
      ]
     },
     "metadata": {},
     "output_type": "display_data"
    }
   ],
   "source": [
    "ebola = pd.read_csv('../data/country_timeseries.csv', parse_dates=[\"Date\"])\n",
    "\n",
    "import matplotlib.pyplot as plt\n",
    "\n",
    "ebola.index = ebola['Date']\n",
    "\n",
    "fig, ax = plt.subplots()\n",
    "ax = ebola.plot(ax=ax)\n",
    "ax.legend(fontsize=7, loc=2, borderaxespad=0.0)\n",
    "plt.show()"
   ]
  },
  {
   "cell_type": "code",
   "execution_count": 130,
   "id": "6bcf495b",
   "metadata": {},
   "outputs": [
    {
     "name": "stdout",
     "output_type": "stream",
     "text": [
      "            Day  Cases_Guinea  Cases_Liberia\n",
      "Date                                        \n",
      "2014-04-04   13         143.0           18.0\n",
      "2014-04-01   10         127.0            8.0\n",
      "2014-03-31    9         122.0            8.0\n",
      "2014-03-29    7         112.0            7.0\n",
      "2014-03-28    6         112.0            3.0\n",
      "2014-03-27    5         103.0            8.0\n",
      "2014-03-26    4          86.0            NaN\n",
      "2014-03-25    3          86.0            NaN\n",
      "2014-03-24    2          86.0            NaN\n",
      "2014-03-22    0          49.0            NaN\n"
     ]
    }
   ],
   "source": [
    "ebola_sub = ebola[['Day', 'Cases_Guinea', 'Cases_Liberia']]\n",
    "print(ebola_sub.tail(10))"
   ]
  },
  {
   "cell_type": "code",
   "execution_count": 131,
   "id": "e125b701",
   "metadata": {},
   "outputs": [
    {
     "name": "stdout",
     "output_type": "stream",
     "text": [
      "            Day  Cases_Guinea  Cases_Liberia  Cases_SierraLeone\n",
      "Date                                                           \n",
      "2015-01-05  289        2776.0            NaN            10030.0\n",
      "2015-01-04  288        2775.0            NaN             9780.0\n",
      "2015-01-03  287        2769.0         8166.0             9722.0\n",
      "2015-01-02  286           NaN         8157.0                NaN\n",
      "2014-12-31  284        2730.0         8115.0             9633.0\n",
      "...         ...           ...            ...                ...\n",
      "2014-03-27    5         103.0            8.0                6.0\n",
      "2014-03-26    4          86.0            NaN                NaN\n",
      "2014-03-25    3          86.0            NaN                NaN\n",
      "2014-03-24    2          86.0            NaN                NaN\n",
      "2014-03-22    0          49.0            NaN                NaN\n",
      "\n",
      "[122 rows x 4 columns]\n"
     ]
    }
   ],
   "source": [
    "ebola = pd.read_csv(\n",
    "    \"../data/country_timeseries.csv\",\n",
    "    parse_dates=[\"Date\"],\n",
    "    index_col=\"Date\",\n",
    ")\n",
    "print(ebola.iloc[:, :4])"
   ]
  },
  {
   "cell_type": "code",
   "execution_count": 132,
   "id": "30ee59cc",
   "metadata": {},
   "outputs": [
    {
     "name": "stdout",
     "output_type": "stream",
     "text": [
      "DatetimeIndex(['2014-03-22', '2014-03-23', '2014-03-24', '2014-03-25',\n",
      "               '2014-03-26', '2014-03-27', '2014-03-28', '2014-03-29',\n",
      "               '2014-03-30', '2014-03-31',\n",
      "               ...\n",
      "               '2014-12-27', '2014-12-28', '2014-12-29', '2014-12-30',\n",
      "               '2014-12-31', '2015-01-01', '2015-01-02', '2015-01-03',\n",
      "               '2015-01-04', '2015-01-05'],\n",
      "              dtype='datetime64[ns]', length=290, freq='D')\n"
     ]
    }
   ],
   "source": [
    "new_idx = pd.date_range(ebola.index.min(), ebola.index.max())\n",
    "print(new_idx)"
   ]
  },
  {
   "cell_type": "code",
   "execution_count": 133,
   "id": "030cbcc2",
   "metadata": {},
   "outputs": [
    {
     "name": "stdout",
     "output_type": "stream",
     "text": [
      "<reversed object at 0x000001F0903E1600>\n"
     ]
    }
   ],
   "source": [
    "new_idx = reversed(new_idx)\n",
    "print(new_idx)"
   ]
  },
  {
   "cell_type": "code",
   "execution_count": 134,
   "id": "5751d4d5",
   "metadata": {},
   "outputs": [],
   "source": [
    "ebola = ebola.reindex(new_idx)"
   ]
  },
  {
   "cell_type": "code",
   "execution_count": 135,
   "id": "7f33adb8",
   "metadata": {},
   "outputs": [
    {
     "name": "stdout",
     "output_type": "stream",
     "text": [
      "              Day  Cases_Guinea  Cases_Liberia  Cases_SierraLeone\n",
      "Date                                                             \n",
      "2015-01-05  289.0        2776.0            NaN            10030.0\n",
      "2015-01-04  288.0        2775.0            NaN             9780.0\n",
      "2015-01-03  287.0        2769.0         8166.0             9722.0\n",
      "2015-01-02  286.0           NaN         8157.0                NaN\n",
      "2015-01-01    NaN           NaN            NaN                NaN\n",
      "...           ...           ...            ...                ...\n",
      "2014-03-26    4.0          86.0            NaN                NaN\n",
      "2014-03-25    3.0          86.0            NaN                NaN\n",
      "2014-03-24    2.0          86.0            NaN                NaN\n",
      "2014-03-23    NaN           NaN            NaN                NaN\n",
      "2014-03-22    0.0          49.0            NaN                NaN\n",
      "\n",
      "[290 rows x 4 columns]\n"
     ]
    }
   ],
   "source": [
    "print(ebola.iloc[:, :4])"
   ]
  },
  {
   "cell_type": "code",
   "execution_count": 136,
   "id": "45b7c84c",
   "metadata": {},
   "outputs": [
    {
     "name": "stdout",
     "output_type": "stream",
     "text": [
      "Day                   2014-03-22\n",
      "Cases_Guinea          2014-03-22\n",
      "Cases_Liberia         2014-03-27\n",
      "Cases_SierraLeone     2014-03-27\n",
      "Cases_Nigeria         2014-07-23\n",
      "Cases_Senegal         2014-08-31\n",
      "Cases_UnitedStates    2014-10-01\n",
      "Cases_Spain           2014-10-08\n",
      "Cases_Mali            2014-10-22\n",
      "Deaths_Guinea         2014-03-22\n",
      "Deaths_Liberia        2014-03-27\n",
      "Deaths_SierraLeone    2014-03-27\n",
      "Deaths_Nigeria        2014-07-23\n",
      "Deaths_Senegal        2014-09-07\n",
      "Deaths_UnitedStates   2014-10-01\n",
      "Deaths_Spain          2014-10-08\n",
      "Deaths_Mali           2014-10-22\n",
      "dtype: datetime64[ns]\n"
     ]
    }
   ],
   "source": [
    "last_valid = ebola.apply(pd.Series.last_valid_index)\n",
    "print(last_valid)"
   ]
  },
  {
   "cell_type": "code",
   "execution_count": 137,
   "id": "4bb118c2",
   "metadata": {},
   "outputs": [
    {
     "name": "stdout",
     "output_type": "stream",
     "text": [
      "2014-03-22 00:00:00\n"
     ]
    }
   ],
   "source": [
    "earliest_date = ebola.index.min()\n",
    "print(earliest_date)"
   ]
  },
  {
   "cell_type": "code",
   "execution_count": 138,
   "id": "faa669b3",
   "metadata": {},
   "outputs": [
    {
     "name": "stdout",
     "output_type": "stream",
     "text": [
      "Day                     0 days\n",
      "Cases_Guinea            0 days\n",
      "Cases_Liberia           5 days\n",
      "Cases_SierraLeone       5 days\n",
      "Cases_Nigeria         123 days\n",
      "Cases_Senegal         162 days\n",
      "Cases_UnitedStates    193 days\n",
      "Cases_Spain           200 days\n",
      "Cases_Mali            214 days\n",
      "Deaths_Guinea           0 days\n",
      "Deaths_Liberia          5 days\n",
      "Deaths_SierraLeone      5 days\n",
      "Deaths_Nigeria        123 days\n",
      "Deaths_Senegal        169 days\n",
      "Deaths_UnitedStates   193 days\n",
      "Deaths_Spain          200 days\n",
      "Deaths_Mali           214 days\n",
      "dtype: timedelta64[ns]\n"
     ]
    }
   ],
   "source": [
    "shift_values = last_valid - earliest_date\n",
    "print(shift_values)"
   ]
  },
  {
   "cell_type": "code",
   "execution_count": 139,
   "id": "36333aae",
   "metadata": {},
   "outputs": [],
   "source": [
    "ebola_dict = {}\n",
    "\n",
    "for idx, col in enumerate(ebola):\n",
    "    d = shift_values[idx].days\n",
    "    shifted = ebola[col].shift(d)\n",
    "    ebola_dict[col] = shifted\n",
    "\n",
    "# print(ebola_dict)"
   ]
  },
  {
   "cell_type": "code",
   "execution_count": 140,
   "id": "cda83496",
   "metadata": {},
   "outputs": [],
   "source": [
    "ebola_shift = pd.DataFrame(ebola_dict)"
   ]
  },
  {
   "cell_type": "code",
   "execution_count": 141,
   "id": "67c79b78",
   "metadata": {},
   "outputs": [
    {
     "name": "stdout",
     "output_type": "stream",
     "text": [
      "            Day  Cases_Guinea  Cases_Liberia  Cases_SierraLeone  \\\n",
      "Date                                                              \n",
      "2014-03-26  4.0          86.0            8.0                2.0   \n",
      "2014-03-25  3.0          86.0            NaN                NaN   \n",
      "2014-03-24  2.0          86.0            7.0                NaN   \n",
      "2014-03-23  NaN           NaN            3.0                2.0   \n",
      "2014-03-22  0.0          49.0            8.0                6.0   \n",
      "\n",
      "            Cases_Nigeria  Cases_Senegal  Cases_UnitedStates  Cases_Spain  \\\n",
      "Date                                                                        \n",
      "2014-03-26            1.0            NaN                 1.0          1.0   \n",
      "2014-03-25            NaN            NaN                 NaN          NaN   \n",
      "2014-03-24            NaN            NaN                 NaN          NaN   \n",
      "2014-03-23            NaN            NaN                 NaN          NaN   \n",
      "2014-03-22            0.0            1.0                 1.0          1.0   \n",
      "\n",
      "            Cases_Mali  Deaths_Guinea  Deaths_Liberia  Deaths_SierraLeone  \\\n",
      "Date                                                                        \n",
      "2014-03-26         NaN           62.0             4.0                 2.0   \n",
      "2014-03-25         NaN           60.0             NaN                 NaN   \n",
      "2014-03-24         NaN           59.0             2.0                 NaN   \n",
      "2014-03-23         NaN            NaN             3.0                 2.0   \n",
      "2014-03-22         1.0           29.0             6.0                 5.0   \n",
      "\n",
      "            Deaths_Nigeria  Deaths_Senegal  Deaths_UnitedStates  Deaths_Spain  \\\n",
      "Date                                                                            \n",
      "2014-03-26             1.0             NaN                  0.0           1.0   \n",
      "2014-03-25             NaN             NaN                  NaN           NaN   \n",
      "2014-03-24             NaN             NaN                  NaN           NaN   \n",
      "2014-03-23             NaN             NaN                  NaN           NaN   \n",
      "2014-03-22             0.0             0.0                  0.0           1.0   \n",
      "\n",
      "            Deaths_Mali  \n",
      "Date                     \n",
      "2014-03-26          NaN  \n",
      "2014-03-25          NaN  \n",
      "2014-03-24          NaN  \n",
      "2014-03-23          NaN  \n",
      "2014-03-22          1.0  \n"
     ]
    }
   ],
   "source": [
    "print(ebola_shift.tail())"
   ]
  },
  {
   "cell_type": "code",
   "execution_count": 142,
   "id": "6a1a127a",
   "metadata": {},
   "outputs": [
    {
     "name": "stdout",
     "output_type": "stream",
     "text": [
      "     Cases_Guinea  Cases_Liberia  Cases_SierraLeone  Cases_Nigeria  \\\n",
      "Day                                                                  \n",
      "4.0          86.0            8.0                2.0            1.0   \n",
      "3.0          86.0            NaN                NaN            NaN   \n",
      "2.0          86.0            7.0                NaN            NaN   \n",
      "NaN           NaN            3.0                2.0            NaN   \n",
      "0.0          49.0            8.0                6.0            0.0   \n",
      "\n",
      "     Cases_Senegal  Cases_UnitedStates  Cases_Spain  Cases_Mali  \\\n",
      "Day                                                               \n",
      "4.0            NaN                 1.0          1.0         NaN   \n",
      "3.0            NaN                 NaN          NaN         NaN   \n",
      "2.0            NaN                 NaN          NaN         NaN   \n",
      "NaN            NaN                 NaN          NaN         NaN   \n",
      "0.0            1.0                 1.0          1.0         1.0   \n",
      "\n",
      "     Deaths_Guinea  Deaths_Liberia  Deaths_SierraLeone  Deaths_Nigeria  \\\n",
      "Day                                                                      \n",
      "4.0           62.0             4.0                 2.0             1.0   \n",
      "3.0           60.0             NaN                 NaN             NaN   \n",
      "2.0           59.0             2.0                 NaN             NaN   \n",
      "NaN            NaN             3.0                 2.0             NaN   \n",
      "0.0           29.0             6.0                 5.0             0.0   \n",
      "\n",
      "     Deaths_Senegal  Deaths_UnitedStates  Deaths_Spain  Deaths_Mali  \n",
      "Day                                                                  \n",
      "4.0             NaN                  0.0           1.0          NaN  \n",
      "3.0             NaN                  NaN           NaN          NaN  \n",
      "2.0             NaN                  NaN           NaN          NaN  \n",
      "NaN             NaN                  NaN           NaN          NaN  \n",
      "0.0             0.0                  0.0           1.0          1.0  \n"
     ]
    }
   ],
   "source": [
    "ebola_shift.index = ebola_shift['Day']\n",
    "ebola_shift = ebola_shift.drop(['Day'], axis=\"columns\")\n",
    "print(ebola_shift.tail())"
   ]
  },
  {
   "cell_type": "markdown",
   "id": "d5c0b317",
   "metadata": {},
   "source": [
    "## 12-11 시간 주기 변경하기"
   ]
  },
  {
   "cell_type": "code",
   "execution_count": 143,
   "id": "dea7aaf1",
   "metadata": {},
   "outputs": [
    {
     "name": "stdout",
     "output_type": "stream",
     "text": [
      "                   Day  Cases_Guinea  Cases_Liberia  Cases_SierraLeone  \\\n",
      "Date                                                                     \n",
      "2014-03-31    4.500000     94.500000       6.500000           3.333333   \n",
      "2014-04-30   24.333333    177.818182      24.555556           2.200000   \n",
      "2014-05-31   51.888889    248.777778      12.555556           7.333333   \n",
      "2014-06-30   84.636364    373.428571      35.500000         125.571429   \n",
      "2014-07-31  115.700000    423.000000     212.300000         420.500000   \n",
      "2014-08-31  145.090909    559.818182     868.818182         844.000000   \n",
      "2014-09-30  177.500000    967.888889    2815.625000        1726.000000   \n",
      "2014-10-31  207.470588   1500.444444    4758.750000        3668.111111   \n",
      "2014-11-30  237.214286   1950.500000    7039.000000        5843.625000   \n",
      "2014-12-31  271.181818   2579.625000    7902.571429        8985.875000   \n",
      "2015-01-31  287.500000   2773.333333    8161.500000        9844.000000   \n",
      "\n",
      "            Cases_Nigeria  \n",
      "Date                       \n",
      "2014-03-31            NaN  \n",
      "2014-04-30            NaN  \n",
      "2014-05-31            NaN  \n",
      "2014-06-30            NaN  \n",
      "2014-07-31       1.333333  \n",
      "2014-08-31      13.363636  \n",
      "2014-09-30      20.714286  \n",
      "2014-10-31      20.000000  \n",
      "2014-11-30      20.000000  \n",
      "2014-12-31      20.000000  \n",
      "2015-01-31            NaN  \n"
     ]
    }
   ],
   "source": [
    "down = ebola.resample('M').mean()\n",
    "print(down.iloc[:, :5])"
   ]
  },
  {
   "cell_type": "code",
   "execution_count": 144,
   "id": "4b3b628f",
   "metadata": {},
   "outputs": [
    {
     "name": "stdout",
     "output_type": "stream",
     "text": [
      "              Day  Cases_Guinea  Cases_Liberia  Cases_SierraLeone  \\\n",
      "Date                                                                \n",
      "2014-03-31    4.5     94.500000            6.5           3.333333   \n",
      "2014-04-01    NaN           NaN            NaN                NaN   \n",
      "2014-04-02    NaN           NaN            NaN                NaN   \n",
      "2014-04-03    NaN           NaN            NaN                NaN   \n",
      "2014-04-04    NaN           NaN            NaN                NaN   \n",
      "...           ...           ...            ...                ...   \n",
      "2015-01-27    NaN           NaN            NaN                NaN   \n",
      "2015-01-28    NaN           NaN            NaN                NaN   \n",
      "2015-01-29    NaN           NaN            NaN                NaN   \n",
      "2015-01-30    NaN           NaN            NaN                NaN   \n",
      "2015-01-31  287.5   2773.333333         8161.5        9844.000000   \n",
      "\n",
      "            Cases_Nigeria  \n",
      "Date                       \n",
      "2014-03-31            NaN  \n",
      "2014-04-01            NaN  \n",
      "2014-04-02            NaN  \n",
      "2014-04-03            NaN  \n",
      "2014-04-04            NaN  \n",
      "...                   ...  \n",
      "2015-01-27            NaN  \n",
      "2015-01-28            NaN  \n",
      "2015-01-29            NaN  \n",
      "2015-01-30            NaN  \n",
      "2015-01-31            NaN  \n",
      "\n",
      "[307 rows x 5 columns]\n"
     ]
    }
   ],
   "source": [
    "up = down.resample('D').mean()\n",
    "print(up.iloc[:, :5])"
   ]
  },
  {
   "cell_type": "markdown",
   "id": "e57509ce",
   "metadata": {},
   "source": [
    "## 12-12 시간대 다루기"
   ]
  },
  {
   "cell_type": "code",
   "execution_count": 145,
   "id": "2461a706",
   "metadata": {},
   "outputs": [],
   "source": [
    "import pytz"
   ]
  },
  {
   "cell_type": "code",
   "execution_count": 146,
   "id": "4adfe3f1",
   "metadata": {},
   "outputs": [
    {
     "name": "stdout",
     "output_type": "stream",
     "text": [
      "596\n"
     ]
    }
   ],
   "source": [
    "print(len(pytz.all_timezones))"
   ]
  },
  {
   "cell_type": "code",
   "execution_count": 147,
   "id": "aaccf93f",
   "metadata": {},
   "outputs": [
    {
     "name": "stdout",
     "output_type": "stream",
     "text": [
      "['US/Alaska', 'US/Arizona', 'US/Central', 'US/Eastern', 'US/Hawaii', 'US/Mountain', 'US/Pacific']\n"
     ]
    }
   ],
   "source": [
    "import re\n",
    "\n",
    "regex = re.compile(r'^US')\n",
    "selected_files = filter(regex.search, pytz.common_timezones)\n",
    "print(list(selected_files))"
   ]
  },
  {
   "cell_type": "code",
   "execution_count": 158,
   "id": "50e72c5c",
   "metadata": {},
   "outputs": [
    {
     "name": "stdout",
     "output_type": "stream",
     "text": [
      "2017-08-29 07:00:00-04:00\n"
     ]
    }
   ],
   "source": [
    "depart = pd.Timestamp('2017-08-29 07:00', tz='US/Eastern')\n",
    "print(depart)"
   ]
  },
  {
   "cell_type": "code",
   "execution_count": 149,
   "id": "d0c7f0ad",
   "metadata": {},
   "outputs": [
    {
     "name": "stdout",
     "output_type": "stream",
     "text": [
      "2017-08-29 09:57:00\n"
     ]
    }
   ],
   "source": [
    "arrive = pd.Timestamp('2017-08-29 09:57')\n",
    "print(arrive)"
   ]
  },
  {
   "cell_type": "code",
   "execution_count": 150,
   "id": "bc9144ed",
   "metadata": {},
   "outputs": [
    {
     "name": "stdout",
     "output_type": "stream",
     "text": [
      "2017-08-29 09:57:00-07:00\n"
     ]
    }
   ],
   "source": [
    "arrive = arrive.tz_localize('US/Pacific')\n",
    "print(arrive)"
   ]
  },
  {
   "cell_type": "code",
   "execution_count": 151,
   "id": "82793a6c",
   "metadata": {},
   "outputs": [
    {
     "name": "stdout",
     "output_type": "stream",
     "text": [
      "2017-08-29 12:57:00-04:00\n"
     ]
    }
   ],
   "source": [
    "print(arrive.tz_convert('US/Eastern'))"
   ]
  },
  {
   "cell_type": "code",
   "execution_count": 152,
   "id": "6c838a69",
   "metadata": {},
   "outputs": [
    {
     "name": "stdout",
     "output_type": "stream",
     "text": [
      "0 days 05:57:00\n"
     ]
    }
   ],
   "source": [
    "duration = arrive - depart\n",
    "print(duration)"
   ]
  },
  {
   "cell_type": "code",
   "execution_count": null,
   "id": "af49e092",
   "metadata": {},
   "outputs": [],
   "source": []
  }
 ],
 "metadata": {
  "kernelspec": {
   "display_name": "Python 3 (ipykernel)",
   "language": "python",
   "name": "python3"
  },
  "language_info": {
   "codemirror_mode": {
    "name": "ipython",
    "version": 3
   },
   "file_extension": ".py",
   "mimetype": "text/x-python",
   "name": "python",
   "nbconvert_exporter": "python",
   "pygments_lexer": "ipython3",
   "version": "3.11.7"
  },
  "toc": {
   "base_numbering": 1,
   "nav_menu": {},
   "number_sections": false,
   "sideBar": false,
   "skip_h1_title": false,
   "title_cell": "Table of Contents",
   "title_sidebar": "Contents",
   "toc_cell": false,
   "toc_position": {
    "height": "1098px",
    "left": "915.867px",
    "top": "138.233px",
    "width": "255.467px"
   },
   "toc_section_display": true,
   "toc_window_display": true
  }
 },
 "nbformat": 4,
 "nbformat_minor": 5
}
