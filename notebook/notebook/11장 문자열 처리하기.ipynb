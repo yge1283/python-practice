{
 "cells": [
  {
   "cell_type": "markdown",
   "id": "a41ef1a1",
   "metadata": {},
   "source": [
    "## 11-1 문자열 다루기"
   ]
  },
  {
   "cell_type": "code",
   "execution_count": 1,
   "id": "2ba6d96a",
   "metadata": {},
   "outputs": [],
   "source": [
    "word = 'grail'\n",
    "sent = 'a scratch'"
   ]
  },
  {
   "cell_type": "markdown",
   "id": "ed85f40d",
   "metadata": {},
   "source": [
    "### 인덱스로 문자열 추출하기"
   ]
  },
  {
   "cell_type": "markdown",
   "id": "cfd4d882",
   "metadata": {},
   "source": [
    "#### [Do It! 실습] 문자 추출하기"
   ]
  },
  {
   "cell_type": "markdown",
   "id": "aac0c6c1",
   "metadata": {},
   "source": [
    "##### 1. 문자 1개 추출하기"
   ]
  },
  {
   "cell_type": "code",
   "execution_count": 2,
   "id": "252ea8f6",
   "metadata": {},
   "outputs": [
    {
     "name": "stdout",
     "output_type": "stream",
     "text": [
      "g\n"
     ]
    }
   ],
   "source": [
    "print(word[0])"
   ]
  },
  {
   "cell_type": "code",
   "execution_count": 3,
   "id": "0b18f60e",
   "metadata": {},
   "outputs": [
    {
     "name": "stdout",
     "output_type": "stream",
     "text": [
      "c\n"
     ]
    }
   ],
   "source": [
    "print(sent[3])"
   ]
  },
  {
   "cell_type": "markdown",
   "id": "b8cd3962",
   "metadata": {},
   "source": [
    "##### 2. 문자 여러 개 추출하기"
   ]
  },
  {
   "cell_type": "code",
   "execution_count": 4,
   "id": "84b18b6a",
   "metadata": {},
   "outputs": [
    {
     "name": "stdout",
     "output_type": "stream",
     "text": [
      "gra\n"
     ]
    }
   ],
   "source": [
    "print(word[0:3])"
   ]
  },
  {
   "cell_type": "markdown",
   "id": "4316913e",
   "metadata": {},
   "source": [
    "#### [Do It! 실습] 음수 인덱스로 추출하기"
   ]
  },
  {
   "cell_type": "code",
   "execution_count": 5,
   "id": "64af8fa3",
   "metadata": {},
   "outputs": [
    {
     "name": "stdout",
     "output_type": "stream",
     "text": [
      "h\n"
     ]
    }
   ],
   "source": [
    "print(sent[-1])"
   ]
  },
  {
   "cell_type": "code",
   "execution_count": 6,
   "id": "76976ef7",
   "metadata": {},
   "outputs": [
    {
     "name": "stdout",
     "output_type": "stream",
     "text": [
      "a\n"
     ]
    }
   ],
   "source": [
    "print(sent[-9:-8])"
   ]
  },
  {
   "cell_type": "code",
   "execution_count": 7,
   "id": "c5ce0c47",
   "metadata": {},
   "outputs": [
    {
     "name": "stdout",
     "output_type": "stream",
     "text": [
      "a\n"
     ]
    }
   ],
   "source": [
    "print(sent[0:-8])"
   ]
  },
  {
   "cell_type": "code",
   "execution_count": 8,
   "id": "dd79976b",
   "metadata": {},
   "outputs": [
    {
     "name": "stdout",
     "output_type": "stream",
     "text": [
      "scratc\n"
     ]
    }
   ],
   "source": [
    "print(sent[2:-1])"
   ]
  },
  {
   "cell_type": "code",
   "execution_count": 9,
   "id": "47a48508",
   "metadata": {},
   "outputs": [
    {
     "name": "stdout",
     "output_type": "stream",
     "text": [
      "scratc\n"
     ]
    }
   ],
   "source": [
    "print(sent[-7:-1])"
   ]
  },
  {
   "cell_type": "markdown",
   "id": "ead40f47",
   "metadata": {},
   "source": [
    "### 슬라이싱 구문으로 마지막 문자 추출하기"
   ]
  },
  {
   "cell_type": "code",
   "execution_count": 10,
   "id": "2649c762",
   "metadata": {},
   "outputs": [
    {
     "name": "stdout",
     "output_type": "stream",
     "text": [
      "9\n"
     ]
    }
   ],
   "source": [
    "s_len = len(sent)\n",
    "print(s_len)"
   ]
  },
  {
   "cell_type": "code",
   "execution_count": 11,
   "id": "359a95f4",
   "metadata": {},
   "outputs": [
    {
     "name": "stdout",
     "output_type": "stream",
     "text": [
      "scratch\n"
     ]
    }
   ],
   "source": [
    "print(sent[2:s_len])"
   ]
  },
  {
   "cell_type": "markdown",
   "id": "8166a349",
   "metadata": {},
   "source": [
    "#### [Do It! 실습] 슬라이딩 구문에서 왼쪽이나 오른쪽 인덱스를 지정하지 않고 문자 추출하기"
   ]
  },
  {
   "cell_type": "code",
   "execution_count": 12,
   "id": "ff597513",
   "metadata": {},
   "outputs": [
    {
     "name": "stdout",
     "output_type": "stream",
     "text": [
      "gra\n"
     ]
    }
   ],
   "source": [
    "print(word[0:3])"
   ]
  },
  {
   "cell_type": "code",
   "execution_count": 13,
   "id": "d9a12e34",
   "metadata": {},
   "outputs": [
    {
     "name": "stdout",
     "output_type": "stream",
     "text": [
      "gra\n"
     ]
    }
   ],
   "source": [
    "print(word[ :3])"
   ]
  },
  {
   "cell_type": "code",
   "execution_count": 14,
   "id": "4b4fc056",
   "metadata": {},
   "outputs": [
    {
     "name": "stdout",
     "output_type": "stream",
     "text": [
      "scratch\n"
     ]
    }
   ],
   "source": [
    "print(sent[2:len(sent)])"
   ]
  },
  {
   "cell_type": "code",
   "execution_count": 15,
   "id": "c74ecf93",
   "metadata": {},
   "outputs": [
    {
     "name": "stdout",
     "output_type": "stream",
     "text": [
      "scratch\n"
     ]
    }
   ],
   "source": [
    "print(sent[2: ])"
   ]
  },
  {
   "cell_type": "code",
   "execution_count": 16,
   "id": "15027e50",
   "metadata": {},
   "outputs": [
    {
     "name": "stdout",
     "output_type": "stream",
     "text": [
      "a scratch\n"
     ]
    }
   ],
   "source": [
    "print(sent[ : ])"
   ]
  },
  {
   "cell_type": "markdown",
   "id": "60664290",
   "metadata": {},
   "source": [
    "#### [Do It! 실습] 슬라이싱 간격 설정하기"
   ]
  },
  {
   "cell_type": "code",
   "execution_count": 17,
   "id": "8c2b7114",
   "metadata": {},
   "outputs": [
    {
     "name": "stdout",
     "output_type": "stream",
     "text": [
      "asrth\n"
     ]
    }
   ],
   "source": [
    "print(sent[::2])"
   ]
  },
  {
   "cell_type": "code",
   "execution_count": 18,
   "id": "e7bac6c8",
   "metadata": {},
   "outputs": [
    {
     "name": "stdout",
     "output_type": "stream",
     "text": [
      "act\n"
     ]
    }
   ],
   "source": [
    "print(sent[::3])"
   ]
  },
  {
   "cell_type": "markdown",
   "id": "9009a557",
   "metadata": {},
   "source": [
    "## 11-2 문자열 메서드"
   ]
  },
  {
   "cell_type": "code",
   "execution_count": 19,
   "id": "d88650a6",
   "metadata": {},
   "outputs": [
    {
     "name": "stdout",
     "output_type": "stream",
     "text": [
      "Black knight\n",
      "2\n",
      "True\n",
      "True\n",
      "6\n",
      "False\n",
      "True\n",
      "False\n",
      "black knight\n",
      "BLACK KNIGHT\n",
      "scratch!\n",
      "I'm not dead.\n",
      "['NI!', 'NI!', 'NI!', 'NI!']\n",
      "('3', ',', '4')\n",
      "   nine   \n",
      "00009\n"
     ]
    }
   ],
   "source": [
    "print(\"black Knight\".capitalize())\n",
    "print(\"It's just a flesh wound!\".count('u'))\n",
    "print(\"Halt! Who goes there?\".startswith('Halt'))\n",
    "print(\"coconut\".endswith('nut'))\n",
    "print(\"It's just a flesh wound!\".find('u'))\n",
    "#print(\"It's just a flesh wound!\".index('scratch'))  # 오류\n",
    "print(\"old woman\".isalpha())\n",
    "print(\"37\".isdecimal())\n",
    "print(\"I'm 37\".isalnum())\n",
    "print(\"Black Knight\".lower())\n",
    "print(\"Black Knight\".upper())\n",
    "print(\"flesh wound!\".replace('flesh wound', 'scratch'))\n",
    "print(\"  I'm not dead.  \".strip())\n",
    "print(\"NI! NI! NI! NI!\".split(sep=' '))\n",
    "print(\"3,4\".partition(','))\n",
    "print(\"nine\".center(10))\n",
    "print(\"9\".zfill(5))"
   ]
  },
  {
   "cell_type": "markdown",
   "id": "0bca307e",
   "metadata": {},
   "source": [
    "## 11-3 문자열 메서드 더 알아보기"
   ]
  },
  {
   "cell_type": "markdown",
   "id": "b75040b8",
   "metadata": {},
   "source": [
    "#### [Do It! 실습] join() 메서드"
   ]
  },
  {
   "cell_type": "code",
   "execution_count": 20,
   "id": "e33e0b3e",
   "metadata": {},
   "outputs": [
    {
     "name": "stdout",
     "output_type": "stream",
     "text": [
      "40° 46' 52.837\" N 73° 58' 26.302\" W\n"
     ]
    }
   ],
   "source": [
    "d1 = '40°' \n",
    "m1 = \"46'\" \n",
    "s1 = '52.837\"' \n",
    "u1 = 'N'\n",
    "\n",
    "d2 = '73°' \n",
    "m2 = \"58'\" \n",
    "s2 = '26.302\"' \n",
    "u2 = 'W'\n",
    "\n",
    "coords = ' '.join([d1, m1, s1, u1, d2, m2, s2, u2])\n",
    "print(coords)"
   ]
  },
  {
   "cell_type": "code",
   "execution_count": 21,
   "id": "4a4b42a4",
   "metadata": {},
   "outputs": [
    {
     "name": "stdout",
     "output_type": "stream",
     "text": [
      "40° 46' 52.837\" N 73° 58' 26.302\" W\n"
     ]
    }
   ],
   "source": [
    "coords.split(\" \")\n",
    "print(coords)"
   ]
  },
  {
   "cell_type": "markdown",
   "id": "976458ac",
   "metadata": {},
   "source": [
    "#### [Do It! 실습] splitlines() 메서드"
   ]
  },
  {
   "cell_type": "code",
   "execution_count": 22,
   "id": "5d03a989",
   "metadata": {},
   "outputs": [
    {
     "name": "stdout",
     "output_type": "stream",
     "text": [
      "Guard: What? Ridden on a horse?\n",
      "King Arthur: Yes!\n",
      "Guard: You're using coconuts!\n",
      "King Arthur: What?\n",
      "Guard: You've got ... coconut[s] and you're bangin' 'em together. \n",
      "\n"
     ]
    }
   ],
   "source": [
    "multi_str = \"\"\"Guard: What? Ridden on a horse?\n",
    "King Arthur: Yes!\n",
    "Guard: You're using coconuts!\n",
    "King Arthur: What?\n",
    "Guard: You've got ... coconut[s] and you're bangin' 'em together. \n",
    "\"\"\" \n",
    "print(multi_str)"
   ]
  },
  {
   "cell_type": "code",
   "execution_count": 23,
   "id": "dfff7331",
   "metadata": {},
   "outputs": [
    {
     "name": "stdout",
     "output_type": "stream",
     "text": [
      "['Guard: What? Ridden on a horse?', 'King Arthur: Yes!', \"Guard: You're using coconuts!\", 'King Arthur: What?', \"Guard: You've got ... coconut[s] and you're bangin' 'em together. \"]\n"
     ]
    }
   ],
   "source": [
    "multi_str_split = multi_str.splitlines() \n",
    "print(multi_str_split)"
   ]
  },
  {
   "cell_type": "code",
   "execution_count": 24,
   "id": "bde5f914",
   "metadata": {},
   "outputs": [
    {
     "name": "stdout",
     "output_type": "stream",
     "text": [
      "['Guard: What? Ridden on a horse?', \"Guard: You're using coconuts!\", \"Guard: You've got ... coconut[s] and you're bangin' 'em together. \"]\n"
     ]
    }
   ],
   "source": [
    "guard = multi_str_split[::2] \n",
    "print(guard)"
   ]
  },
  {
   "cell_type": "code",
   "execution_count": 25,
   "id": "f7d0f9b7",
   "metadata": {},
   "outputs": [
    {
     "name": "stdout",
     "output_type": "stream",
     "text": [
      "['What? Ridden on a horse?', \"You're using coconuts!\", \"You've got ... coconut[s] and you're bangin' 'em together. \"]\n"
     ]
    }
   ],
   "source": [
    "guard = multi_str.replace(\"Guard: \", \"\").splitlines()[::2] \n",
    "print(guard)"
   ]
  },
  {
   "cell_type": "markdown",
   "id": "1f3d3593",
   "metadata": {},
   "source": [
    "## 11-4 문자열 포매팅"
   ]
  },
  {
   "cell_type": "markdown",
   "id": "0a2a24a7",
   "metadata": {},
   "source": [
    "#### [Do It! 실습] f-문자열을 이용하여 포매팅하기"
   ]
  },
  {
   "cell_type": "code",
   "execution_count": 26,
   "id": "68065b87",
   "metadata": {},
   "outputs": [
    {
     "name": "stdout",
     "output_type": "stream",
     "text": [
      "hello\n"
     ]
    }
   ],
   "source": [
    "s = f\"hello\"\n",
    "print(s)"
   ]
  },
  {
   "cell_type": "code",
   "execution_count": 27,
   "id": "abcb7e3a",
   "metadata": {},
   "outputs": [
    {
     "name": "stdout",
     "output_type": "stream",
     "text": [
      "I only know 7 digits of pi.\n"
     ]
    }
   ],
   "source": [
    "num = 7\n",
    "s = f\"I only know {num} digits of pi.\"\n",
    "print(s)"
   ]
  },
  {
   "cell_type": "code",
   "execution_count": 28,
   "id": "8fd0f7b9",
   "metadata": {},
   "outputs": [
    {
     "name": "stdout",
     "output_type": "stream",
     "text": [
      "Some digits of e: 2.718\n"
     ]
    }
   ],
   "source": [
    "const = \"e\"\n",
    "value = 2.718\n",
    "s = f\"Some digits of {const}: {value}\"\n",
    "print(s)"
   ]
  },
  {
   "cell_type": "code",
   "execution_count": 29,
   "id": "4781327b",
   "metadata": {},
   "outputs": [
    {
     "name": "stdout",
     "output_type": "stream",
     "text": [
      "Hayden Planetarium Coordinates: 40.7815° N, 73.9733° W\n"
     ]
    }
   ],
   "source": [
    "lat = \"40.7815° N\"\n",
    "lon = \"73.9733° W\"\n",
    "s = f\"Hayden Planetarium Coordinates: {lat}, {lon}\"\n",
    "print(s)"
   ]
  },
  {
   "cell_type": "code",
   "execution_count": 30,
   "id": "f1c82156",
   "metadata": {},
   "outputs": [
    {
     "name": "stdout",
     "output_type": "stream",
     "text": [
      "Black Knight: 'Tis but a scratch.\n",
      "King Arthur: A scratch? Your arm's off!\n",
      "\n"
     ]
    }
   ],
   "source": [
    "word = \"scratch\"\n",
    "s = f\"\"\"Black Knight: 'Tis but a {word}.\n",
    "King Arthur: A {word}? Your arm's off!\n",
    "\"\"\"\n",
    "print(s)"
   ]
  },
  {
   "cell_type": "markdown",
   "id": "b8b92ebe",
   "metadata": {},
   "source": [
    "#### [Do It! 실습] 숫자 포매팅하기"
   ]
  },
  {
   "cell_type": "code",
   "execution_count": 31,
   "id": "40dc9aaf",
   "metadata": {},
   "outputs": [
    {
     "name": "stdout",
     "output_type": "stream",
     "text": [
      "Some digits of pi: 3.14159265359\n"
     ]
    }
   ],
   "source": [
    "p = 3.14159265359\n",
    "print(f\"Some digits of pi: {p}\")"
   ]
  },
  {
   "cell_type": "code",
   "execution_count": 32,
   "id": "0814ed18",
   "metadata": {},
   "outputs": [
    {
     "name": "stdout",
     "output_type": "stream",
     "text": [
      "In 2005, Lu Chao of China recited 67,890 digits of pi.\n"
     ]
    }
   ],
   "source": [
    "digits = 67890\n",
    "s = f\"In 2005, Lu Chao of China recited {67890:,} digits of pi.\"\n",
    "print(s)"
   ]
  },
  {
   "cell_type": "code",
   "execution_count": 33,
   "id": "b4994a5b",
   "metadata": {},
   "outputs": [
    {
     "name": "stdout",
     "output_type": "stream",
     "text": [
      "I remember 0.0001031 or 0.0103% of what Lu Chao recited.\n"
     ]
    }
   ],
   "source": [
    "prop = 7 / 67890\n",
    "s = f\"I remember {prop:.4} or {prop:.4%} of what Lu Chao recited.\"\n",
    "print(s)"
   ]
  },
  {
   "cell_type": "code",
   "execution_count": 34,
   "id": "1682555b",
   "metadata": {},
   "outputs": [
    {
     "name": "stdout",
     "output_type": "stream",
     "text": [
      "My ID number is 00042\n"
     ]
    }
   ],
   "source": [
    "id = 42\n",
    "print(f\"My ID number is {id:05d}\")"
   ]
  },
  {
   "cell_type": "code",
   "execution_count": 35,
   "id": "29f9318d",
   "metadata": {},
   "outputs": [
    {
     "name": "stdout",
     "output_type": "stream",
     "text": [
      "My ID number is 00042\n"
     ]
    }
   ],
   "source": [
    "id_zfill = \"42\".zfill(5)\n",
    "print(f\"My ID number is {id_zfill}\")"
   ]
  },
  {
   "cell_type": "code",
   "execution_count": 36,
   "id": "d16fa063",
   "metadata": {},
   "outputs": [
    {
     "name": "stdout",
     "output_type": "stream",
     "text": [
      "My ID number is 00042\n"
     ]
    }
   ],
   "source": [
    "print(f\"My ID number is {'42'.zfill(5)}\")"
   ]
  },
  {
   "cell_type": "markdown",
   "id": "b70acd1c",
   "metadata": {},
   "source": [
    "## 11-5 정규식으로 문자열 처리에 날개 달기"
   ]
  },
  {
   "cell_type": "markdown",
   "id": "30969a32",
   "metadata": {},
   "source": [
    "#### [Do It! 실습] 정규식으로 패턴 찾기"
   ]
  },
  {
   "cell_type": "code",
   "execution_count": 37,
   "id": "97941d77",
   "metadata": {},
   "outputs": [],
   "source": [
    "import re\n",
    "\n",
    "tele_num = '1234567890'"
   ]
  },
  {
   "cell_type": "code",
   "execution_count": 38,
   "id": "640af985",
   "metadata": {},
   "outputs": [
    {
     "name": "stdout",
     "output_type": "stream",
     "text": [
      "<class 're.Match'>\n"
     ]
    }
   ],
   "source": [
    "m = re.match(pattern='\\d\\d\\d\\d\\d\\d\\d\\d\\d\\d', string=tele_num) \n",
    "print(type(m))"
   ]
  },
  {
   "cell_type": "code",
   "execution_count": 39,
   "id": "90a59a63",
   "metadata": {},
   "outputs": [
    {
     "name": "stdout",
     "output_type": "stream",
     "text": [
      "<re.Match object; span=(0, 10), match='1234567890'>\n"
     ]
    }
   ],
   "source": [
    "print(m)"
   ]
  },
  {
   "cell_type": "code",
   "execution_count": 40,
   "id": "43dd8af1",
   "metadata": {},
   "outputs": [
    {
     "name": "stdout",
     "output_type": "stream",
     "text": [
      "True\n"
     ]
    }
   ],
   "source": [
    "print(bool(m))"
   ]
  },
  {
   "cell_type": "code",
   "execution_count": 41,
   "id": "bbc1ff19",
   "metadata": {},
   "outputs": [
    {
     "name": "stdout",
     "output_type": "stream",
     "text": [
      "match\n"
     ]
    }
   ],
   "source": [
    "if m:\n",
    "    print('match')\n",
    "else:\n",
    "    print('no match')"
   ]
  },
  {
   "cell_type": "code",
   "execution_count": 42,
   "id": "6d31b7cb",
   "metadata": {},
   "outputs": [
    {
     "name": "stdout",
     "output_type": "stream",
     "text": [
      "0\n",
      "10\n",
      "(0, 10)\n",
      "1234567890\n"
     ]
    }
   ],
   "source": [
    "print(m.start())\n",
    "print(m.end())\n",
    "print(m.span())\n",
    "print(m.group())"
   ]
  },
  {
   "cell_type": "code",
   "execution_count": 43,
   "id": "9a5ee746",
   "metadata": {},
   "outputs": [],
   "source": [
    "tele_num_spaces = '123 456 7890'"
   ]
  },
  {
   "cell_type": "code",
   "execution_count": 44,
   "id": "04657e6a",
   "metadata": {},
   "outputs": [
    {
     "name": "stdout",
     "output_type": "stream",
     "text": [
      "None\n"
     ]
    }
   ],
   "source": [
    "m = re.match(pattern='\\d{10}', string=tele_num_spaces)\n",
    "print(m)"
   ]
  },
  {
   "cell_type": "code",
   "execution_count": 45,
   "id": "bcdef083",
   "metadata": {},
   "outputs": [
    {
     "name": "stdout",
     "output_type": "stream",
     "text": [
      "no match\n"
     ]
    }
   ],
   "source": [
    "if m:\n",
    "    print('match')\n",
    "else:\n",
    "    print('no match')"
   ]
  },
  {
   "cell_type": "code",
   "execution_count": 46,
   "id": "763f1eef",
   "metadata": {},
   "outputs": [
    {
     "name": "stdout",
     "output_type": "stream",
     "text": [
      "<re.Match object; span=(0, 12), match='123 456 7890'>\n"
     ]
    }
   ],
   "source": [
    "p = '\\d{3}\\s?\\d{3}\\s?\\d{4}'\n",
    "m = re.match(pattern=p, string=tele_num_spaces)\n",
    "print(m)"
   ]
  },
  {
   "cell_type": "code",
   "execution_count": 47,
   "id": "2038b09c",
   "metadata": {},
   "outputs": [
    {
     "name": "stdout",
     "output_type": "stream",
     "text": [
      "<re.Match object; span=(0, 14), match='(123) 456-7890'>\n"
     ]
    }
   ],
   "source": [
    "tele_num_space_paren_dash = '(123) 456-7890'\n",
    "p = '\\(?\\d{3}\\)?\\s?\\d{3}\\s?-?\\d{4}'\n",
    "m = re.match(pattern=p, string=tele_num_space_paren_dash)\n",
    "print(m)"
   ]
  },
  {
   "cell_type": "code",
   "execution_count": 48,
   "id": "a560a539",
   "metadata": {},
   "outputs": [
    {
     "name": "stdout",
     "output_type": "stream",
     "text": [
      "<re.Match object; span=(0, 17), match='+1 (123) 456-7890'>\n"
     ]
    }
   ],
   "source": [
    "cnty_tele_num_space_paren_dash = '+1 (123) 456-7890'\n",
    "p = '\\+?1\\s?\\(?\\d{3}\\)?\\s?\\d{3}\\s?-?\\d{4}'\n",
    "m = re.match(pattern=p, string=cnty_tele_num_space_paren_dash)\n",
    "print(m)"
   ]
  },
  {
   "cell_type": "markdown",
   "id": "0b3e8817",
   "metadata": {},
   "source": [
    "#### [Do It! 실습] 알기 쉬운 정규식 만들기"
   ]
  },
  {
   "cell_type": "code",
   "execution_count": 49,
   "id": "86e96966",
   "metadata": {},
   "outputs": [
    {
     "name": "stdout",
     "output_type": "stream",
     "text": [
      "\\+?1\\s?\\(?\\d{3}\\)?\\s?\\d{3}\\s?-?\\d{4}\n"
     ]
    }
   ],
   "source": [
    "p = (\n",
    "    '\\+?'\n",
    "    '1'\n",
    "    '\\s?'\n",
    "    '\\(?'\n",
    "    '\\d{3}'\n",
    "    '\\)?'\n",
    "    '\\s?'\n",
    "    '\\d{3}'\n",
    "    '\\s?'\n",
    "    '-?'\n",
    "    '\\d{4}'\n",
    ")\n",
    "print(p)"
   ]
  },
  {
   "cell_type": "code",
   "execution_count": 50,
   "id": "9d87e1b0",
   "metadata": {},
   "outputs": [
    {
     "name": "stdout",
     "output_type": "stream",
     "text": [
      "\\+?1\\s?\\(?\\d{3}\\)?\\s?\\d{3}\\s?-?\\d{4}\n"
     ]
    }
   ],
   "source": [
    "p = (\n",
    "    '\\+?'    # +가 0개 또는 1개\n",
    "    '1'      # 숫자 1\n",
    "    '\\s?'    # 공백 문자가 0개 또는 1개\n",
    "    '\\(?'    # ( 문자가 0개 또는 1개\n",
    "    '\\d{3}'  # 숫자 3개\n",
    "    '\\)?'    # ) 문자가 0개 또는 1개\n",
    "    '\\s?'    # 공백 문자가 0개 또는 1개\n",
    "    '\\d{3}'  # 숫자 3개\n",
    "    '\\s?'    # 공백 문자가 0개 또는 1개\n",
    "    '-?'     # - 문자가 0개 또는 1개\n",
    "    '\\d{4}'  # 숫자 4개\n",
    ")\n",
    "print(p)"
   ]
  },
  {
   "cell_type": "code",
   "execution_count": 51,
   "id": "c7103226",
   "metadata": {},
   "outputs": [
    {
     "name": "stdout",
     "output_type": "stream",
     "text": [
      "<re.Match object; span=(0, 17), match='+1 (123) 456-7890'>\n"
     ]
    }
   ],
   "source": [
    "cnty_tele_num_space_paren_dash = '+1 (123) 456-7890'\n",
    "m = re.match(pattern=p, string=cnty_tele_num_space_paren_dash)\n",
    "print(m)"
   ]
  },
  {
   "cell_type": "markdown",
   "id": "76b21eb2",
   "metadata": {},
   "source": [
    "#### [Do It! 실습] 패턴과 일치하는 모든 문자열 찾기"
   ]
  },
  {
   "cell_type": "code",
   "execution_count": 52,
   "id": "d37c0b78",
   "metadata": {},
   "outputs": [
    {
     "name": "stdout",
     "output_type": "stream",
     "text": [
      "14 Ncuti Gatwa, 13 Jodie Whittaker, war John Hurt, 12 Peter Capaldi, 11 Matt Smith, 10 David Tennant, 9 Christopher Eccleston\n"
     ]
    }
   ],
   "source": [
    "s = (\n",
    "    \"14 Ncuti Gatwa, \"\n",
    "    \"13 Jodie Whittaker, war John Hurt, 12 Peter Capaldi, \"\n",
    "    \"11 Matt Smith, 10 David Tennant, 9 Christopher Eccleston\"\n",
    ")\n",
    "print(s)"
   ]
  },
  {
   "cell_type": "code",
   "execution_count": 53,
   "id": "b7d459c6",
   "metadata": {},
   "outputs": [
    {
     "name": "stdout",
     "output_type": "stream",
     "text": [
      "['14', '13', '12', '11', '10', '9']\n"
     ]
    }
   ],
   "source": [
    "p = \"\\d+\"\n",
    "m = re.findall(pattern=p, string=s)\n",
    "print(m)"
   ]
  },
  {
   "cell_type": "markdown",
   "id": "cc579bbe",
   "metadata": {},
   "source": [
    "#### [Do It! 실습] 패턴과 일치하는 문자열 대체하기"
   ]
  },
  {
   "cell_type": "code",
   "execution_count": 54,
   "id": "a9393fe1",
   "metadata": {},
   "outputs": [
    {
     "name": "stdout",
     "output_type": "stream",
     "text": [
      "What? Ridden on a horse?\n",
      "Yes!\n",
      "You're using coconuts!\n",
      "What?\n",
      "You've got ... coconut[s] and you're bangin' 'em together.\n",
      "\n"
     ]
    }
   ],
   "source": [
    "multi_str = \"\"\"Guard: What? Ridden on a horse?\n",
    "King Arthur: Yes!\n",
    "Guard: You're using coconuts!\n",
    "King Arthur: What?\n",
    "Guard: You've got ... coconut[s] and you're bangin' 'em together.\n",
    "\"\"\"\n",
    "\n",
    "p = '\\w+\\s?\\w+:\\s?'\n",
    "s = re.sub(pattern=p, string=multi_str, repl='')\n",
    "print(s)"
   ]
  },
  {
   "cell_type": "code",
   "execution_count": 55,
   "id": "bf9c0f63",
   "metadata": {},
   "outputs": [
    {
     "name": "stdout",
     "output_type": "stream",
     "text": [
      "['What? Ridden on a horse?', \"You're using coconuts!\", \"You've got ... coconut[s] and you're bangin' 'em together.\"]\n"
     ]
    }
   ],
   "source": [
    "guard = s.splitlines()[ ::2]\n",
    "kinga = s.splitlines()[1::2]\n",
    "print(guard)"
   ]
  },
  {
   "cell_type": "code",
   "execution_count": 56,
   "id": "5d8bdc81",
   "metadata": {},
   "outputs": [
    {
     "name": "stdout",
     "output_type": "stream",
     "text": [
      "['Yes!', 'What?']\n"
     ]
    }
   ],
   "source": [
    "print(kinga)"
   ]
  },
  {
   "cell_type": "markdown",
   "id": "ef03b040",
   "metadata": {},
   "source": [
    "### compile() 메서드"
   ]
  },
  {
   "cell_type": "code",
   "execution_count": 57,
   "id": "9fd900b9",
   "metadata": {},
   "outputs": [
    {
     "name": "stdout",
     "output_type": "stream",
     "text": [
      "<re.Match object; span=(0, 10), match='1234567890'>\n"
     ]
    }
   ],
   "source": [
    "p = re.compile('\\d{10}')\n",
    "s = '1234567890'\n",
    "m = p.match(s)\n",
    "print(m)"
   ]
  },
  {
   "cell_type": "code",
   "execution_count": 58,
   "id": "50f4ec0b",
   "metadata": {},
   "outputs": [
    {
     "name": "stdout",
     "output_type": "stream",
     "text": [
      "['14', '13', '12', '11', '10', '9']\n"
     ]
    }
   ],
   "source": [
    "p = re.compile('\\d+')\n",
    "s = (\n",
    "    \"14 Ncuti Gatwa, \"\n",
    "    \"13 Jodie Whittaker, war John Hurt, 12 Peter Capaldi, \"\n",
    "    \"11 Matt Smith, 10 David Tennant, 9 Christopher Eccleston\"\n",
    ")\n",
    "m = p.findall(s)\n",
    "print(m)"
   ]
  },
  {
   "cell_type": "code",
   "execution_count": 59,
   "id": "0ac180db",
   "metadata": {},
   "outputs": [
    {
     "name": "stdout",
     "output_type": "stream",
     "text": [
      "You're using coconuts!\n"
     ]
    }
   ],
   "source": [
    "p = re.compile('\\w+\\s?\\w+:\\s?')\n",
    "s = \"Guard: You're using coconuts!\"\n",
    "m = p.sub(string=s, repl='')\n",
    "print(m)"
   ]
  },
  {
   "cell_type": "markdown",
   "id": "507c6490",
   "metadata": {},
   "source": [
    "## 11-6 regex 라이브러리"
   ]
  },
  {
   "cell_type": "code",
   "execution_count": 60,
   "id": "b9bc41db",
   "metadata": {},
   "outputs": [
    {
     "name": "stdout",
     "output_type": "stream",
     "text": [
      "['14', '13', '12', '11', '10', '9']\n"
     ]
    }
   ],
   "source": [
    "import regex\n",
    "\n",
    "p = regex.compile('\\d+')\n",
    "s = (\n",
    "    \"14 Ncuti Gatwa, \"\n",
    "    \"13 Jodie Whittaker, war John Hurt, 12 Peter Capaldi, \"\n",
    "    \"11 Matt Smith, 10 David Tennant, 9 Christopher Eccleston\"\n",
    ")\n",
    "m = p.findall(s)\n",
    "print(m)"
   ]
  },
  {
   "cell_type": "code",
   "execution_count": null,
   "id": "8b6567e9",
   "metadata": {},
   "outputs": [],
   "source": []
  }
 ],
 "metadata": {
  "kernelspec": {
   "display_name": "Python 3 (ipykernel)",
   "language": "python",
   "name": "python3"
  },
  "language_info": {
   "codemirror_mode": {
    "name": "ipython",
    "version": 3
   },
   "file_extension": ".py",
   "mimetype": "text/x-python",
   "name": "python",
   "nbconvert_exporter": "python",
   "pygments_lexer": "ipython3",
   "version": "3.11.5"
  },
  "toc": {
   "base_numbering": 1,
   "nav_menu": {},
   "number_sections": false,
   "sideBar": false,
   "skip_h1_title": false,
   "title_cell": "Table of Contents",
   "title_sidebar": "Contents",
   "toc_cell": false,
   "toc_position": {
    "height": "1098px",
    "left": "1021.87px",
    "top": "110.233px",
    "width": "255.467px"
   },
   "toc_section_display": true,
   "toc_window_display": true
  }
 },
 "nbformat": 4,
 "nbformat_minor": 5
}
