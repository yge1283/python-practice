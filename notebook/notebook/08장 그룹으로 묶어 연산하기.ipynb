{
 "cells": [
  {
   "cell_type": "markdown",
   "id": "cce72193",
   "metadata": {},
   "source": [
    "## 08-1 데이터 집계하기"
   ]
  },
  {
   "cell_type": "markdown",
   "id": "e3d883e1",
   "metadata": {},
   "source": [
    "#### [Do It! 실습] groupby() 메서드로 데이터 집계하기"
   ]
  },
  {
   "cell_type": "code",
   "execution_count": 1,
   "id": "dc3b8994",
   "metadata": {},
   "outputs": [],
   "source": [
    "import pandas as pd\n",
    "\n",
    "df = pd.read_csv('../data/gapminder.tsv', sep='\\t')"
   ]
  },
  {
   "cell_type": "code",
   "execution_count": 2,
   "id": "505c8afb",
   "metadata": {},
   "outputs": [
    {
     "name": "stdout",
     "output_type": "stream",
     "text": [
      "year\n",
      "1952    49.057620\n",
      "1957    51.507401\n",
      "1962    53.609249\n",
      "1967    55.678290\n",
      "1972    57.647386\n",
      "1977    59.570157\n",
      "1982    61.533197\n",
      "1987    63.212613\n",
      "1992    64.160338\n",
      "1997    65.014676\n",
      "2002    65.694923\n",
      "2007    67.007423\n",
      "Name: lifeExp, dtype: float64\n"
     ]
    }
   ],
   "source": [
    "avg_life_exp_by_year = df.groupby('year')[\"lifeExp\"].mean()\n",
    "print(avg_life_exp_by_year)"
   ]
  },
  {
   "cell_type": "code",
   "execution_count": 3,
   "id": "e6a77563",
   "metadata": {},
   "outputs": [
    {
     "name": "stdout",
     "output_type": "stream",
     "text": [
      "[1952 1957 1962 1967 1972 1977 1982 1987 1992 1997 2002 2007]\n"
     ]
    }
   ],
   "source": [
    "years = df.year.unique()\n",
    "print(years)"
   ]
  },
  {
   "cell_type": "code",
   "execution_count": 4,
   "id": "d9d35827",
   "metadata": {},
   "outputs": [
    {
     "name": "stdout",
     "output_type": "stream",
     "text": [
      "                 country continent  year  lifeExp       pop    gdpPercap\n",
      "0            Afghanistan      Asia  1952   28.801   8425333   779.445314\n",
      "12               Albania    Europe  1952   55.230   1282697  1601.056136\n",
      "24               Algeria    Africa  1952   43.077   9279525  2449.008185\n",
      "36                Angola    Africa  1952   30.015   4232095  3520.610273\n",
      "48             Argentina  Americas  1952   62.485  17876956  5911.315053\n",
      "...                  ...       ...   ...      ...       ...          ...\n",
      "1644             Vietnam      Asia  1952   40.412  26246839   605.066492\n",
      "1656  West Bank and Gaza      Asia  1952   43.160   1030585  1515.592329\n",
      "1668         Yemen, Rep.      Asia  1952   32.548   4963829   781.717576\n",
      "1680              Zambia    Africa  1952   42.038   2672000  1147.388831\n",
      "1692            Zimbabwe    Africa  1952   48.451   3080907   406.884115\n",
      "\n",
      "[142 rows x 6 columns]\n"
     ]
    }
   ],
   "source": [
    "y1952 = df.loc[df.year == 1952, :]\n",
    "print(y1952)"
   ]
  },
  {
   "cell_type": "code",
   "execution_count": 5,
   "id": "eacc480b",
   "metadata": {},
   "outputs": [
    {
     "name": "stdout",
     "output_type": "stream",
     "text": [
      "49.057619718309866\n"
     ]
    }
   ],
   "source": [
    "y1952_mean = y1952[\"lifeExp\"].mean()\n",
    "print(y1952_mean)"
   ]
  },
  {
   "cell_type": "markdown",
   "id": "de01dda5",
   "metadata": {},
   "source": [
    "### groupby() 메서드와 함께 사용하는 집계 메서드"
   ]
  },
  {
   "cell_type": "code",
   "execution_count": 6,
   "id": "ff3dc881",
   "metadata": {},
   "outputs": [
    {
     "name": "stdout",
     "output_type": "stream",
     "text": [
      "           count       mean        std     min       25%      50%       75%  \\\n",
      "continent                                                                     \n",
      "Africa     624.0  48.865330   9.150210  23.599  42.37250  47.7920  54.41150   \n",
      "Americas   300.0  64.658737   9.345088  37.579  58.41000  67.0480  71.69950   \n",
      "Asia       396.0  60.064903  11.864532  28.801  51.42625  61.7915  69.50525   \n",
      "Europe     360.0  71.903686   5.433178  43.585  69.57000  72.2410  75.45050   \n",
      "Oceania     24.0  74.326208   3.795611  69.120  71.20500  73.6650  77.55250   \n",
      "\n",
      "              max  \n",
      "continent          \n",
      "Africa     76.442  \n",
      "Americas   80.653  \n",
      "Asia       82.603  \n",
      "Europe     81.757  \n",
      "Oceania    81.235  \n"
     ]
    }
   ],
   "source": [
    "continent_describe = df.groupby('continent')[\"lifeExp\"].describe()\n",
    "print(continent_describe)"
   ]
  },
  {
   "cell_type": "markdown",
   "id": "65dbd5ce",
   "metadata": {},
   "source": [
    "### agg() 메서드와 groupby() 메서드 조합하기"
   ]
  },
  {
   "cell_type": "markdown",
   "id": "f4d83ecc",
   "metadata": {},
   "source": [
    "#### [Do It! 실습] 다른 라이브러리의 집계 함수 사용하기"
   ]
  },
  {
   "cell_type": "code",
   "execution_count": 7,
   "id": "63f59ec1",
   "metadata": {},
   "outputs": [
    {
     "name": "stdout",
     "output_type": "stream",
     "text": [
      "continent\n",
      "Africa      48.865330\n",
      "Americas    64.658737\n",
      "Asia        60.064903\n",
      "Europe      71.903686\n",
      "Oceania     74.326208\n",
      "Name: lifeExp, dtype: float64\n"
     ]
    }
   ],
   "source": [
    "import numpy as np\n",
    "\n",
    "cont_le_agg = df.groupby('continent')[\"lifeExp\"].agg(np.mean)\n",
    "print(cont_le_agg)"
   ]
  },
  {
   "cell_type": "markdown",
   "id": "668adb5b",
   "metadata": {},
   "source": [
    "#### [Do It! 실습] 사용자 집계 함수 사용하기"
   ]
  },
  {
   "cell_type": "code",
   "execution_count": 8,
   "id": "331eec1e",
   "metadata": {},
   "outputs": [],
   "source": [
    "def my_mean(values):\n",
    "    n = len(values)   # 숫자 개수를 구합니다.\n",
    "    sum = 0           # 합계를 0으로 초기화합니다.\n",
    "    for value in values:\n",
    "        sum += value  # 각 값을 더합니다.\n",
    "    return sum / n    # 합계를 숫자 개수로 나눈 값을 반환합니다."
   ]
  },
  {
   "cell_type": "code",
   "execution_count": 9,
   "id": "f4151ab4",
   "metadata": {},
   "outputs": [
    {
     "name": "stdout",
     "output_type": "stream",
     "text": [
      "year\n",
      "1952    49.057620\n",
      "1957    51.507401\n",
      "1962    53.609249\n",
      "1967    55.678290\n",
      "1972    57.647386\n",
      "1977    59.570157\n",
      "1982    61.533197\n",
      "1987    63.212613\n",
      "1992    64.160338\n",
      "1997    65.014676\n",
      "2002    65.694923\n",
      "2007    67.007423\n",
      "Name: lifeExp, dtype: float64\n"
     ]
    }
   ],
   "source": [
    "agg_my_mean = df.groupby('year')[\"lifeExp\"].agg(my_mean)\n",
    "print(agg_my_mean)"
   ]
  },
  {
   "cell_type": "code",
   "execution_count": 10,
   "id": "4fb4063f",
   "metadata": {},
   "outputs": [],
   "source": [
    "def my_mean_diff(values, diff_value):\n",
    "    n = len(values)\n",
    "    sum = 0\n",
    "    for value in values:\n",
    "        sum += value\n",
    "    mean = sum / n\n",
    "    return(mean - diff_value)"
   ]
  },
  {
   "cell_type": "code",
   "execution_count": 11,
   "id": "273979df",
   "metadata": {},
   "outputs": [
    {
     "name": "stdout",
     "output_type": "stream",
     "text": [
      "59.474439366197174\n"
     ]
    }
   ],
   "source": [
    "global_mean = df[\"lifeExp\"].mean()\n",
    "print(global_mean)"
   ]
  },
  {
   "cell_type": "code",
   "execution_count": 12,
   "id": "b7715a3c",
   "metadata": {},
   "outputs": [
    {
     "name": "stdout",
     "output_type": "stream",
     "text": [
      "year\n",
      "1952   -10.416820\n",
      "1957    -7.967038\n",
      "1962    -5.865190\n",
      "1967    -3.796150\n",
      "1972    -1.827053\n",
      "1977     0.095718\n",
      "1982     2.058758\n",
      "1987     3.738173\n",
      "1992     4.685899\n",
      "1997     5.540237\n",
      "2002     6.220483\n",
      "2007     7.532983\n",
      "Name: lifeExp, dtype: float64\n"
     ]
    }
   ],
   "source": [
    "agg_mean_diff = (\n",
    "    df\n",
    "    .groupby(\"year\")\n",
    "    [\"lifeExp\"]\n",
    "    .agg(my_mean_diff, diff_value=global_mean)\n",
    ")\n",
    "\n",
    "print(agg_mean_diff)"
   ]
  },
  {
   "cell_type": "markdown",
   "id": "168329ee",
   "metadata": {},
   "source": [
    "### 여러 개의 집계 함수 한 번에 사용하기"
   ]
  },
  {
   "cell_type": "code",
   "execution_count": 13,
   "id": "a8e3d942",
   "metadata": {
    "scrolled": true
   },
   "outputs": [
    {
     "name": "stdout",
     "output_type": "stream",
     "text": [
      "      count_nonzero       mean        std\n",
      "year                                     \n",
      "1952            142  49.057620  12.225956\n",
      "1957            142  51.507401  12.231286\n",
      "1962            142  53.609249  12.097245\n",
      "1967            142  55.678290  11.718858\n",
      "1972            142  57.647386  11.381953\n",
      "1977            142  59.570157  11.227229\n",
      "1982            142  61.533197  10.770618\n",
      "1987            142  63.212613  10.556285\n",
      "1992            142  64.160338  11.227380\n",
      "1997            142  65.014676  11.559439\n",
      "2002            142  65.694923  12.279823\n",
      "2007            142  67.007423  12.073021\n"
     ]
    }
   ],
   "source": [
    "gdf = (\n",
    "    df\n",
    "    .groupby(\"year\")\n",
    "    [\"lifeExp\"]\n",
    "    .agg([np.count_nonzero, np.mean, np.std])\n",
    ")\n",
    "\n",
    "print(gdf)"
   ]
  },
  {
   "cell_type": "markdown",
   "id": "8b108ca0",
   "metadata": {},
   "source": [
    "#### [Do It! 실습] agg()나 aggregate() 메서드에 딕셔너리 사용하기"
   ]
  },
  {
   "cell_type": "markdown",
   "id": "916d1fea",
   "metadata": {},
   "source": [
    "##### 1. 데이터프레임에 사용하기"
   ]
  },
  {
   "cell_type": "code",
   "execution_count": 14,
   "id": "506ba74f",
   "metadata": {},
   "outputs": [
    {
     "name": "stdout",
     "output_type": "stream",
     "text": [
      "        lifeExp         pop    gdpPercap\n",
      "year                                    \n",
      "1952  49.057620   3943953.0  1968.528344\n",
      "1957  51.507401   4282942.0  2173.220291\n",
      "1962  53.609249   4686039.5  2335.439533\n",
      "1967  55.678290   5170175.5  2678.334740\n",
      "1972  57.647386   5877996.5  3339.129407\n",
      "1977  59.570157   6404036.5  3798.609244\n",
      "1982  61.533197   7007320.0  4216.228428\n",
      "1987  63.212613   7774861.5  4280.300366\n",
      "1992  64.160338   8688686.5  4386.085502\n",
      "1997  65.014676   9735063.5  4781.825478\n",
      "2002  65.694923  10372918.5  5319.804524\n",
      "2007  67.007423  10517531.0  6124.371108\n"
     ]
    }
   ],
   "source": [
    "gdf_dict = df.groupby(\"year\").agg(\n",
    "    {\n",
    "        \"lifeExp\": \"mean\",\n",
    "        \"pop\": \"median\",\n",
    "        \"gdpPercap\": \"median\"\n",
    "    }\n",
    ")\n",
    "\n",
    "print(gdf_dict)"
   ]
  },
  {
   "cell_type": "markdown",
   "id": "66c025de",
   "metadata": {},
   "source": [
    "##### 2. 시리즈에 사용하기"
   ]
  },
  {
   "cell_type": "code",
   "execution_count": 15,
   "id": "af420f4b",
   "metadata": {},
   "outputs": [
    {
     "name": "stdout",
     "output_type": "stream",
     "text": [
      "    year  count        avg    std_dev\n",
      "0   1952    142  49.057620  12.225956\n",
      "1   1957    142  51.507401  12.231286\n",
      "2   1962    142  53.609249  12.097245\n",
      "3   1967    142  55.678290  11.718858\n",
      "4   1972    142  57.647386  11.381953\n",
      "5   1977    142  59.570157  11.227229\n",
      "6   1982    142  61.533197  10.770618\n",
      "7   1987    142  63.212613  10.556285\n",
      "8   1992    142  64.160338  11.227380\n",
      "9   1997    142  65.014676  11.559439\n",
      "10  2002    142  65.694923  12.279823\n",
      "11  2007    142  67.007423  12.073021\n"
     ]
    }
   ],
   "source": [
    "gdf = (\n",
    "    df\n",
    "    .groupby(\"year\")\n",
    "    [\"lifeExp\"]\n",
    "    .agg(\n",
    "        [\n",
    "            np.count_nonzero,\n",
    "            np.mean,\n",
    "            np.std,\n",
    "        ]\n",
    "    )\n",
    "    .rename(\n",
    "        columns={\n",
    "            \"count_nonzero\": \"count\",\n",
    "            \"mean\": \"avg\",\n",
    "            \"std\": \"std_dev\",\n",
    "            }\n",
    "    )\n",
    "    .reset_index() # 평탄화한 데이터프레임 반환하기\n",
    ")\n",
    "\n",
    "print(gdf)"
   ]
  },
  {
   "cell_type": "markdown",
   "id": "3aa3444f",
   "metadata": {},
   "source": [
    "## 08-2 데이터 변환하기"
   ]
  },
  {
   "cell_type": "markdown",
   "id": "3eb9a643",
   "metadata": {},
   "source": [
    "### 표준점수 계산하기"
   ]
  },
  {
   "cell_type": "markdown",
   "id": "a589dcc5",
   "metadata": {},
   "source": [
    "#### [Do It! 실습] 표준점수 계산 함수 만들기"
   ]
  },
  {
   "cell_type": "code",
   "execution_count": 16,
   "id": "fa98f97a",
   "metadata": {},
   "outputs": [],
   "source": [
    "def my_zscore(x):\n",
    "    return((x - x.mean()) / x.std())"
   ]
  },
  {
   "cell_type": "code",
   "execution_count": 17,
   "id": "6e30e752",
   "metadata": {},
   "outputs": [
    {
     "name": "stdout",
     "output_type": "stream",
     "text": [
      "0      -1.656854\n",
      "1      -1.731249\n",
      "2      -1.786543\n",
      "3      -1.848157\n",
      "4      -1.894173\n",
      "          ...   \n",
      "1699   -0.081621\n",
      "1700   -0.336974\n",
      "1701   -1.574962\n",
      "1702   -2.093346\n",
      "1703   -1.948180\n",
      "Name: lifeExp, Length: 1704, dtype: float64\n"
     ]
    }
   ],
   "source": [
    "transform_z = df.groupby('year')[\"lifeExp\"].transform(my_zscore)\n",
    "print(transform_z)"
   ]
  },
  {
   "cell_type": "code",
   "execution_count": 18,
   "id": "01ac4a32",
   "metadata": {},
   "outputs": [
    {
     "name": "stdout",
     "output_type": "stream",
     "text": [
      "(1704, 6)\n"
     ]
    }
   ],
   "source": [
    "print(df.shape)"
   ]
  },
  {
   "cell_type": "code",
   "execution_count": 19,
   "id": "87c2d234",
   "metadata": {},
   "outputs": [
    {
     "name": "stdout",
     "output_type": "stream",
     "text": [
      "(1704,)\n"
     ]
    }
   ],
   "source": [
    "print(transform_z.shape)"
   ]
  },
  {
   "cell_type": "code",
   "execution_count": 20,
   "id": "fe96cb0b",
   "metadata": {},
   "outputs": [
    {
     "name": "stdout",
     "output_type": "stream",
     "text": [
      "0   -1.656854\n",
      "1   -1.731249\n",
      "2   -1.786543\n",
      "3   -1.848157\n",
      "4   -1.894173\n",
      "Name: lifeExp, dtype: float64\n"
     ]
    }
   ],
   "source": [
    "from scipy.stats import zscore\n",
    "\n",
    "sp_z_grouped = df.groupby('year')[\"lifeExp\"].transform(zscore)\n",
    "sp_z_nogroup = zscore(df[\"lifeExp\"])\n",
    "\n",
    "print(transform_z.head())"
   ]
  },
  {
   "cell_type": "code",
   "execution_count": 21,
   "id": "1c46641d",
   "metadata": {},
   "outputs": [
    {
     "name": "stdout",
     "output_type": "stream",
     "text": [
      "0   -1.662719\n",
      "1   -1.737377\n",
      "2   -1.792867\n",
      "3   -1.854699\n",
      "4   -1.900878\n",
      "Name: lifeExp, dtype: float64\n"
     ]
    }
   ],
   "source": [
    "print(sp_z_grouped.head())"
   ]
  },
  {
   "cell_type": "code",
   "execution_count": 22,
   "id": "210e72ff",
   "metadata": {},
   "outputs": [
    {
     "name": "stdout",
     "output_type": "stream",
     "text": [
      "0   -2.375334\n",
      "1   -2.256774\n",
      "2   -2.127837\n",
      "3   -1.971178\n",
      "4   -1.811033\n",
      "Name: lifeExp, dtype: float64\n"
     ]
    }
   ],
   "source": [
    "print(sp_z_nogroup[:5])"
   ]
  },
  {
   "cell_type": "markdown",
   "id": "3996fd8f",
   "metadata": {},
   "source": [
    "### 평균값으로 결측값 채우기"
   ]
  },
  {
   "cell_type": "markdown",
   "id": "8ac671f4",
   "metadata": {},
   "source": [
    "#### [Do It! 실습] 평균값으로 결측값 채우기 "
   ]
  },
  {
   "cell_type": "code",
   "execution_count": 23,
   "id": "f03a1a55",
   "metadata": {},
   "outputs": [],
   "source": [
    "import seaborn as sns\n",
    "import numpy as np\n",
    "\n",
    "np.random.seed(42)\n",
    "\n",
    "tips_10 = sns.load_dataset(\"tips\").sample(10)"
   ]
  },
  {
   "cell_type": "code",
   "execution_count": 24,
   "id": "5f47f8b2",
   "metadata": {},
   "outputs": [
    {
     "name": "stdout",
     "output_type": "stream",
     "text": [
      "     total_bill   tip     sex smoker   day    time  size\n",
      "24        19.82  3.18    Male     No   Sat  Dinner     2\n",
      "6          8.77  2.00    Male     No   Sun  Dinner     2\n",
      "153         NaN  2.00    Male     No   Sun  Dinner     4\n",
      "211         NaN  5.16    Male    Yes   Sat  Dinner     4\n",
      "198         NaN  2.00  Female    Yes  Thur   Lunch     2\n",
      "176         NaN  2.00    Male    Yes   Sun  Dinner     2\n",
      "192       28.44  2.56    Male    Yes  Thur   Lunch     2\n",
      "124       12.48  2.52  Female     No  Thur   Lunch     2\n",
      "9         14.78  3.23    Male     No   Sun  Dinner     2\n",
      "101       15.38  3.00  Female    Yes   Fri  Dinner     2\n"
     ]
    }
   ],
   "source": [
    "tips_10.loc[\n",
    "    np.random.permutation(tips_10.index)[:4],\n",
    "    \"total_bill\"\n",
    "] = np.NaN\n",
    "\n",
    "print(tips_10)"
   ]
  },
  {
   "cell_type": "code",
   "execution_count": 25,
   "id": "41289ee7",
   "metadata": {},
   "outputs": [
    {
     "name": "stdout",
     "output_type": "stream",
     "text": [
      "        total_bill  tip  smoker  day  time  size\n",
      "sex                                             \n",
      "Male             4    7       7    7     7     7\n",
      "Female           2    3       3    3     3     3\n"
     ]
    }
   ],
   "source": [
    "count_sex = tips_10.groupby('sex').count()\n",
    "print(count_sex)"
   ]
  },
  {
   "cell_type": "code",
   "execution_count": 26,
   "id": "29c4f481",
   "metadata": {},
   "outputs": [],
   "source": [
    "def fill_na_mean(x):\n",
    "    avg = x.mean() \n",
    "    return x.fillna(avg)\n",
    "\n",
    "total_bill_group_mean = (\n",
    "    tips_10\n",
    "    .groupby(\"sex\")\n",
    "    .total_bill\n",
    "    .transform(fill_na_mean)\n",
    ")"
   ]
  },
  {
   "cell_type": "code",
   "execution_count": 27,
   "id": "c725c300",
   "metadata": {},
   "outputs": [
    {
     "name": "stdout",
     "output_type": "stream",
     "text": [
      "        sex  total_bill  fill_total_bill\n",
      "24     Male       19.82          19.8200\n",
      "6      Male        8.77           8.7700\n",
      "153    Male         NaN          17.9525\n",
      "211    Male         NaN          17.9525\n",
      "198  Female         NaN          13.9300\n",
      "176    Male         NaN          17.9525\n",
      "192    Male       28.44          28.4400\n",
      "124  Female       12.48          12.4800\n",
      "9      Male       14.78          14.7800\n",
      "101  Female       15.38          15.3800\n"
     ]
    }
   ],
   "source": [
    "tips_10[\"fill_total_bill\"] = total_bill_group_mean\n",
    "print(tips_10[['sex', 'total_bill', 'fill_total_bill']])"
   ]
  },
  {
   "cell_type": "markdown",
   "id": "acafc899",
   "metadata": {},
   "source": [
    "## 08-3 원하는 데이터 걸러내기"
   ]
  },
  {
   "cell_type": "markdown",
   "id": "22cc8b50",
   "metadata": {},
   "source": [
    "#### [Do It! 실습] 데이터 필터링하기"
   ]
  },
  {
   "cell_type": "code",
   "execution_count": 28,
   "id": "bd61daa0",
   "metadata": {},
   "outputs": [
    {
     "name": "stdout",
     "output_type": "stream",
     "text": [
      "(244, 7)\n"
     ]
    }
   ],
   "source": [
    "tips = sns.load_dataset('tips')\n",
    "print(tips.shape)"
   ]
  },
  {
   "cell_type": "code",
   "execution_count": 29,
   "id": "811fd25f",
   "metadata": {},
   "outputs": [
    {
     "name": "stdout",
     "output_type": "stream",
     "text": [
      "size\n",
      "2    156\n",
      "3     38\n",
      "4     37\n",
      "5      5\n",
      "1      4\n",
      "6      4\n",
      "Name: count, dtype: int64\n"
     ]
    }
   ],
   "source": [
    "print(tips['size'].value_counts())"
   ]
  },
  {
   "cell_type": "code",
   "execution_count": 30,
   "id": "39d76562",
   "metadata": {},
   "outputs": [],
   "source": [
    "tips_filtered = (\n",
    "    tips\n",
    "    .groupby(\"size\")\n",
    "    .filter(lambda x: x[\"size\"].count() >= 30)\n",
    ")"
   ]
  },
  {
   "cell_type": "code",
   "execution_count": 31,
   "id": "015948af",
   "metadata": {},
   "outputs": [
    {
     "name": "stdout",
     "output_type": "stream",
     "text": [
      "(231, 7)\n"
     ]
    }
   ],
   "source": [
    "print(tips_filtered.shape)"
   ]
  },
  {
   "cell_type": "code",
   "execution_count": 32,
   "id": "d880096f",
   "metadata": {},
   "outputs": [
    {
     "name": "stdout",
     "output_type": "stream",
     "text": [
      "size\n",
      "2    156\n",
      "3     38\n",
      "4     37\n",
      "Name: count, dtype: int64\n"
     ]
    }
   ],
   "source": [
    "print(tips_filtered['size'].value_counts())"
   ]
  },
  {
   "cell_type": "markdown",
   "id": "ac09587f",
   "metadata": {},
   "source": [
    "## 08-4 그룹 객체"
   ]
  },
  {
   "cell_type": "markdown",
   "id": "f2421b44",
   "metadata": {},
   "source": [
    "### 그룹 객체란?"
   ]
  },
  {
   "cell_type": "code",
   "execution_count": 33,
   "id": "dd517d01",
   "metadata": {},
   "outputs": [
    {
     "name": "stdout",
     "output_type": "stream",
     "text": [
      "     total_bill   tip     sex smoker   day    time  size\n",
      "24        19.82  3.18    Male     No   Sat  Dinner     2\n",
      "6          8.77  2.00    Male     No   Sun  Dinner     2\n",
      "153       24.55  2.00    Male     No   Sun  Dinner     4\n",
      "211       25.89  5.16    Male    Yes   Sat  Dinner     4\n",
      "198       13.00  2.00  Female    Yes  Thur   Lunch     2\n",
      "176       17.89  2.00    Male    Yes   Sun  Dinner     2\n",
      "192       28.44  2.56    Male    Yes  Thur   Lunch     2\n",
      "124       12.48  2.52  Female     No  Thur   Lunch     2\n",
      "9         14.78  3.23    Male     No   Sun  Dinner     2\n",
      "101       15.38  3.00  Female    Yes   Fri  Dinner     2\n"
     ]
    }
   ],
   "source": [
    "tips_10 = sns.load_dataset('tips').sample(10, random_state=42)\n",
    "print(tips_10)"
   ]
  },
  {
   "cell_type": "code",
   "execution_count": 34,
   "id": "290b519a",
   "metadata": {},
   "outputs": [
    {
     "name": "stdout",
     "output_type": "stream",
     "text": [
      "<pandas.core.groupby.generic.DataFrameGroupBy object at 0x000001E37DA18CD0>\n"
     ]
    }
   ],
   "source": [
    "grouped = tips_10.groupby('sex')\n",
    "print(grouped)"
   ]
  },
  {
   "cell_type": "code",
   "execution_count": 35,
   "id": "566080e5",
   "metadata": {},
   "outputs": [
    {
     "name": "stdout",
     "output_type": "stream",
     "text": [
      "{'Male': [24, 6, 153, 211, 176, 192, 9], 'Female': [198, 124, 101]}\n"
     ]
    }
   ],
   "source": [
    "print(grouped.groups)"
   ]
  },
  {
   "cell_type": "markdown",
   "id": "562674fd",
   "metadata": {},
   "source": [
    "#### [Do It! 실습] 그룹 객체로 여러 열에 집계 함수 적용하기"
   ]
  },
  {
   "cell_type": "code",
   "execution_count": 36,
   "id": "deef89c5",
   "metadata": {},
   "outputs": [
    {
     "name": "stdout",
     "output_type": "stream",
     "text": [
      "        total_bill       tip      size\n",
      "sex                                   \n",
      "Male         20.02  2.875714  2.571429\n",
      "Female       13.62  2.506667  2.000000\n"
     ]
    }
   ],
   "source": [
    "avgs = grouped.mean(numeric_only=True)\n",
    "print(avgs)"
   ]
  },
  {
   "cell_type": "code",
   "execution_count": 37,
   "id": "f33e8e3a",
   "metadata": {},
   "outputs": [
    {
     "name": "stdout",
     "output_type": "stream",
     "text": [
      "Index(['total_bill', 'tip', 'sex', 'smoker', 'day', 'time', 'size'], dtype='object')\n"
     ]
    }
   ],
   "source": [
    "print(tips_10.columns)"
   ]
  },
  {
   "cell_type": "markdown",
   "id": "c86a98d3",
   "metadata": {},
   "source": [
    "#### [Do It! 실습] 그룹 추출하고 순회하기"
   ]
  },
  {
   "cell_type": "code",
   "execution_count": 38,
   "id": "76f5970c",
   "metadata": {},
   "outputs": [
    {
     "name": "stdout",
     "output_type": "stream",
     "text": [
      "     total_bill   tip     sex smoker   day    time  size\n",
      "198       13.00  2.00  Female    Yes  Thur   Lunch     2\n",
      "124       12.48  2.52  Female     No  Thur   Lunch     2\n",
      "101       15.38  3.00  Female    Yes   Fri  Dinner     2\n"
     ]
    }
   ],
   "source": [
    "female = grouped.get_group('Female')\n",
    "print(female)"
   ]
  },
  {
   "cell_type": "code",
   "execution_count": 39,
   "id": "7d5617cb",
   "metadata": {},
   "outputs": [
    {
     "name": "stdout",
     "output_type": "stream",
     "text": [
      "('Male',      total_bill   tip   sex smoker   day    time  size\n",
      "24        19.82  3.18  Male     No   Sat  Dinner     2\n",
      "6          8.77  2.00  Male     No   Sun  Dinner     2\n",
      "153       24.55  2.00  Male     No   Sun  Dinner     4\n",
      "211       25.89  5.16  Male    Yes   Sat  Dinner     4\n",
      "176       17.89  2.00  Male    Yes   Sun  Dinner     2\n",
      "192       28.44  2.56  Male    Yes  Thur   Lunch     2\n",
      "9         14.78  3.23  Male     No   Sun  Dinner     2)\n",
      "('Female',      total_bill   tip     sex smoker   day    time  size\n",
      "198       13.00  2.00  Female    Yes  Thur   Lunch     2\n",
      "124       12.48  2.52  Female     No  Thur   Lunch     2\n",
      "101       15.38  3.00  Female    Yes   Fri  Dinner     2)\n"
     ]
    }
   ],
   "source": [
    "for sex_group in grouped:\n",
    "    print(sex_group)"
   ]
  },
  {
   "cell_type": "code",
   "execution_count": 40,
   "id": "87e53f59",
   "metadata": {},
   "outputs": [],
   "source": [
    "#print(grouped[0])  # 오류"
   ]
  },
  {
   "cell_type": "code",
   "execution_count": 41,
   "id": "5dcb2597",
   "metadata": {},
   "outputs": [
    {
     "name": "stdout",
     "output_type": "stream",
     "text": [
      "the type is: <class 'tuple'>\n",
      "\n",
      "the length is: 2\n",
      "\n",
      "the first element is: Male\n",
      "\n",
      "it has a type of: <class 'str'>\n",
      "\n",
      "the second element is:\n",
      "     total_bill   tip   sex smoker   day    time  size\n",
      "24        19.82  3.18  Male     No   Sat  Dinner     2\n",
      "6          8.77  2.00  Male     No   Sun  Dinner     2\n",
      "153       24.55  2.00  Male     No   Sun  Dinner     4\n",
      "211       25.89  5.16  Male    Yes   Sat  Dinner     4\n",
      "176       17.89  2.00  Male    Yes   Sun  Dinner     2\n",
      "192       28.44  2.56  Male    Yes  Thur   Lunch     2\n",
      "9         14.78  3.23  Male     No   Sun  Dinner     2\n",
      "\n",
      "it has a type of: <class 'pandas.core.frame.DataFrame'>\n",
      "\n",
      "what we have:\n",
      "('Male',      total_bill   tip   sex smoker   day    time  size\n",
      "24        19.82  3.18  Male     No   Sat  Dinner     2\n",
      "6          8.77  2.00  Male     No   Sun  Dinner     2\n",
      "153       24.55  2.00  Male     No   Sun  Dinner     4\n",
      "211       25.89  5.16  Male    Yes   Sat  Dinner     4\n",
      "176       17.89  2.00  Male    Yes   Sun  Dinner     2\n",
      "192       28.44  2.56  Male    Yes  Thur   Lunch     2\n",
      "9         14.78  3.23  Male     No   Sun  Dinner     2)\n"
     ]
    }
   ],
   "source": [
    "for sex_group in grouped:\n",
    "    # 객체 자료형 (튜플)\n",
    "    print(f'the type is: {type(sex_group)}\\n')\n",
    "\n",
    "    # 객체 길이 (2)\n",
    "    print(f'the length is: {len(sex_group)}\\n')\n",
    "\n",
    "    # 첫 번째 요소\n",
    "    first_element = sex_group[0]\n",
    "    print(f'the first element is: {first_element}\\n')\n",
    "\n",
    "    # 첫 번째 요소의 자료형(문자열)\n",
    "    print(f'it has a type of: {type(sex_group[0])}\\n')\n",
    "\n",
    "    # 두 번째 요소\n",
    "    second_element = sex_group[1]\n",
    "    print(f'the second element is:\\n{second_element}\\n')\n",
    "\n",
    "    # 두 번째 요소의 자료형 (데이터프레임)\n",
    "    print(f'it has a type of: {type(second_element)}\\n')\n",
    "\n",
    "    # 그룹 출력\n",
    "    print(f'what we have:')\n",
    "    print(sex_group)\n",
    "\n",
    "    # for문 중단\n",
    "    break"
   ]
  },
  {
   "cell_type": "markdown",
   "id": "3fa18626",
   "metadata": {},
   "source": [
    "#### [Do It! 실습] 여러 개의 변수로 그룹화하고 결과 평탄화하기"
   ]
  },
  {
   "cell_type": "code",
   "execution_count": 42,
   "id": "a6853e11",
   "metadata": {},
   "outputs": [],
   "source": [
    "bill_sex_time = tips_10.groupby(['sex', 'time'])\n",
    "\n",
    "group_avg = bill_sex_time.mean(numeric_only=True)"
   ]
  },
  {
   "cell_type": "code",
   "execution_count": 43,
   "id": "d1a8b9f0",
   "metadata": {},
   "outputs": [
    {
     "name": "stdout",
     "output_type": "stream",
     "text": [
      "<class 'pandas.core.frame.DataFrame'>\n"
     ]
    }
   ],
   "source": [
    "print(type(group_avg))"
   ]
  },
  {
   "cell_type": "code",
   "execution_count": 44,
   "id": "a6690525",
   "metadata": {},
   "outputs": [
    {
     "name": "stdout",
     "output_type": "stream",
     "text": [
      "               total_bill       tip      size\n",
      "sex    time                                  \n",
      "Male   Lunch    28.440000  2.560000  2.000000\n",
      "       Dinner   18.616667  2.928333  2.666667\n",
      "Female Lunch    12.740000  2.260000  2.000000\n",
      "       Dinner   15.380000  3.000000  2.000000\n"
     ]
    }
   ],
   "source": [
    "print(group_avg)"
   ]
  },
  {
   "cell_type": "code",
   "execution_count": 45,
   "id": "c256f20a",
   "metadata": {},
   "outputs": [
    {
     "name": "stdout",
     "output_type": "stream",
     "text": [
      "Index(['total_bill', 'tip', 'size'], dtype='object')\n"
     ]
    }
   ],
   "source": [
    "print(group_avg.columns)"
   ]
  },
  {
   "cell_type": "code",
   "execution_count": 46,
   "id": "52a84efb",
   "metadata": {},
   "outputs": [
    {
     "name": "stdout",
     "output_type": "stream",
     "text": [
      "MultiIndex([(  'Male',  'Lunch'),\n",
      "            (  'Male', 'Dinner'),\n",
      "            ('Female',  'Lunch'),\n",
      "            ('Female', 'Dinner')],\n",
      "           names=['sex', 'time'])\n"
     ]
    }
   ],
   "source": [
    "print(group_avg.index)"
   ]
  },
  {
   "cell_type": "code",
   "execution_count": 47,
   "id": "ab9a2f52",
   "metadata": {},
   "outputs": [
    {
     "name": "stdout",
     "output_type": "stream",
     "text": [
      "      sex    time  total_bill       tip      size\n",
      "0    Male   Lunch   28.440000  2.560000  2.000000\n",
      "1    Male  Dinner   18.616667  2.928333  2.666667\n",
      "2  Female   Lunch   12.740000  2.260000  2.000000\n",
      "3  Female  Dinner   15.380000  3.000000  2.000000\n"
     ]
    }
   ],
   "source": [
    "group_method = tips_10.groupby(['sex',\n",
    "                                'time']).mean(numeric_only=True).reset_index()\n",
    "print(group_method)"
   ]
  },
  {
   "cell_type": "code",
   "execution_count": 48,
   "id": "789adb7c",
   "metadata": {},
   "outputs": [
    {
     "name": "stdout",
     "output_type": "stream",
     "text": [
      "      sex    time  total_bill       tip      size\n",
      "0    Male   Lunch   28.440000  2.560000  2.000000\n",
      "1    Male  Dinner   18.616667  2.928333  2.666667\n",
      "2  Female   Lunch   12.740000  2.260000  2.000000\n",
      "3  Female  Dinner   15.380000  3.000000  2.000000\n"
     ]
    }
   ],
   "source": [
    "group_param = tips_10.groupby(['sex', 'time'],\n",
    "                              as_index=False).mean(numeric_only=True)\n",
    "print(group_param)"
   ]
  },
  {
   "cell_type": "markdown",
   "id": "0ed91114",
   "metadata": {},
   "source": [
    "## 08-5 다중 인덱스 다루기"
   ]
  },
  {
   "cell_type": "markdown",
   "id": "38f720e4",
   "metadata": {},
   "source": [
    "#### [Do It! 실습] 다중 인덱스 다루기"
   ]
  },
  {
   "cell_type": "code",
   "execution_count": 49,
   "id": "85bb584d",
   "metadata": {},
   "outputs": [
    {
     "name": "stdout",
     "output_type": "stream",
     "text": [
      "         ig_type  intervened        pid  rep  sid        tr\n",
      "0              3          40  294524448    1  201  0.000135\n",
      "1              3          40  294571037    1  201  0.000135\n",
      "2              3          40  290699504    1  201  0.000135\n",
      "3              3          40  288354895    1  201  0.000135\n",
      "4              3          40  292271290    1  201  0.000135\n",
      "...          ...         ...        ...  ...  ...       ...\n",
      "9434648        2          87  345636694    2  201  0.000166\n",
      "9434649        3          87  295125214    2  201  0.000166\n",
      "9434650        2          89  292571119    2  201  0.000166\n",
      "9434651        3          89  292528142    2  201  0.000166\n",
      "9434652        2          95  291956763    2  201  0.000166\n",
      "\n",
      "[9434653 rows x 6 columns]\n"
     ]
    }
   ],
   "source": [
    "intv_df = pd.read_csv('../data/epi_sim.zip')\n",
    "print(intv_df)"
   ]
  },
  {
   "cell_type": "code",
   "execution_count": 50,
   "id": "07351a30",
   "metadata": {},
   "outputs": [
    {
     "name": "stdout",
     "output_type": "stream",
     "text": [
      "rep  intervened  tr      \n",
      "0    8           0.000166    1\n",
      "     9           0.000152    3\n",
      "                 0.000166    1\n",
      "     10          0.000152    1\n",
      "                 0.000166    1\n",
      "                            ..\n",
      "2    193         0.000135    1\n",
      "                 0.000152    1\n",
      "     195         0.000135    1\n",
      "     198         0.000166    1\n",
      "     199         0.000135    1\n",
      "Name: ig_type, Length: 1196, dtype: int64\n"
     ]
    }
   ],
   "source": [
    "count_only = (\n",
    "    intv_df\n",
    "    .groupby([\"rep\", \"intervened\", \"tr\"])\n",
    "    [\"ig_type\"]\n",
    "    .count()\n",
    ")\n",
    "\n",
    "print(count_only)"
   ]
  },
  {
   "cell_type": "code",
   "execution_count": 51,
   "id": "6b2e649b",
   "metadata": {},
   "outputs": [
    {
     "name": "stdout",
     "output_type": "stream",
     "text": [
      "<class 'pandas.core.series.Series'>\n"
     ]
    }
   ],
   "source": [
    "print(type(count_only))"
   ]
  },
  {
   "cell_type": "code",
   "execution_count": 52,
   "id": "4c0c8601",
   "metadata": {},
   "outputs": [
    {
     "name": "stdout",
     "output_type": "stream",
     "text": [
      "MultiIndex([(0,   8, 0.000166),\n",
      "            (0,   9, 0.000152),\n",
      "            (0,   9, 0.000166),\n",
      "            (0,  10, 0.000152),\n",
      "            (0,  10, 0.000166),\n",
      "            (0,  12, 0.000152),\n",
      "            (0,  12, 0.000166),\n",
      "            (0,  13, 0.000152),\n",
      "            (0,  13, 0.000166),\n",
      "            (0,  14, 0.000152),\n",
      "            ...\n",
      "            (2, 187, 0.000152),\n",
      "            (2, 187, 0.000166),\n",
      "            (2, 189, 0.000135),\n",
      "            (2, 189, 0.000152),\n",
      "            (2, 190, 0.000166),\n",
      "            (2, 193, 0.000135),\n",
      "            (2, 193, 0.000152),\n",
      "            (2, 195, 0.000135),\n",
      "            (2, 198, 0.000166),\n",
      "            (2, 199, 0.000135)],\n",
      "           names=['rep', 'intervened', 'tr'], length=1196)\n"
     ]
    }
   ],
   "source": [
    "print(count_only.index)"
   ]
  },
  {
   "cell_type": "code",
   "execution_count": 53,
   "id": "47570809",
   "metadata": {},
   "outputs": [
    {
     "name": "stdout",
     "output_type": "stream",
     "text": [
      "rep  intervened  tr      \n",
      "0    8           0.000166    1.0\n",
      "     9           0.000152    3.0\n",
      "                 0.000166    1.0\n",
      "     10          0.000152    1.0\n",
      "                 0.000166    1.0\n",
      "Name: ig_type, dtype: float64\n"
     ]
    }
   ],
   "source": [
    "count_mean = count_only.groupby(level=[0, 1, 2]).mean()\n",
    "print(count_mean.head())"
   ]
  },
  {
   "cell_type": "code",
   "execution_count": 54,
   "id": "fa146601",
   "metadata": {},
   "outputs": [
    {
     "name": "stdout",
     "output_type": "stream",
     "text": [
      "rep  intervened  tr      \n",
      "0    8           0.000166    1.0\n",
      "     9           0.000152    3.0\n",
      "                 0.000166    1.0\n",
      "     10          0.000152    1.0\n",
      "                 0.000166    1.0\n",
      "Name: ig_type, dtype: float64\n"
     ]
    }
   ],
   "source": [
    "count_mean = (\n",
    "    intv_df\n",
    "    .groupby([\"rep\", \"intervened\", \"tr\"])[\"ig_type\"]\n",
    "    .count()\n",
    "    .groupby(level=[0, 1, 2])\n",
    "    .mean()\n",
    ")\n",
    "print(count_mean.head())"
   ]
  },
  {
   "cell_type": "code",
   "execution_count": 55,
   "id": "cc6308b9",
   "metadata": {},
   "outputs": [
    {
     "name": "stderr",
     "output_type": "stream",
     "text": [
      "D:\\anaconda3\\Lib\\site-packages\\seaborn\\axisgrid.py:118: UserWarning: The figure layout has changed to tight\n",
      "  self._figure.tight_layout(*args, **kwargs)\n"
     ]
    },
    {
     "data": {
      "image/png": "[encoded data removed]",
      "text/plain": [
       "<Figure size 1558.88x500 with 3 Axes>"
      ]
     },
     "metadata": {},
     "output_type": "display_data"
    }
   ],
   "source": [
    "import seaborn as sns\n",
    "import matplotlib.pyplot as plt\n",
    "\n",
    "fig = sns.lmplot(data=count_mean.reset_index(),\n",
    "                 x=\"intervened\",\n",
    "                 y=\"ig_type\",\n",
    "                 hue=\"rep\",\n",
    "                 col=\"tr\",\n",
    "                 fit_reg=False,\n",
    "                 palette=\"viridis\")\n",
    "\n",
    "plt.show()"
   ]
  },
  {
   "cell_type": "code",
   "execution_count": 56,
   "id": "f720ec05",
   "metadata": {},
   "outputs": [
    {
     "name": "stderr",
     "output_type": "stream",
     "text": [
      "D:\\anaconda3\\Lib\\site-packages\\seaborn\\axisgrid.py:118: UserWarning: The figure layout has changed to tight\n",
      "  self._figure.tight_layout(*args, **kwargs)\n"
     ]
    },
    {
     "data": {
      "image/png": "[encoded data removed]",
      "text/plain": [
       "<Figure size 1558.88x500 with 3 Axes>"
      ]
     },
     "metadata": {},
     "output_type": "display_data"
    }
   ],
   "source": [
    "cumulative_count = (\n",
    "    intv_df\n",
    "    .groupby([\"rep\", \"intervened\", \"tr\"])[\"ig_type\"]\n",
    "    .count()\n",
    "    .groupby(level=[\"rep\"])\n",
    "    .cumsum()\n",
    "    .reset_index()\n",
    ")\n",
    "\n",
    "fig = sns.lmplot(\n",
    "    data=cumulative_count,\n",
    "    x=\"intervened\",\n",
    "    y=\"ig_type\",\n",
    "    hue=\"rep\",\n",
    "    col=\"tr\",\n",
    "    fit_reg=False,\n",
    "    palette=\"viridis\"\n",
    ")\n",
    "\n",
    "plt.show()"
   ]
  },
  {
   "cell_type": "code",
   "execution_count": null,
   "id": "941c087a",
   "metadata": {},
   "outputs": [],
   "source": []
  }
 ],
 "metadata": {
  "kernelspec": {
   "display_name": "Python 3 (ipykernel)",
   "language": "python",
   "name": "python3"
  },
  "language_info": {
   "codemirror_mode": {
    "name": "ipython",
    "version": 3
   },
   "file_extension": ".py",
   "mimetype": "text/x-python",
   "name": "python",
   "nbconvert_exporter": "python",
   "pygments_lexer": "ipython3",
   "version": "3.11.5"
  },
  "toc": {
   "base_numbering": 1,
   "nav_menu": {},
   "number_sections": false,
   "sideBar": false,
   "skip_h1_title": false,
   "title_cell": "Table of Contents",
   "title_sidebar": "Contents",
   "toc_cell": false,
   "toc_position": {
    "height": "737px",
    "left": "1009px",
    "top": "110.233px",
    "width": "194.6px"
   },
   "toc_section_display": true,
   "toc_window_display": true
  }
 },
 "nbformat": 4,
 "nbformat_minor": 5
}
