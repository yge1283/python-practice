{
 "cells": [
  {
   "cell_type": "markdown",
   "id": "2841150d-db8a-421f-a1d0-5e16f0eff1c9",
   "metadata": {},
   "source": [
    "# 기본 데이터 타입 익히기"
   ]
  },
  {
   "cell_type": "markdown",
   "id": "f265af9a-1481-4237-abc7-0ac88c0fa519",
   "metadata": {},
   "source": [
    "## 숫자형"
   ]
  },
  {
   "cell_type": "code",
   "execution_count": 13,
   "id": "b5258d5c-843f-4478-8070-29d14f5a0136",
   "metadata": {},
   "outputs": [
    {
     "name": "stdout",
     "output_type": "stream",
     "text": [
      "123\n"
     ]
    }
   ],
   "source": [
    "a = 123\n",
    "print(a)"
   ]
  },
  {
   "cell_type": "code",
   "execution_count": 14,
   "id": "6adfcc1a-dd58-4082-b882-8a2a3e286f54",
   "metadata": {},
   "outputs": [
    {
     "name": "stdout",
     "output_type": "stream",
     "text": [
      "123\n",
      "345\n"
     ]
    }
   ],
   "source": [
    "b=345\n",
    "print(a)\n",
    "print(b)"
   ]
  },
  {
   "cell_type": "code",
   "execution_count": 9,
   "id": "68111f72-3c59-4039-8e28-23ed1207e714",
   "metadata": {},
   "outputs": [
    {
     "data": {
      "text/plain": [
       "1.3"
      ]
     },
     "execution_count": 9,
     "metadata": {},
     "output_type": "execute_result"
    }
   ],
   "source": [
    "c=1.3\n",
    "c\n"
   ]
  },
  {
   "cell_type": "code",
   "execution_count": 15,
   "id": "74cf928e-526d-4802-bb12-669e668057f7",
   "metadata": {},
   "outputs": [
    {
     "name": "stdout",
     "output_type": "stream",
     "text": [
      "<class 'int'>\n"
     ]
    }
   ],
   "source": [
    "print(type(a))"
   ]
  },
  {
   "cell_type": "code",
   "execution_count": 16,
   "id": "a8347b68-679f-41f2-a26a-d3603a5fc992",
   "metadata": {},
   "outputs": [
    {
     "data": {
      "text/plain": [
       "int"
      ]
     },
     "execution_count": 16,
     "metadata": {},
     "output_type": "execute_result"
    }
   ],
   "source": [
    "type(b)\n"
   ]
  },
  {
   "cell_type": "code",
   "execution_count": 17,
   "id": "19ba66e7-6ec3-465c-a8ec-732924bea8e7",
   "metadata": {},
   "outputs": [
    {
     "name": "stdout",
     "output_type": "stream",
     "text": [
      "<class 'float'>\n"
     ]
    }
   ],
   "source": [
    "print(type(c))\n"
   ]
  },
  {
   "cell_type": "code",
   "execution_count": 18,
   "id": "21169462-e8e8-4787-ae5d-60bfea93a97f",
   "metadata": {},
   "outputs": [
    {
     "data": {
      "text/plain": [
       "float"
      ]
     },
     "execution_count": 18,
     "metadata": {},
     "output_type": "execute_result"
    }
   ],
   "source": [
    "type(c)"
   ]
  },
  {
   "cell_type": "code",
   "execution_count": 19,
   "id": "06dbc311-1cd1-49a8-946b-aae109152497",
   "metadata": {},
   "outputs": [
    {
     "ename": "SyntaxError",
     "evalue": "invalid digit '8' in octal literal (2500049664.py, line 1)",
     "output_type": "error",
     "traceback": [
      "\u001b[1;36m  Cell \u001b[1;32mIn[19], line 1\u001b[1;36m\u001b[0m\n\u001b[1;33m    d = 0o8\u001b[0m\n\u001b[1;37m          ^\u001b[0m\n\u001b[1;31mSyntaxError\u001b[0m\u001b[1;31m:\u001b[0m invalid digit '8' in octal literal\n"
     ]
    }
   ],
   "source": [
    "d = 0o8\n",
    "d"
   ]
  },
  {
   "cell_type": "code",
   "execution_count": 20,
   "id": "c2f9c894-82b5-4e2e-b245-239600a3f0e2",
   "metadata": {},
   "outputs": [
    {
     "data": {
      "text/plain": [
       "127"
      ]
     },
     "execution_count": 20,
     "metadata": {},
     "output_type": "execute_result"
    }
   ],
   "source": [
    "d=0o177\n",
    "d"
   ]
  },
  {
   "cell_type": "code",
   "execution_count": 1,
   "id": "c9000f79-1d88-4ab7-9883-b1db879bf339",
   "metadata": {},
   "outputs": [
    {
     "data": {
      "text/plain": [
       "255"
      ]
     },
     "execution_count": 1,
     "metadata": {},
     "output_type": "execute_result"
    }
   ],
   "source": [
    "e=0xff\n",
    "e\n"
   ]
  },
  {
   "cell_type": "code",
   "execution_count": 2,
   "id": "5cc74736-1e76-444a-a389-9a987d4079cf",
   "metadata": {},
   "outputs": [
    {
     "name": "stdin",
     "output_type": "stream",
     "text": [
      "숫자를 입력하세요 >>  23\n"
     ]
    },
    {
     "name": "stdout",
     "output_type": "stream",
     "text": [
      "23\n",
      "<class 'str'>\n"
     ]
    }
   ],
   "source": [
    "data = input('숫자를 입력하세요 >> ')\n",
    "data\n",
    "print(data)\n",
    "print(type(data))"
   ]
  },
  {
   "cell_type": "code",
   "execution_count": 3,
   "id": "81956e69-a493-476b-9666-dbdfd51b94b1",
   "metadata": {},
   "outputs": [
    {
     "name": "stdout",
     "output_type": "stream",
     "text": [
      "<class 'int'>\n"
     ]
    }
   ],
   "source": [
    "data = int(data)\n",
    "print(type(data))"
   ]
  },
  {
   "cell_type": "raw",
   "id": "9259ac73-cfd8-4f4d-82b9-43ed8c113d6f",
   "metadata": {},
   "source": [
    "quiz> 박스당 3개씩 들어가는 과일이 있다. 전체 과일의 개수를 입력받아 몇 박스 몇개가 남는지 출력하세요."
   ]
  },
  {
   "cell_type": "code",
   "execution_count": 15,
   "id": "020d651e-0cf0-43ff-8cf5-e719ea016f53",
   "metadata": {},
   "outputs": [
    {
     "name": "stdin",
     "output_type": "stream",
     "text": [
      "전체 과일 개수를 입력하세요 13\n"
     ]
    },
    {
     "name": "stdout",
     "output_type": "stream",
     "text": [
      "담은 박스 개수 >> 4\n",
      "남은 과일 개수 >> 1\n"
     ]
    }
   ],
   "source": [
    "data = input('전체 과일 개수를 입력하세요')\n",
    "data1=int(data)\n",
    "box=data1//3\n",
    "min=data1%3\n",
    "\n",
    "print('담은 박스 개수 >>',box)\n",
    "\n",
    "print('남은 과일 개수 >>',min)"
   ]
  },
  {
   "cell_type": "code",
   "execution_count": 22,
   "id": "90a92374-45e6-403c-b828-8fbb05eb531c",
   "metadata": {},
   "outputs": [
    {
     "name": "stdin",
     "output_type": "stream",
     "text": [
      "숫자를 입력하세요 15\n"
     ]
    },
    {
     "name": "stdout",
     "output_type": "stream",
     "text": [
      "총  15 개- 5 박스 0 개\n"
     ]
    }
   ],
   "source": [
    "a=3\n",
    "count=int(input('숫자를 입력하세요'))\n",
    "print('총 ',count,'개-',count//a,'박스',count%3,'개')\n"
   ]
  },
  {
   "cell_type": "code",
   "execution_count": 6,
   "id": "48134c02-3581-49f7-83ce-ec6eacef9c71",
   "metadata": {},
   "outputs": [
    {
     "data": {
      "text/plain": [
       "'eat\" five apple.'"
      ]
     },
     "execution_count": 6,
     "metadata": {},
     "output_type": "execute_result"
    }
   ],
   "source": [
    "'eat\" %s apple.' % \"five\""
   ]
  },
  {
   "cell_type": "markdown",
   "id": "61f69c91-6dc8-4902-8101-71e75a935f48",
   "metadata": {},
   "source": [
    "## 2.문자열 자료형"
   ]
  },
  {
   "cell_type": "code",
   "execution_count": 7,
   "id": "7952284c-7acd-4451-b8e8-d900b633e807",
   "metadata": {},
   "outputs": [
    {
     "data": {
      "text/plain": [
       "'I ate 10 , three days.'"
      ]
     },
     "execution_count": 7,
     "metadata": {},
     "output_type": "execute_result"
    }
   ],
   "source": [
    " number = 10\n",
    " day = \"three\"\n",
    " \"I ate %d , %s days.\" % (number, day)"
   ]
  },
  {
   "cell_type": "code",
   "execution_count": 8,
   "id": "40050a2c-aca8-41e7-bf62-d23ff3902d30",
   "metadata": {},
   "outputs": [
    {
     "data": {
      "text/plain": [
       "'Error is 98%.'"
      ]
     },
     "execution_count": 8,
     "metadata": {},
     "output_type": "execute_result"
    }
   ],
   "source": [
    "\"Error is %d%%.\" % 98"
   ]
  },
  {
   "cell_type": "code",
   "execution_count": 9,
   "id": "8d950b08-beca-4c1d-94c9-0f1611fceac0",
   "metadata": {},
   "outputs": [
    {
     "ename": "SyntaxError",
     "evalue": "incomplete input (36851816.py, line 1)",
     "output_type": "error",
     "traceback": [
      "\u001b[1;36m  Cell \u001b[1;32mIn[9], line 1\u001b[1;36m\u001b[0m\n\u001b[1;33m    \"\"\"ㅇ하낭ㅎㄴㅇ\\n\"\u001b[0m\n\u001b[1;37m    ^\u001b[0m\n\u001b[1;31mSyntaxError\u001b[0m\u001b[1;31m:\u001b[0m incomplete input\n"
     ]
    }
   ],
   "source": [
    "\"\"\"ㅇ하낭ㅎㄴㅇ\\n\""
   ]
  },
  {
   "cell_type": "code",
   "execution_count": 10,
   "id": "982407f3-ed3e-43b1-ad3d-fd658eb31e2a",
   "metadata": {},
   "outputs": [
    {
     "data": {
      "text/plain": [
       "'kdslgskgs\\n'"
      ]
     },
     "execution_count": 10,
     "metadata": {},
     "output_type": "execute_result"
    }
   ],
   "source": [
    "\"\"\"kdslgskgs\\n\"\"\""
   ]
  },
  {
   "cell_type": "code",
   "execution_count": 14,
   "id": "62c10107-ae21-4b38-9da3-e6c5bc246ab2",
   "metadata": {},
   "outputs": [
    {
     "name": "stdout",
     "output_type": "stream",
     "text": [
      "LIgdsgsgsg\n",
      "dsgd\"gsgs\n",
      "sdgsd\tgs\n",
      "\n"
     ]
    }
   ],
   "source": [
    "s='''LIgdsgsgsg\n",
    "dsgd\\\"gsgs\n",
    "sdgsd\\tgs\n",
    "'''\n",
    "\n",
    "print(s)"
   ]
  },
  {
   "cell_type": "code",
   "execution_count": 15,
   "id": "e2390a57-d0df-4f4f-ae78-4fdbfa079fd3",
   "metadata": {},
   "outputs": [
    {
     "data": {
      "text/plain": [
       "'a0b0c0d'"
      ]
     },
     "execution_count": 15,
     "metadata": {},
     "output_type": "execute_result"
    }
   ],
   "source": [
    "\"0\".join(['a', 'b', 'c', 'd'])"
   ]
  },
  {
   "cell_type": "code",
   "execution_count": 44,
   "id": "214274b9-3ef7-4d35-8c7c-b2901b72d261",
   "metadata": {},
   "outputs": [
    {
     "data": {
      "text/plain": [
       "6"
      ]
     },
     "execution_count": 44,
     "metadata": {},
     "output_type": "execute_result"
    }
   ],
   "source": [
    "t=(1,2,3,4,'r','e')\n",
    "len(t)\n"
   ]
  },
  {
   "cell_type": "code",
   "execution_count": 60,
   "id": "6318398e-b103-428a-b666-238f7a7ef599",
   "metadata": {},
   "outputs": [
    {
     "data": {
      "text/plain": [
       "{}"
      ]
     },
     "execution_count": 60,
     "metadata": {},
     "output_type": "execute_result"
    }
   ],
   "source": [
    "a= {\"김연아\": \"피겨스케이팅\", \"류현진\": \"야구\",\n",
    " \"손흥민\": \"축구\", \"귀도\": \"파이썬\"}\n",
    "\n"
   ]
  },
  {
   "cell_type": "markdown",
   "id": "6e07054f-fbc0-43f6-85a6-2bf089af5a6e",
   "metadata": {},
   "source": [
    "quiz>> email주소를 입력받아서 .com으로 끝나는지 내용을 출력해 보세요."
   ]
  },
  {
   "cell_type": "code",
   "execution_count": 74,
   "id": "314e920f-ac22-4644-9e79-de33533dfd91",
   "metadata": {},
   "outputs": [
    {
     "name": "stdin",
     "output_type": "stream",
     "text": [
      "이메일 주소를 입력하세요 dihgdsihdgsdgp@naver.com\n"
     ]
    },
    {
     "name": "stdout",
     "output_type": "stream",
     "text": [
      ".com\n"
     ]
    }
   ],
   "source": [
    "a=input(\"이메일 주소를 입력하세요\")\n",
    "print(a[-4:])\n"
   ]
  },
  {
   "cell_type": "code",
   "execution_count": 99,
   "id": "fb134bb6-1ade-476b-a683-858ed631d94c",
   "metadata": {},
   "outputs": [
    {
     "data": {
      "text/plain": [
       "dict_keys(['name', 'phone', 'birth'])"
      ]
     },
     "execution_count": 99,
     "metadata": {},
     "output_type": "execute_result"
    }
   ],
   "source": [
    "a = {'name': 'pey', 'phone': '010-9999-1234', 'birth': '1118'}\n",
    "a.keys()"
   ]
  },
  {
   "cell_type": "code",
   "execution_count": 107,
   "id": "ccff2867-1208-4132-abe6-5af835d99ff6",
   "metadata": {},
   "outputs": [
    {
     "data": {
      "text/plain": [
       "[('name', 'pey'), ('phone', '010-9999-1234'), ('birth', '1118')]"
      ]
     },
     "execution_count": 107,
     "metadata": {},
     "output_type": "execute_result"
    }
   ],
   "source": [
    "list(a.items())"
   ]
  },
  {
   "cell_type": "code",
   "execution_count": 125,
   "id": "7a39ebd9-6d4e-47b4-939a-c38fe40d9617",
   "metadata": {},
   "outputs": [
    {
     "data": {
      "text/plain": [
       "{1, 2, 3}"
      ]
     },
     "execution_count": 125,
     "metadata": {},
     "output_type": "execute_result"
    }
   ],
   "source": [
    " s1 = set([1, 2, 3])\n",
    "s1"
   ]
  },
  {
   "cell_type": "code",
   "execution_count": 118,
   "id": "82b1cad7-94e2-45c1-83b8-623b921349e6",
   "metadata": {},
   "outputs": [
    {
     "data": {
      "text/plain": [
       "'eat 555 appleend'"
      ]
     },
     "execution_count": 118,
     "metadata": {},
     "output_type": "execute_result"
    }
   ],
   "source": [
    "a= \"eat {1} apple{0}\"\n",
    "a.format('end',555)"
   ]
  },
  {
   "cell_type": "code",
   "execution_count": null,
   "id": "25f42bb4-5299-4772-abc1-48da9ffe3886",
   "metadata": {},
   "outputs": [],
   "source": [
    "python -v"
   ]
  },
  {
   "cell_type": "code",
   "execution_count": null,
   "id": "4a794cce-112b-46ce-9eee-7eabde0e937c",
   "metadata": {},
   "outputs": [],
   "source": [
    "import sys\n",
    "sys.version"
   ]
  },
  {
   "cell_type": "code",
   "execution_count": 3,
   "id": "ea266bd8-a144-4dc2-a0b9-036f10dd3a40",
   "metadata": {},
   "outputs": [
    {
     "data": {
      "text/plain": [
       "'나의 이름은 홍길동이고 나이는2,023,523,523이다.'"
      ]
     },
     "execution_count": 3,
     "metadata": {},
     "output_type": "execute_result"
    }
   ],
   "source": [
    "name=\"홍길동\"\n",
    "age =2023523523\n",
    "f'나의 이름은 {name}이고 나이는{age:,}이다.'"
   ]
  },
  {
   "cell_type": "code",
   "execution_count": 2,
   "id": "411c0338-ff9e-4a5c-a5a0-5d9654cdae1c",
   "metadata": {},
   "outputs": [
    {
     "name": "stdout",
     "output_type": "stream",
     "text": [
      "0\n"
     ]
    }
   ],
   "source": [
    "tree=0\n",
    "print(tree)"
   ]
  },
  {
   "cell_type": "markdown",
   "id": "d6eb7ebc-65d5-4747-87ca-240332b80bd3",
   "metadata": {},
   "source": [
    "## 리스트 자료형"
   ]
  },
  {
   "cell_type": "code",
   "execution_count": 66,
   "id": "6cf2d034-fa16-4c37-b0a2-00e473a0c513",
   "metadata": {},
   "outputs": [
    {
     "name": "stdin",
     "output_type": "stream",
     "text": [
      "입력하세요 3\n"
     ]
    },
    {
     "name": "stdout",
     "output_type": "stream",
     "text": [
      "<class 'str'>\n"
     ]
    }
   ],
   "source": [
    "a=input(\"입력하세요\")\n",
    "print(type(a))"
   ]
  },
  {
   "cell_type": "code",
   "execution_count": 1,
   "id": "d3b1779d-4cac-49de-acfa-3ff3b653296e",
   "metadata": {},
   "outputs": [
    {
     "data": {
      "text/plain": [
       "0"
      ]
     },
     "execution_count": 1,
     "metadata": {},
     "output_type": "execute_result"
    }
   ],
   "source": [
    "a=0\n",
    "a\n"
   ]
  },
  {
   "cell_type": "code",
   "execution_count": 8,
   "id": "454d52de-4064-4714-b311-557707114552",
   "metadata": {},
   "outputs": [],
   "source": [
    "import sys\n",
    "args=sys.argv[1:]\n",
    "for i in args:\n",
    "    print(1)"
   ]
  },
  {
   "cell_type": "code",
   "execution_count": null,
   "id": "fcf9fbc1-31eb-4964-b7c4-77110fe4e255",
   "metadata": {},
   "outputs": [],
   "source": []
  }
 ],
 "metadata": {
  "kernelspec": {
   "display_name": "Python 3 (ipykernel)",
   "language": "python",
   "name": "python3"
  },
  "language_info": {
   "codemirror_mode": {
    "name": "ipython",
    "version": 3
   },
   "file_extension": ".py",
   "mimetype": "text/x-python",
   "name": "python",
   "nbconvert_exporter": "python",
   "pygments_lexer": "ipython3",
   "version": "3.11.7"
  }
 },
 "nbformat": 4,
 "nbformat_minor": 5
}
