{
 "cells": [
  {
   "cell_type": "code",
   "execution_count": 16,
   "id": "a6532f3e-6942-4b8b-b96b-d8e8796a4f32",
   "metadata": {},
   "outputs": [],
   "source": [
    "f= open('test.txt','w', encoding='utf8')\n",
    "# 이것으로 주피터 노트에서 문자인식 가능\n",
    "f.write(\"sodyd\")\n",
    "f.close()"
   ]
  },
  {
   "cell_type": "code",
   "execution_count": 11,
   "id": "8530f3fe-0a4a-4300-9d81-c1d2dac26b7d",
   "metadata": {},
   "outputs": [
    {
     "data": {
      "text/plain": [
       "True"
      ]
     },
     "execution_count": 11,
     "metadata": {},
     "output_type": "execute_result"
    }
   ],
   "source": [
    "all((1,2,3))"
   ]
  },
  {
   "cell_type": "code",
   "execution_count": 26,
   "id": "ec16a9fd-8e03-4ef4-9032-7405b82dd6ac",
   "metadata": {},
   "outputs": [
    {
     "data": {
      "text/plain": [
       "(2, 0)"
      ]
     },
     "execution_count": 26,
     "metadata": {},
     "output_type": "execute_result"
    }
   ],
   "source": [
    "eval(\"divmod(4,2)\")"
   ]
  },
  {
   "cell_type": "code",
   "execution_count": 36,
   "id": "d3ccdaa8-a1d6-4539-bfbf-bea73ad31c5b",
   "metadata": {},
   "outputs": [
    {
     "name": "stdout",
     "output_type": "stream",
     "text": [
      "(-3, -5)\n"
     ]
    }
   ],
   "source": [
    "파이썬에 있는 걸 그대로 꺼내서 쓰고 싶다. : pickle\n",
    "\n",
    "\n"
   ]
  },
  {
   "cell_type": "code",
   "execution_count": null,
   "id": "a06b630f-26be-46fe-a00e-2744202d0d1b",
   "metadata": {},
   "outputs": [],
   "source": []
  }
 ],
 "metadata": {
  "kernelspec": {
   "display_name": "Python 3 (ipykernel)",
   "language": "python",
   "name": "python3"
  },
  "language_info": {
   "codemirror_mode": {
    "name": "ipython",
    "version": 3
   },
   "file_extension": ".py",
   "mimetype": "text/x-python",
   "name": "python",
   "nbconvert_exporter": "python",
   "pygments_lexer": "ipython3",
   "version": "3.11.7"
  }
 },
 "nbformat": 4,
 "nbformat_minor": 5
}
