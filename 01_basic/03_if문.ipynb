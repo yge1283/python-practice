{
 "cells": [
  {
   "cell_type": "markdown",
   "id": "5fcb576c-ae29-4ce9-bfe2-f102ab306eef",
   "metadata": {},
   "source": [
    "quiz>>주민등록번호를 입력을 받습니다. \n",
    "입력예) 8번째 자리의 값이 q,3 (남) 2,4(여자) "
   ]
  },
  {
   "cell_type": "code",
   "execution_count": 22,
   "id": "9ed9f49b-ab86-401a-8b59-23761111e6e5",
   "metadata": {},
   "outputs": [
    {
     "name": "stdout",
     "output_type": "stream",
     "text": [
      "주민등록번호를 입력하세요 111111-1111111\n"
     ]
    },
    {
     "ename": "ValueError",
     "evalue": "invalid literal for int() with base 10: '111111-1111111'",
     "output_type": "error",
     "traceback": [
      "\u001b[1;31m---------------------------------------------------------------------------\u001b[0m",
      "\u001b[1;31mValueError\u001b[0m                                Traceback (most recent call last)",
      "Cell \u001b[1;32mIn[22], line 8\u001b[0m\n\u001b[0;32m      1\u001b[0m \u001b[38;5;66;03m# number=input(\"주민등록번호를 입력하세요\")\u001b[39;00m\n\u001b[0;32m      2\u001b[0m \u001b[38;5;66;03m# if number[-7]=='1'or number[-7]=='3':\u001b[39;00m\n\u001b[0;32m      3\u001b[0m \u001b[38;5;66;03m#     print(\"남\")\u001b[39;00m\n\u001b[0;32m      4\u001b[0m \u001b[38;5;66;03m# else:\u001b[39;00m\n\u001b[0;32m      5\u001b[0m \u001b[38;5;66;03m#     print(\"여\")//내가 한것 \u001b[39;00m\n\u001b[1;32m----> 8\u001b[0m number\u001b[38;5;241m=\u001b[39m\u001b[38;5;28mint\u001b[39m(\u001b[38;5;28minput\u001b[39m(\u001b[38;5;124m\"\u001b[39m\u001b[38;5;124m주민등록번호를 입력하세요\u001b[39m\u001b[38;5;124m\"\u001b[39m))\n\u001b[0;32m      9\u001b[0m \u001b[38;5;28;01mif\u001b[39;00m number[\u001b[38;5;241m7\u001b[39m] \u001b[38;5;129;01min\u001b[39;00m [\u001b[38;5;241m1\u001b[39m,\u001b[38;5;241m3\u001b[39m]:\n\u001b[0;32m     10\u001b[0m     \u001b[38;5;28mprint\u001b[39m(\u001b[38;5;124m\"\u001b[39m\u001b[38;5;124m남자\u001b[39m\u001b[38;5;124m\"\u001b[39m)\n",
      "\u001b[1;31mValueError\u001b[0m: invalid literal for int() with base 10: '111111-1111111'"
     ]
    }
   ],
   "source": [
    "# number=input(\"주민등록번호를 입력하세요\")\n",
    "# if number[-7]=='1'or number[-7]=='3':\n",
    "#     print(\"남\")\n",
    "# else:\n",
    "#     print(\"여\")//내가 한것 \n",
    "\n",
    "\n",
    "# number=input(\"주민등록번호를 입력하세요\")\n",
    "# if number[7] in ['1','3']:\n",
    "#     print(\"남자\")\n",
    "# else: print(\"여자\")\n",
    "\n",
    "# number=input(\"주민등록번호\")\n",
    "# result= \"남자\" if number[7] in ['1','3'] else \"여지\"\n",
    "# print(result)\n",
    "\n"
   ]
  },
  {
   "cell_type": "markdown",
   "id": "1e896058",
   "metadata": {},
   "source": [
    "## quiz>> 조건부 표현식으로 쓴거, if문 쓴거 2가지로 작성\n",
    "이메일 주소를 입력받아서 @가 있는지의 여부를 확인하고 있으면 아이디를 출력하고 없으면 @가 없다는 메세지를 출력하라."
   ]
  },
  {
   "cell_type": "code",
   "execution_count": 18,
   "id": "fbc6fd94-80fd-4f7e-874c-8d80d051a1c6",
   "metadata": {},
   "outputs": [
    {
     "name": "stdout",
     "output_type": "stream",
     "text": [
      "입력 dgsgdsgs\n"
     ]
    },
    {
     "name": "stdout",
     "output_type": "stream",
     "text": [
      "형식 없음\n"
     ]
    }
   ],
   "source": [
    "# email=input(\"이메일 주소를 입력\")\n",
    "# if '@' in email:\n",
    "#     print(email)\n",
    "# else: print(\"없음\")\n",
    "    \n",
    "# email=input(\"이메일 주소를 입력\")\n",
    "# if email.count('@')==1:\n",
    "#     print(email[:email.find('@')])\n",
    "# else:\n",
    "#     print(\"형식 없음\")\n",
    "\n",
    "\n",
    "# email=input(\"입력\")\n",
    "# result = email[:email.find('@')] if email.count('@')==1 else \"형식 없음\"\n",
    "# print(result)\n",
    "\n"
   ]
  },
  {
   "cell_type": "code",
   "execution_count": 27,
   "id": "c6717f35-6dfa-4119-8025-f7f2a88f6911",
   "metadata": {},
   "outputs": [
    {
     "ename": "UnboundLocalError",
     "evalue": "cannot access local variable 'result' where it is not associated with a value",
     "output_type": "error",
     "traceback": [
      "\u001b[1;31m---------------------------------------------------------------------------\u001b[0m",
      "\u001b[1;31mUnboundLocalError\u001b[0m                         Traceback (most recent call last)",
      "Cell \u001b[1;32mIn[27], line 7\u001b[0m\n\u001b[0;32m      4\u001b[0m     result \u001b[38;5;241m+\u001b[39m\u001b[38;5;241m=\u001b[39mnum\n\u001b[0;32m      5\u001b[0m     \u001b[38;5;28;01mreturn\u001b[39;00m result \n\u001b[1;32m----> 7\u001b[0m \u001b[38;5;28mprint\u001b[39m(add(\u001b[38;5;241m3\u001b[39m))\n\u001b[0;32m      8\u001b[0m \u001b[38;5;28mprint\u001b[39m(add(\u001b[38;5;241m4\u001b[39m))\n",
      "Cell \u001b[1;32mIn[27], line 4\u001b[0m, in \u001b[0;36madd\u001b[1;34m(num)\u001b[0m\n\u001b[0;32m      2\u001b[0m \u001b[38;5;28;01mdef\u001b[39;00m \u001b[38;5;21madd\u001b[39m(num):\n\u001b[1;32m----> 4\u001b[0m     result \u001b[38;5;241m+\u001b[39m\u001b[38;5;241m=\u001b[39mnum\n\u001b[0;32m      5\u001b[0m     \u001b[38;5;28;01mreturn\u001b[39;00m result\n",
      "\u001b[1;31mUnboundLocalError\u001b[0m: cannot access local variable 'result' where it is not associated with a value"
     ]
    }
   ],
   "source": [
    "\n",
    "result1=0\n",
    "result2=0\n",
    "\n",
    "def add1(num):\n",
    "    global result1\n",
    "    result1+=num\n",
    "    return result1\n",
    "\n",
    "def add2(num):\n",
    "    global result2\n",
    "    result2+=num\n",
    "    return result2\n",
    "\n",
    "\n",
    "print(add1(3))\n",
    "print(add1(4))\n",
    "print(add2(3))\n",
    "print(add2(7))\n",
    "    "
   ]
  },
  {
   "cell_type": "code",
   "execution_count": null,
   "id": "173bcbc0-78ac-4b1d-8bb6-2d88051e0d49",
   "metadata": {},
   "outputs": [],
   "source": []
  }
 ],
 "metadata": {
  "kernelspec": {
   "display_name": "Python 3 (ipykernel)",
   "language": "python",
   "name": "python3"
  },
  "language_info": {
   "codemirror_mode": {
    "name": "ipython",
    "version": 3
   },
   "file_extension": ".py",
   "mimetype": "text/x-python",
   "name": "python",
   "nbconvert_exporter": "python",
   "pygments_lexer": "ipython3",
   "version": "3.11.7"
  }
 },
 "nbformat": 4,
 "nbformat_minor": 5
}
