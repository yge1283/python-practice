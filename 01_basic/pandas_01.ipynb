{
 "cells": [
  {
   "cell_type": "code",
   "execution_count": 58,
   "id": "e6d1219f-f4f8-40c6-82c9-24ab03961967",
   "metadata": {},
   "outputs": [
    {
     "name": "stdout",
     "output_type": "stream",
     "text": [
      "[100 120   1]\n",
      "30\n"
     ]
    }
   ],
   "source": [
    "import numpy as np \n",
    "\n",
    "\n",
    "price=[\n",
    "    [100,80,70,30],\n",
    "    [120,110,60,90],\n",
    "    [1,2,3,4]\n",
    "]\n",
    "\n",
    "arr2=np.array(price)\n",
    "print(arr2[:,0])\n",
    "print(arr2[0,3])\n"
   ]
  },
  {
   "cell_type": "code",
   "execution_count": 32,
   "id": "f18f77ff-6b5d-4828-b674-dbd1a2c2f5c2",
   "metadata": {},
   "outputs": [
    {
     "name": "stdout",
     "output_type": "stream",
     "text": [
      "0    10\n",
      "1    20\n",
      "2    30\n",
      "3    40\n",
      "dtype: int64\n",
      "<class 'pandas.core.series.Series'>\n"
     ]
    }
   ],
   "source": [
    "import pandas as pd\n",
    "pd.Series()\n",
    "\n",
    "arr=[10,20,30,40]\n",
    "s=pd.Series(arr)\n",
    "print(s)\n",
    "#index,value로 표시 \n",
    "print(type(s))\n"
   ]
  },
  {
   "cell_type": "code",
   "execution_count": 36,
   "id": "8f453f74-06ee-4ff9-ae89-ba2df7227407",
   "metadata": {},
   "outputs": [
    {
     "name": "stdout",
     "output_type": "stream",
     "text": [
      "월    100\n",
      "화    200\n",
      "수    300\n",
      "dtype: int64\n",
      "<class 'pandas.core.series.Series'>\n"
     ]
    }
   ],
   "source": [
    "import pandas as pd\n",
    "\n",
    "# 인덱스 지정할 경우 \n",
    "data=[100,200,300]\n",
    "index=[\"월\",\"화\", \"수\"]\n",
    "s=pd.Series(data,index)\n",
    "print(s)\n",
    "print(type(s))\n"
   ]
  },
  {
   "cell_type": "code",
   "execution_count": 42,
   "id": "357e4d36-48d3-4aa9-8613-24cec89e589c",
   "metadata": {},
   "outputs": [
    {
     "name": "stdout",
     "output_type": "stream",
     "text": [
      "<NumpyExtensionArray>\n",
      "[100, 200, 300]\n",
      "Length: 3, dtype: int64\n"
     ]
    }
   ],
   "source": [
    "# print(s.index)\n",
    "# print(s.values)\n",
    "print(s.array)"
   ]
  },
  {
   "cell_type": "code",
   "execution_count": 50,
   "id": "93c03cb2-c918-488a-857a-82ad68ed8d42",
   "metadata": {},
   "outputs": [
    {
     "name": "stdout",
     "output_type": "stream",
     "text": [
      "메로나    500\n",
      "누가바    800\n",
      "빠삐코    200\n",
      "dtype: int64\n"
     ]
    }
   ],
   "source": [
    "import pandas as pd\n",
    "pd.Series\n",
    "\n",
    "data = [500,800,200]\n",
    "index=[\"메로나\",\"누가바\",\"빠삐코\"]\n",
    "\n",
    "result = pd.Series(data,index)\n",
    "print(result)"
   ]
  },
  {
   "cell_type": "code",
   "execution_count": 47,
   "id": "4ce12f5c-95e5-4cba-8f7a-edf8b6fc2738",
   "metadata": {},
   "outputs": [
    {
     "data": {
      "text/plain": [
       "array([500, 800, 200], dtype=int64)"
      ]
     },
     "execution_count": 47,
     "metadata": {},
     "output_type": "execute_result"
    }
   ],
   "source": [
    "result.values"
   ]
  },
  {
   "cell_type": "code",
   "execution_count": 48,
   "id": "5749ca3c-e1d1-4f7a-ba80-1b56f4fa6da3",
   "metadata": {},
   "outputs": [
    {
     "data": {
      "text/plain": [
       "Index(['메로나', '누가바', '빠삐코'], dtype='object')"
      ]
     },
     "execution_count": 48,
     "metadata": {},
     "output_type": "execute_result"
    }
   ],
   "source": [
    "result.index"
   ]
  },
  {
   "cell_type": "code",
   "execution_count": 70,
   "id": "aed022eb-5a8d-4179-a769-2c993cfec1ee",
   "metadata": {},
   "outputs": [
    {
     "name": "stdout",
     "output_type": "stream",
     "text": [
      "200\n",
      "200\n",
      "100\n",
      "300\n",
      "100\n",
      "월    100\n",
      "화    200\n",
      "dtype: int64\n",
      "월    100\n",
      "화    200\n",
      "수    300\n",
      "dtype: int64\n"
     ]
    }
   ],
   "source": [
    "import pandas as pd\n",
    "\n",
    "# 열번호로 데이터을 가져올 꺠 \n",
    "data=[100,200,300]\n",
    "index=[\"월\",\"화\", \"수\"]\n",
    "s=pd.Series(data,index)\n",
    "print(s.iloc[-2])\n",
    "print(s.iloc[1])\n",
    "\n",
    "#index 값으로 데이터 가져오기 \n",
    "print(s.loc[\"월\"])\n",
    "print(s.loc[\"수\"])\n",
    "#index값으로 데이터 가져오기-2\n",
    "print(s[\"월\"])\n",
    "\n",
    "#행번호로 복수 데이터 가져오기\n",
    "print(s.iloc[0:2])\n",
    "# 시작행번호 : 끝 행번호(0-1)까지 기져옴\n",
    "\n",
    "#인덱스로 복수 데이터 가져오기\n",
    "print(s.loc[\"월\":\"수\"])"
   ]
  },
  {
   "cell_type": "code",
   "execution_count": 74,
   "id": "85da92cb-0c80-45dd-8529-3479db85712a",
   "metadata": {},
   "outputs": [
    {
     "data": {
      "text/plain": [
       "월    100\n",
       "수    300\n",
       "dtype: int64"
      ]
     },
     "execution_count": 74,
     "metadata": {},
     "output_type": "execute_result"
    }
   ],
   "source": [
    "import pandas as pd\n",
    "\n",
    "# 연속된 데이터가 아닌 여러개 데이터를 가져올 떄 \n",
    "data=[100,200,300]\n",
    "index=[\"월\",\"화\", \"수\"]\n",
    "s=pd.Series(data,index)\n",
    "\n",
    "s.iloc[[0,2]]\n",
    "s.loc[[\"월\",\"수\"]]\n"
   ]
  },
  {
   "cell_type": "code",
   "execution_count": 77,
   "id": "f55e556e-bc8b-4374-a724-f3de6f1899b4",
   "metadata": {},
   "outputs": [
    {
     "name": "stdout",
     "output_type": "stream",
     "text": [
      "월    100\n",
      "화    200\n",
      "수    300\n",
      "목    400\n",
      "금    500\n",
      "dtype: int64\n"
     ]
    }
   ],
   "source": [
    "# 기존 시리즈에 값 추가 \n",
    "import pandas as pd\n",
    "\n",
    "data=[100,200,300]\n",
    "index=[\"월\",\"화\", \"수\"]\n",
    "s=pd.Series(data,index)\n",
    "\n",
    "# s.loc[\"목\"]=400\n",
    "# s[\"금\"]=500\n",
    "\n",
    "print(s)"
   ]
  },
  {
   "cell_type": "code",
   "execution_count": 81,
   "id": "0ffbc2c6-cbf1-4432-aec4-9ec11c37d871",
   "metadata": {},
   "outputs": [
    {
     "name": "stdout",
     "output_type": "stream",
     "text": [
      "화    200\n",
      "dtype: int64\n",
      "월    100\n",
      "화    200\n",
      "수    300\n",
      "dtype: int64\n"
     ]
    }
   ],
   "source": [
    "import pandas as pd\n",
    "\n",
    "# 열번호로 데이터을 가져올 꺠 \n",
    "data=[100,200,300]\n",
    "index=[\"월\",\"화\", \"수\"]\n",
    "s=pd.Series(data,index)\n",
    "\n",
    "s2=s.drop([\"월\",\"수\"])\n",
    "# 여러개의 데이터를 한번에 삭제하기 \n",
    "\n",
    "\n",
    "# s1=s.drop(\"월\")\n",
    "print(s2)\n",
    "print(s)\n",
    "\n",
    "\n",
    "\n",
    "# 원본 데이터에서 데이터 삭제하기 \n",
    "# s.drop('목',inplace=True)"
   ]
  },
  {
   "cell_type": "code",
   "execution_count": 84,
   "id": "7bb1ef7f-1b78-4fa1-897b-40292095a424",
   "metadata": {},
   "outputs": [
    {
     "name": "stdout",
     "output_type": "stream",
     "text": [
      "월    1000\n",
      "화     200\n",
      "수    3000\n",
      "dtype: int64\n"
     ]
    }
   ],
   "source": [
    "# 데이터 수정하기 \n",
    "s.iloc[0]=1000\n",
    "s.loc[\"수\"]=3000\n",
    "#s[\"월']=3000\n",
    "\n",
    "print(s)"
   ]
  },
  {
   "cell_type": "code",
   "execution_count": 86,
   "id": "786660cc-05fb-4d35-89c5-86e2c799ca21",
   "metadata": {},
   "outputs": [
    {
     "name": "stdout",
     "output_type": "stream",
     "text": [
      "월    100\n",
      "화    200\n",
      "수    300\n",
      "dtype: int64\n"
     ]
    }
   ],
   "source": [
    "# 브로드캐스팅\n",
    "# 연산이 시리즈 객체의 전체 값에 적용됨\n",
    "# 반복문을 사용하지 않아도 가능\n",
    "\n",
    "import pandas as pd\n",
    "\n",
    "# 인덱스 지정할 경우 \n",
    "data=[100,200,300]\n",
    "index=[\"월\",\"화\", \"수\"]\n",
    "q=pd.Series(data,index)\n",
    "print(q)\n"
   ]
  },
  {
   "cell_type": "code",
   "execution_count": 106,
   "id": "75ac5b05-947c-42f3-b9e0-f6dd5ba59f2d",
   "metadata": {},
   "outputs": [
    {
     "data": {
      "text/plain": [
       "1    300\n",
       "2    400\n",
       "3    600\n",
       "4    700\n",
       "dtype: int64"
      ]
     },
     "execution_count": 106,
     "metadata": {},
     "output_type": "execute_result"
    }
   ],
   "source": [
    "import pandas as pd\n",
    "저가 = pd.Series([10,200,300,400,500])\n",
    "고가 =pd.Series([100,300,400,600,700])\n",
    "\n",
    "cond = (고가-저가)>=100\n",
    "고가[cond]"
   ]
  },
  {
   "cell_type": "code",
   "execution_count": 115,
   "id": "a0221b2a-0991-472a-8bc4-d85bdbd3d6e9",
   "metadata": {},
   "outputs": [
    {
     "data": {
      "text/plain": [
       "93000    5/14\n",
       "99100    5/16\n",
       "72300    5/17\n",
       "dtype: object"
      ]
     },
     "execution_count": 115,
     "metadata": {},
     "output_type": "execute_result"
    }
   ],
   "source": [
    "data=[93000,82400,99100,72300]\n",
    "index=['5/14','5/15','5/16','5/17']\n",
    "# 종가=pd.Series(data=data,index=index)\n",
    "종가=pd.Series(data=index,index=data)\n",
    "\n",
    "\n",
    "\n",
    "# 조건=(종가>80000)&(종가<100000)\n",
    "조건=~(종가=='5/15')\n",
    "종가[조건]"
   ]
  },
  {
   "cell_type": "code",
   "execution_count": 116,
   "id": "839c277e-b4b5-4583-bfb4-37672d5371ea",
   "metadata": {},
   "outputs": [
    {
     "name": "stdout",
     "output_type": "stream",
     "text": [
      "5/14\n",
      "5/16\n",
      "5/17\n"
     ]
    }
   ],
   "source": [
    "for date in 종가[조건]:\n",
    "    print(date)"
   ]
  },
  {
   "cell_type": "code",
   "execution_count": 119,
   "id": "7119f958-bca2-43a4-959c-164f41f24d42",
   "metadata": {},
   "outputs": [
    {
     "name": "stdout",
     "output_type": "stream",
     "text": [
      "          종가     PER   PBR\n",
      "네이버   157000   39.88  4.38\n",
      "삼성전자   51300    8.52  1.45\n",
      "LG전자   68800   10.03  0.87\n",
      "카카오   140000  228.38  2.16\n"
     ]
    }
   ],
   "source": [
    "# dataframe \n",
    "# 2차원 표에서 컬럼 단위로 데이터로 표현\n",
    "# 컬럼명을 딕셔너리 ㅏㄷㅅ로 데이터는 딕셔너리의 value로 사용\n",
    "\n",
    "from pandas import DataFrame\n",
    "data={\n",
    "    \"종가\":[157000,51300,68800,140000],\n",
    "    \"PER\":[39.88,8.52,10.03,228.38],\n",
    "    \"PBR\":[4.38,1.45,0.87,2.16]}\n",
    "index=[\"네이버\",\"삼성전자\",\"LG전자\",\"카카오\"]\n",
    "df=DataFrame(data,index)\n",
    "print(df)"
   ]
  },
  {
   "cell_type": "code",
   "execution_count": 149,
   "id": "d4c7eda8-8c24-4178-81c7-466272207443",
   "metadata": {},
   "outputs": [
    {
     "name": "stdout",
     "output_type": "stream",
     "text": [
      "           종가     per   pbr\n",
      "naver  157000   39.88  4.38\n",
      "삼성전자    51300    8.52  1.45\n",
      "LG전자    68800   10.03  0.87\n",
      "카카오    140000  228.38  2.16\n"
     ]
    }
   ],
   "source": [
    "#2차원에서 로우단위로 데이터를 리스트로 표현 \n",
    "from pandas import DataFrame\n",
    "data=[\n",
    "[157000,39.88,4.38],\n",
    "[51300,8.52,1.45],\n",
    "[68800,10.03,0.87],\n",
    "[140000,228.38,2.16]\n",
    "]\n",
    "\n",
    "index=[\"naver\",\"삼성전자\",\"LG전자\",\"카카오\"]\n",
    "column=['종가','per','pbr']\n",
    "df=DataFrame(data,index,column)\n",
    "print(df)"
   ]
  },
  {
   "cell_type": "code",
   "execution_count": 172,
   "id": "26caf197-8f5f-4f12-8372-358ca9a5ce7b",
   "metadata": {},
   "outputs": [
    {
     "name": "stdout",
     "output_type": "stream",
     "text": [
      "           종가    PER   PBR\n",
      "naver  157000  39.88  4.38\n",
      "삼성전자        1  39.88  4.00\n",
      "LG전자        2  38.00  0.38\n",
      "카카오         3   3.00  0.08\n",
      "4.38\n"
     ]
    },
    {
     "ename": "AttributeError",
     "evalue": "'DataFrame' object has no attribute 'ioc'",
     "output_type": "error",
     "traceback": [
      "\u001b[1;31m---------------------------------------------------------------------------\u001b[0m",
      "\u001b[1;31mAttributeError\u001b[0m                            Traceback (most recent call last)",
      "Cell \u001b[1;32mIn[172], line 16\u001b[0m\n\u001b[0;32m     14\u001b[0m \u001b[38;5;28mprint\u001b[39m(df)\n\u001b[0;32m     15\u001b[0m \u001b[38;5;28mprint\u001b[39m(df\u001b[38;5;241m.\u001b[39miloc[\u001b[38;5;241m0\u001b[39m,\u001b[38;5;241m2\u001b[39m])\n\u001b[1;32m---> 16\u001b[0m \u001b[38;5;28mprint\u001b[39m(df\u001b[38;5;241m.\u001b[39mioc[\u001b[38;5;124m\"\u001b[39m\u001b[38;5;124mnaver\u001b[39m\u001b[38;5;124m\"\u001b[39m,\u001b[38;5;124m\"\u001b[39m\u001b[38;5;124m카카오\u001b[39m\u001b[38;5;124m\"\u001b[39m])\n",
      "File \u001b[1;32m~\\anaconda3\\Lib\\site-packages\\pandas\\core\\generic.py:6204\u001b[0m, in \u001b[0;36mNDFrame.__getattr__\u001b[1;34m(self, name)\u001b[0m\n\u001b[0;32m   6197\u001b[0m \u001b[38;5;28;01mif\u001b[39;00m (\n\u001b[0;32m   6198\u001b[0m     name \u001b[38;5;129;01mnot\u001b[39;00m \u001b[38;5;129;01min\u001b[39;00m \u001b[38;5;28mself\u001b[39m\u001b[38;5;241m.\u001b[39m_internal_names_set\n\u001b[0;32m   6199\u001b[0m     \u001b[38;5;129;01mand\u001b[39;00m name \u001b[38;5;129;01mnot\u001b[39;00m \u001b[38;5;129;01min\u001b[39;00m \u001b[38;5;28mself\u001b[39m\u001b[38;5;241m.\u001b[39m_metadata\n\u001b[0;32m   6200\u001b[0m     \u001b[38;5;129;01mand\u001b[39;00m name \u001b[38;5;129;01mnot\u001b[39;00m \u001b[38;5;129;01min\u001b[39;00m \u001b[38;5;28mself\u001b[39m\u001b[38;5;241m.\u001b[39m_accessors\n\u001b[0;32m   6201\u001b[0m     \u001b[38;5;129;01mand\u001b[39;00m \u001b[38;5;28mself\u001b[39m\u001b[38;5;241m.\u001b[39m_info_axis\u001b[38;5;241m.\u001b[39m_can_hold_identifiers_and_holds_name(name)\n\u001b[0;32m   6202\u001b[0m ):\n\u001b[0;32m   6203\u001b[0m     \u001b[38;5;28;01mreturn\u001b[39;00m \u001b[38;5;28mself\u001b[39m[name]\n\u001b[1;32m-> 6204\u001b[0m \u001b[38;5;28;01mreturn\u001b[39;00m \u001b[38;5;28mobject\u001b[39m\u001b[38;5;241m.\u001b[39m\u001b[38;5;21m__getattribute__\u001b[39m(\u001b[38;5;28mself\u001b[39m, name)\n",
      "\u001b[1;31mAttributeError\u001b[0m: 'DataFrame' object has no attribute 'ioc'"
     ]
    }
   ],
   "source": [
    "#2차원표에서 로우 단위로 데이터를 딕셔너리로 표현 \n",
    "from pandas import DataFrame\n",
    "\n",
    "data=[\n",
    "    \n",
    "{\"종가\":157000,\"PER\":39.88,\"PBR\":4.38},\n",
    "{\"종가\":1,\"PER\":39.88,\"PBR\":4},\n",
    "{\"종가\":2,\"PER\":38,\"PBR\":0.38},\n",
    "{\"종가\":3,\"PER\":3,\"PBR\":0.08}\n",
    "]\n",
    "\n",
    "index=[\"naver\",\"삼성전자\",\"LG전자\",\"카카오\"]\n",
    "df=DataFrame(data=data,index=index)\n",
    "print(df)\n",
    "print(df.iloc[0,2])\n",
    "print(df.ioc[\"naver\",\"카카오\"])\n",
    "\n",
    "\n"
   ]
  },
  {
   "cell_type": "code",
   "execution_count": 164,
   "id": "b25d48ae-bd63-4cc0-a96b-34614800e267",
   "metadata": {},
   "outputs": [
    {
     "name": "stdout",
     "output_type": "stream",
     "text": [
      "       시가   고가     저가     종가\n",
      "비트코인  980  990  920.0  930.0\n",
      "리플    200  300  180.0  180.0\n",
      "리더리움  300  500  300.4    NaN\n"
     ]
    },
    {
     "data": {
      "text/plain": [
       "시가    200.0\n",
       "고가    300.0\n",
       "저가    180.0\n",
       "종가    180.0\n",
       "Name: 리플, dtype: float64"
      ]
     },
     "execution_count": 164,
     "metadata": {},
     "output_type": "execute_result"
    }
   ],
   "source": [
    "from pandas import DataFrame\n",
    "\n",
    "data=[\n",
    "\n",
    "    [980,990,920,930],\n",
    "    [200,300,180,180],\n",
    "    [300,500,300.400],\n",
    "]\n",
    "\n",
    "index=[\"비트코인\",\"리플\",\"리더리움\"]\n",
    "columns=[\"시가\",\"고가\",\"저가\",\"종가\"]\n",
    "dfa=DataFrame(data=data,index=index,columns=columns)\n",
    "print(dfa)\n",
    "# 멀티 컬럼\n",
    "dfa['고가']\n",
    "dfa[['저가','종가']]\n",
    "\n",
    "# 로우 선택\n",
    "dfa.iloc[1]"
   ]
  },
  {
   "cell_type": "code",
   "execution_count": 157,
   "id": "13b17fdb-f10c-4165-ab57-aa26e631b16f",
   "metadata": {},
   "outputs": [
    {
     "name": "stdout",
     "output_type": "stream",
     "text": [
      "       시가   고가     저가     종가\n",
      "비트코인  980  990  920.0  930.0\n",
      "리플    200  300  180.0  180.0\n",
      "리더리움  300  500  300.4    NaN\n"
     ]
    }
   ],
   "source": [
    "from pandas import DataFrame\n",
    "\n",
    "data=[\n",
    "\n",
    "    [980,990,920,930],\n",
    "    [200,300,180,180],\n",
    "    [300,500,300.400]\n",
    "]\n",
    "\n",
    "index=[\"비트코인\",\"리플\",\"리더리움\"]\n",
    "columns=[\"시가\",\"고가\",\"저가\",\"종가\"]\n",
    "dfa=DataFrame(data=data,index=index,columns=columns)\n",
    "print(dfa)\n"
   ]
  },
  {
   "cell_type": "code",
   "execution_count": 151,
   "id": "f1d54f8c-f3d3-43ad-980e-e86ade9d984c",
   "metadata": {},
   "outputs": [
    {
     "data": {
      "text/plain": [
       "[[100, 100, 100], [200, 200, 200], [300, 300, 300]]"
      ]
     },
     "execution_count": 151,
     "metadata": {},
     "output_type": "execute_result"
    }
   ],
   "source": [
    "data=[]\n",
    "data.append([100,100,100])\n",
    "data.append([200,200,200])\n",
    "data.append([300,300,300])\n",
    "data\n",
    "\n"
   ]
  },
  {
   "cell_type": "code",
   "execution_count": 173,
   "id": "f19014ba-6f14-42f2-899a-f28add2eb8cf",
   "metadata": {},
   "outputs": [
    {
     "data": {
      "text/html": [
       "<div>\n",
       "<style scoped>\n",
       "    .dataframe tbody tr th:only-of-type {\n",
       "        vertical-align: middle;\n",
       "    }\n",
       "\n",
       "    .dataframe tbody tr th {\n",
       "        vertical-align: top;\n",
       "    }\n",
       "\n",
       "    .dataframe thead th {\n",
       "        text-align: right;\n",
       "    }\n",
       "</style>\n",
       "<table border=\"1\" class=\"dataframe\">\n",
       "  <thead>\n",
       "    <tr style=\"text-align: right;\">\n",
       "      <th></th>\n",
       "      <th>종가</th>\n",
       "      <th>PER</th>\n",
       "      <th>PBR</th>\n",
       "    </tr>\n",
       "  </thead>\n",
       "  <tbody>\n",
       "    <tr>\n",
       "      <th>naver</th>\n",
       "      <td>157000</td>\n",
       "      <td>39.88</td>\n",
       "      <td>4.38</td>\n",
       "    </tr>\n",
       "    <tr>\n",
       "      <th>삼성전자</th>\n",
       "      <td>1</td>\n",
       "      <td>39.88</td>\n",
       "      <td>4.00</td>\n",
       "    </tr>\n",
       "    <tr>\n",
       "      <th>LG전자</th>\n",
       "      <td>2</td>\n",
       "      <td>38.00</td>\n",
       "      <td>0.38</td>\n",
       "    </tr>\n",
       "    <tr>\n",
       "      <th>카카오</th>\n",
       "      <td>3</td>\n",
       "      <td>3.00</td>\n",
       "      <td>0.08</td>\n",
       "    </tr>\n",
       "  </tbody>\n",
       "</table>\n",
       "</div>"
      ],
      "text/plain": [
       "           종가    PER   PBR\n",
       "naver  157000  39.88  4.38\n",
       "삼성전자        1  39.88  4.00\n",
       "LG전자        2  38.00  0.38\n",
       "카카오         3   3.00  0.08"
      ]
     },
     "execution_count": 173,
     "metadata": {},
     "output_type": "execute_result"
    }
   ],
   "source": [
    "df"
   ]
  },
  {
   "cell_type": "code",
   "execution_count": 175,
   "id": "b977d397-fe84-4202-9fd1-b6e5578aa30c",
   "metadata": {},
   "outputs": [
    {
     "data": {
      "text/html": [
       "<div>\n",
       "<style scoped>\n",
       "    .dataframe tbody tr th:only-of-type {\n",
       "        vertical-align: middle;\n",
       "    }\n",
       "\n",
       "    .dataframe tbody tr th {\n",
       "        vertical-align: top;\n",
       "    }\n",
       "\n",
       "    .dataframe thead th {\n",
       "        text-align: right;\n",
       "    }\n",
       "</style>\n",
       "<table border=\"1\" class=\"dataframe\">\n",
       "  <thead>\n",
       "    <tr style=\"text-align: right;\">\n",
       "      <th></th>\n",
       "      <th>종가</th>\n",
       "      <th>PER</th>\n",
       "      <th>PBR</th>\n",
       "    </tr>\n",
       "  </thead>\n",
       "  <tbody>\n",
       "    <tr>\n",
       "      <th>삼성전자</th>\n",
       "      <td>1</td>\n",
       "      <td>39.88</td>\n",
       "      <td>4.00</td>\n",
       "    </tr>\n",
       "    <tr>\n",
       "      <th>카카오</th>\n",
       "      <td>3</td>\n",
       "      <td>3.00</td>\n",
       "      <td>0.08</td>\n",
       "    </tr>\n",
       "  </tbody>\n",
       "</table>\n",
       "</div>"
      ],
      "text/plain": [
       "      종가    PER   PBR\n",
       "삼성전자   1  39.88  4.00\n",
       "카카오    3   3.00  0.08"
      ]
     },
     "execution_count": 175,
     "metadata": {},
     "output_type": "execute_result"
    }
   ],
   "source": [
    "df.iloc[[1,3]]"
   ]
  },
  {
   "cell_type": "code",
   "execution_count": 177,
   "id": "4a288d98-8425-4250-96ed-04ff7ecfa968",
   "metadata": {},
   "outputs": [
    {
     "data": {
      "text/html": [
       "<div>\n",
       "<style scoped>\n",
       "    .dataframe tbody tr th:only-of-type {\n",
       "        vertical-align: middle;\n",
       "    }\n",
       "\n",
       "    .dataframe tbody tr th {\n",
       "        vertical-align: top;\n",
       "    }\n",
       "\n",
       "    .dataframe thead th {\n",
       "        text-align: right;\n",
       "    }\n",
       "</style>\n",
       "<table border=\"1\" class=\"dataframe\">\n",
       "  <thead>\n",
       "    <tr style=\"text-align: right;\">\n",
       "      <th></th>\n",
       "      <th>종가</th>\n",
       "      <th>PER</th>\n",
       "      <th>PBR</th>\n",
       "    </tr>\n",
       "  </thead>\n",
       "  <tbody>\n",
       "    <tr>\n",
       "      <th>삼성전자</th>\n",
       "      <td>1</td>\n",
       "      <td>39.88</td>\n",
       "      <td>4.00</td>\n",
       "    </tr>\n",
       "    <tr>\n",
       "      <th>카카오</th>\n",
       "      <td>3</td>\n",
       "      <td>3.00</td>\n",
       "      <td>0.08</td>\n",
       "    </tr>\n",
       "  </tbody>\n",
       "</table>\n",
       "</div>"
      ],
      "text/plain": [
       "      종가    PER   PBR\n",
       "삼성전자   1  39.88  4.00\n",
       "카카오    3   3.00  0.08"
      ]
     },
     "execution_count": 177,
     "metadata": {},
     "output_type": "execute_result"
    }
   ],
   "source": [
    "df.loc[['삼성전자','카카오']]"
   ]
  },
  {
   "cell_type": "code",
   "execution_count": 181,
   "id": "c1661014-5807-4dff-95db-91b0c38d09aa",
   "metadata": {},
   "outputs": [
    {
     "data": {
      "text/html": [
       "<div>\n",
       "<style scoped>\n",
       "    .dataframe tbody tr th:only-of-type {\n",
       "        vertical-align: middle;\n",
       "    }\n",
       "\n",
       "    .dataframe tbody tr th {\n",
       "        vertical-align: top;\n",
       "    }\n",
       "\n",
       "    .dataframe thead th {\n",
       "        text-align: right;\n",
       "    }\n",
       "</style>\n",
       "<table border=\"1\" class=\"dataframe\">\n",
       "  <thead>\n",
       "    <tr style=\"text-align: right;\">\n",
       "      <th></th>\n",
       "      <th>종가</th>\n",
       "      <th>PER</th>\n",
       "      <th>PBR</th>\n",
       "    </tr>\n",
       "  </thead>\n",
       "  <tbody>\n",
       "    <tr>\n",
       "      <th>naver</th>\n",
       "      <td>157000</td>\n",
       "      <td>39.88</td>\n",
       "      <td>4.38</td>\n",
       "    </tr>\n",
       "    <tr>\n",
       "      <th>삼성전자</th>\n",
       "      <td>1</td>\n",
       "      <td>39.88</td>\n",
       "      <td>4.00</td>\n",
       "    </tr>\n",
       "    <tr>\n",
       "      <th>LG전자</th>\n",
       "      <td>2</td>\n",
       "      <td>38.00</td>\n",
       "      <td>0.38</td>\n",
       "    </tr>\n",
       "    <tr>\n",
       "      <th>카카오</th>\n",
       "      <td>3</td>\n",
       "      <td>3.00</td>\n",
       "      <td>0.08</td>\n",
       "    </tr>\n",
       "  </tbody>\n",
       "</table>\n",
       "</div>"
      ],
      "text/plain": [
       "           종가    PER   PBR\n",
       "naver  157000  39.88  4.38\n",
       "삼성전자        1  39.88  4.00\n",
       "LG전자        2  38.00  0.38\n",
       "카카오         3   3.00  0.08"
      ]
     },
     "execution_count": 181,
     "metadata": {},
     "output_type": "execute_result"
    }
   ],
   "source": [
    "df.iloc[0:4]#2번쨰 인텍스 값은 포함되지 않음"
   ]
  },
  {
   "cell_type": "code",
   "execution_count": 180,
   "id": "2b44eb18-cc8f-4b8f-ab92-c29331e014fd",
   "metadata": {},
   "outputs": [
    {
     "data": {
      "text/html": [
       "<div>\n",
       "<style scoped>\n",
       "    .dataframe tbody tr th:only-of-type {\n",
       "        vertical-align: middle;\n",
       "    }\n",
       "\n",
       "    .dataframe tbody tr th {\n",
       "        vertical-align: top;\n",
       "    }\n",
       "\n",
       "    .dataframe thead th {\n",
       "        text-align: right;\n",
       "    }\n",
       "</style>\n",
       "<table border=\"1\" class=\"dataframe\">\n",
       "  <thead>\n",
       "    <tr style=\"text-align: right;\">\n",
       "      <th></th>\n",
       "      <th>종가</th>\n",
       "      <th>PER</th>\n",
       "      <th>PBR</th>\n",
       "    </tr>\n",
       "  </thead>\n",
       "  <tbody>\n",
       "    <tr>\n",
       "      <th>naver</th>\n",
       "      <td>157000</td>\n",
       "      <td>39.88</td>\n",
       "      <td>4.38</td>\n",
       "    </tr>\n",
       "    <tr>\n",
       "      <th>삼성전자</th>\n",
       "      <td>1</td>\n",
       "      <td>39.88</td>\n",
       "      <td>4.00</td>\n",
       "    </tr>\n",
       "    <tr>\n",
       "      <th>LG전자</th>\n",
       "      <td>2</td>\n",
       "      <td>38.00</td>\n",
       "      <td>0.38</td>\n",
       "    </tr>\n",
       "  </tbody>\n",
       "</table>\n",
       "</div>"
      ],
      "text/plain": [
       "           종가    PER   PBR\n",
       "naver  157000  39.88  4.38\n",
       "삼성전자        1  39.88  4.00\n",
       "LG전자        2  38.00  0.38"
      ]
     },
     "execution_count": 180,
     "metadata": {},
     "output_type": "execute_result"
    }
   ],
   "source": [
    "df.loc['naver':'LG전자']"
   ]
  },
  {
   "cell_type": "code",
   "execution_count": 187,
   "id": "389ce798-6a12-40dc-b6e8-987f13383b80",
   "metadata": {},
   "outputs": [
    {
     "data": {
      "text/plain": [
       "0.38"
      ]
     },
     "execution_count": 187,
     "metadata": {},
     "output_type": "execute_result"
    }
   ],
   "source": [
    "# 특정 값을 가져오기\n",
    "df\n",
    "df.iloc[3,1]#0,1,2    0,1,2 \n",
    "df.loc[\"LG전자\",\"PBR\"]#index,columns"
   ]
  },
  {
   "cell_type": "code",
   "execution_count": 189,
   "id": "df380517-e4af-4165-8cf8-21458de15da7",
   "metadata": {},
   "outputs": [
    {
     "data": {
      "text/html": [
       "<div>\n",
       "<style scoped>\n",
       "    .dataframe tbody tr th:only-of-type {\n",
       "        vertical-align: middle;\n",
       "    }\n",
       "\n",
       "    .dataframe tbody tr th {\n",
       "        vertical-align: top;\n",
       "    }\n",
       "\n",
       "    .dataframe thead th {\n",
       "        text-align: right;\n",
       "    }\n",
       "</style>\n",
       "<table border=\"1\" class=\"dataframe\">\n",
       "  <thead>\n",
       "    <tr style=\"text-align: right;\">\n",
       "      <th></th>\n",
       "      <th>종가</th>\n",
       "      <th>PER</th>\n",
       "    </tr>\n",
       "  </thead>\n",
       "  <tbody>\n",
       "    <tr>\n",
       "      <th>naver</th>\n",
       "      <td>157000</td>\n",
       "      <td>39.88</td>\n",
       "    </tr>\n",
       "    <tr>\n",
       "      <th>삼성전자</th>\n",
       "      <td>1</td>\n",
       "      <td>39.88</td>\n",
       "    </tr>\n",
       "  </tbody>\n",
       "</table>\n",
       "</div>"
      ],
      "text/plain": [
       "           종가    PER\n",
       "naver  157000  39.88\n",
       "삼성전자        1  39.88"
      ]
     },
     "execution_count": 189,
     "metadata": {},
     "output_type": "execute_result"
    }
   ],
   "source": [
    "df.iloc[[0,1],[0,1]] # 영역 가져오기 "
   ]
  },
  {
   "cell_type": "code",
   "execution_count": 190,
   "id": "f7ff137a-1732-43e7-ac57-c3bf8664824c",
   "metadata": {},
   "outputs": [
    {
     "data": {
      "text/html": [
       "<div>\n",
       "<style scoped>\n",
       "    .dataframe tbody tr th:only-of-type {\n",
       "        vertical-align: middle;\n",
       "    }\n",
       "\n",
       "    .dataframe tbody tr th {\n",
       "        vertical-align: top;\n",
       "    }\n",
       "\n",
       "    .dataframe thead th {\n",
       "        text-align: right;\n",
       "    }\n",
       "</style>\n",
       "<table border=\"1\" class=\"dataframe\">\n",
       "  <thead>\n",
       "    <tr style=\"text-align: right;\">\n",
       "      <th></th>\n",
       "      <th>PER</th>\n",
       "      <th>PBR</th>\n",
       "    </tr>\n",
       "  </thead>\n",
       "  <tbody>\n",
       "    <tr>\n",
       "      <th>naver</th>\n",
       "      <td>39.88</td>\n",
       "      <td>4.38</td>\n",
       "    </tr>\n",
       "    <tr>\n",
       "      <th>삼성전자</th>\n",
       "      <td>39.88</td>\n",
       "      <td>4.00</td>\n",
       "    </tr>\n",
       "  </tbody>\n",
       "</table>\n",
       "</div>"
      ],
      "text/plain": [
       "         PER   PBR\n",
       "naver  39.88  4.38\n",
       "삼성전자   39.88  4.00"
      ]
     },
     "execution_count": 190,
     "metadata": {},
     "output_type": "execute_result"
    }
   ],
   "source": [
    "df.loc[['naver','삼성전자'],['PER','PBR']]"
   ]
  },
  {
   "cell_type": "code",
   "execution_count": 192,
   "id": "1b231ec3-240c-4d95-854e-e021f8e2b615",
   "metadata": {},
   "outputs": [
    {
     "data": {
      "text/html": [
       "<div>\n",
       "<style scoped>\n",
       "    .dataframe tbody tr th:only-of-type {\n",
       "        vertical-align: middle;\n",
       "    }\n",
       "\n",
       "    .dataframe tbody tr th {\n",
       "        vertical-align: top;\n",
       "    }\n",
       "\n",
       "    .dataframe thead th {\n",
       "        text-align: right;\n",
       "    }\n",
       "</style>\n",
       "<table border=\"1\" class=\"dataframe\">\n",
       "  <thead>\n",
       "    <tr style=\"text-align: right;\">\n",
       "      <th></th>\n",
       "      <th>종가</th>\n",
       "      <th>PER</th>\n",
       "    </tr>\n",
       "  </thead>\n",
       "  <tbody>\n",
       "    <tr>\n",
       "      <th>naver</th>\n",
       "      <td>157000</td>\n",
       "      <td>39.88</td>\n",
       "    </tr>\n",
       "    <tr>\n",
       "      <th>삼성전자</th>\n",
       "      <td>1</td>\n",
       "      <td>39.88</td>\n",
       "    </tr>\n",
       "  </tbody>\n",
       "</table>\n",
       "</div>"
      ],
      "text/plain": [
       "           종가    PER\n",
       "naver  157000  39.88\n",
       "삼성전자        1  39.88"
      ]
     },
     "execution_count": 192,
     "metadata": {},
     "output_type": "execute_result"
    }
   ],
   "source": [
    "df.iloc[0:2,0:2]"
   ]
  },
  {
   "cell_type": "code",
   "execution_count": 195,
   "id": "de38ea42-ef28-4283-add6-cd7bc049a657",
   "metadata": {},
   "outputs": [
    {
     "data": {
      "text/html": [
       "<div>\n",
       "<style scoped>\n",
       "    .dataframe tbody tr th:only-of-type {\n",
       "        vertical-align: middle;\n",
       "    }\n",
       "\n",
       "    .dataframe tbody tr th {\n",
       "        vertical-align: top;\n",
       "    }\n",
       "\n",
       "    .dataframe thead th {\n",
       "        text-align: right;\n",
       "    }\n",
       "</style>\n",
       "<table border=\"1\" class=\"dataframe\">\n",
       "  <thead>\n",
       "    <tr style=\"text-align: right;\">\n",
       "      <th></th>\n",
       "      <th>PER</th>\n",
       "      <th>PBR</th>\n",
       "    </tr>\n",
       "  </thead>\n",
       "  <tbody>\n",
       "    <tr>\n",
       "      <th>naver</th>\n",
       "      <td>39.88</td>\n",
       "      <td>4.38</td>\n",
       "    </tr>\n",
       "    <tr>\n",
       "      <th>삼성전자</th>\n",
       "      <td>39.88</td>\n",
       "      <td>4.00</td>\n",
       "    </tr>\n",
       "  </tbody>\n",
       "</table>\n",
       "</div>"
      ],
      "text/plain": [
       "         PER   PBR\n",
       "naver  39.88  4.38\n",
       "삼성전자   39.88  4.00"
      ]
     },
     "execution_count": 195,
     "metadata": {},
     "output_type": "execute_result"
    }
   ],
   "source": [
    "df.loc['naver':'삼성전자','PER':'PBR']"
   ]
  },
  {
   "cell_type": "code",
   "execution_count": 196,
   "id": "e0fca2da-2553-4858-816a-8f5f1ba3d14e",
   "metadata": {},
   "outputs": [
    {
     "data": {
      "text/html": [
       "<div>\n",
       "<style scoped>\n",
       "    .dataframe tbody tr th:only-of-type {\n",
       "        vertical-align: middle;\n",
       "    }\n",
       "\n",
       "    .dataframe tbody tr th {\n",
       "        vertical-align: top;\n",
       "    }\n",
       "\n",
       "    .dataframe thead th {\n",
       "        text-align: right;\n",
       "    }\n",
       "</style>\n",
       "<table border=\"1\" class=\"dataframe\">\n",
       "  <thead>\n",
       "    <tr style=\"text-align: right;\">\n",
       "      <th></th>\n",
       "      <th>종가</th>\n",
       "      <th>PBR</th>\n",
       "    </tr>\n",
       "  </thead>\n",
       "  <tbody>\n",
       "    <tr>\n",
       "      <th>naver</th>\n",
       "      <td>157000</td>\n",
       "      <td>4.38</td>\n",
       "    </tr>\n",
       "    <tr>\n",
       "      <th>삼성전자</th>\n",
       "      <td>1</td>\n",
       "      <td>4.00</td>\n",
       "    </tr>\n",
       "  </tbody>\n",
       "</table>\n",
       "</div>"
      ],
      "text/plain": [
       "           종가   PBR\n",
       "naver  157000  4.38\n",
       "삼성전자        1  4.00"
      ]
     },
     "execution_count": 196,
     "metadata": {},
     "output_type": "execute_result"
    }
   ],
   "source": [
    "df.iloc[[0,1],[0,2]]"
   ]
  },
  {
   "cell_type": "code",
   "execution_count": 198,
   "id": "8b916c34-570f-4346-8d67-8442ba70ec3a",
   "metadata": {},
   "outputs": [
    {
     "data": {
      "text/html": [
       "<div>\n",
       "<style scoped>\n",
       "    .dataframe tbody tr th:only-of-type {\n",
       "        vertical-align: middle;\n",
       "    }\n",
       "\n",
       "    .dataframe tbody tr th {\n",
       "        vertical-align: top;\n",
       "    }\n",
       "\n",
       "    .dataframe thead th {\n",
       "        text-align: right;\n",
       "    }\n",
       "</style>\n",
       "<table border=\"1\" class=\"dataframe\">\n",
       "  <thead>\n",
       "    <tr style=\"text-align: right;\">\n",
       "      <th></th>\n",
       "      <th>PER</th>\n",
       "      <th>PBR</th>\n",
       "    </tr>\n",
       "  </thead>\n",
       "  <tbody>\n",
       "    <tr>\n",
       "      <th>naver</th>\n",
       "      <td>39.88</td>\n",
       "      <td>4.38</td>\n",
       "    </tr>\n",
       "    <tr>\n",
       "      <th>카카오</th>\n",
       "      <td>3.00</td>\n",
       "      <td>0.08</td>\n",
       "    </tr>\n",
       "  </tbody>\n",
       "</table>\n",
       "</div>"
      ],
      "text/plain": [
       "         PER   PBR\n",
       "naver  39.88  4.38\n",
       "카카오     3.00  0.08"
      ]
     },
     "execution_count": 198,
     "metadata": {},
     "output_type": "execute_result"
    }
   ],
   "source": [
    "df.loc[['naver','카카오'],['PER','PBR']]"
   ]
  },
  {
   "cell_type": "code",
   "execution_count": null,
   "id": "a55eefc6-63a2-4739-bfa4-39b65999ebb5",
   "metadata": {},
   "outputs": [],
   "source": []
  }
 ],
 "metadata": {
  "kernelspec": {
   "display_name": "Python 3 (ipykernel)",
   "language": "python",
   "name": "python3"
  },
  "language_info": {
   "codemirror_mode": {
    "name": "ipython",
    "version": 3
   },
   "file_extension": ".py",
   "mimetype": "text/x-python",
   "name": "python",
   "nbconvert_exporter": "python",
   "pygments_lexer": "ipython3",
   "version": "3.11.7"
  }
 },
 "nbformat": 4,
 "nbformat_minor": 5
}
