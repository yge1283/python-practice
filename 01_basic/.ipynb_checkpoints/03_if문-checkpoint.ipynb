{
 "cells": [
  {
   "cell_type": "markdown",
   "id": "5fcb576c-ae29-4ce9-bfe2-f102ab306eef",
   "metadata": {},
   "source": [
    "quiz>>주민등록번호를 입력을 받습니다. \n",
    "입력예) 8번째 자리의 값이 q,3 (남) 2,4(여자) "
   ]
  },
  {
   "cell_type": "code",
   "execution_count": 18,
   "id": "9ed9f49b-ab86-401a-8b59-23761111e6e5",
   "metadata": {},
   "outputs": [
    {
     "name": "stdin",
     "output_type": "stream",
     "text": [
      "주민등록번호를 입력하세요 111111-2111111\n"
     ]
    },
    {
     "name": "stdout",
     "output_type": "stream",
     "text": [
      "여\n"
     ]
    }
   ],
   "source": [
    "number=input(\"주민등록번호를 입력하세요\")\n",
    "if number[-7]=='1'or number[-7]=='3':\n",
    "    print(\"남\")\n",
    "else:\n",
    "    print(\"여\")\n",
    "    \n",
    "\n",
    "\n",
    "\n",
    "\n"
   ]
  },
  {
   "cell_type": "code",
   "execution_count": null,
   "id": "8a14b3c8-4934-4ab3-b651-45fecc2cf39f",
   "metadata": {},
   "outputs": [],
   "source": [
    "quiz>> 조건부 표현식으로 쓴거, if문 쓴거 2가지로 작성\n",
    "이메일 주소를 입력받아서 @가 있는지의 여부를 확인하고 있으면 아이디를 출력하고 없으면 @가 없다는 메세지를 출력하라."
   ]
  },
  {
   "cell_type": "code",
   "execution_count": null,
   "id": "fbc6fd94-80fd-4f7e-874c-8d80d051a1c6",
   "metadata": {},
   "outputs": [],
   "source": []
  }
 ],
 "metadata": {
  "kernelspec": {
   "display_name": "Python 3 (ipykernel)",
   "language": "python",
   "name": "python3"
  },
  "language_info": {
   "codemirror_mode": {
    "name": "ipython",
    "version": 3
   },
   "file_extension": ".py",
   "mimetype": "text/x-python",
   "name": "python",
   "nbconvert_exporter": "python",
   "pygments_lexer": "ipython3",
   "version": "3.11.7"
  }
 },
 "nbformat": 4,
 "nbformat_minor": 5
}
