import numpy as np 


price=[
    [100,80,70,30],
    [120,110,60,90],
    [1,2,3,4]
]

arr2=np.array(price)
print(arr2[:,0])
print(arr2[0,3])



import pandas as pd
pd.Series()

arr=[10,20,30,40]
s=pd.Series(arr)
print(s)
#index,value로 표시 
print(type(s))



import pandas as pd

# 인덱스 지정할 경우 
data=[100,200,300]
index=["월","화", "수"]
s=pd.Series(data,index)
print(s)
print(type(s))



# print(s.index)
# print(s.values)
print(s.array)


import pandas as pd
pd.Series

data = [500,800,200]
index=["메로나","누가바","빠삐코"]

result = pd.Series(data,index)
print(result)


result.values


result.index


import pandas as pd

# 열번호로 데이터을 가져올 꺠 
data=[100,200,300]
index=["월","화", "수"]
s=pd.Series(data,index)
print(s.iloc[-2])
print(s.iloc[1])

#index 값으로 데이터 가져오기 
print(s.loc["월"])
print(s.loc["수"])
#index값으로 데이터 가져오기-2
print(s["월"])

#행번호로 복수 데이터 가져오기
print(s.iloc[0:2])
# 시작행번호 : 끝 행번호(0-1)까지 기져옴

#인덱스로 복수 데이터 가져오기
print(s.loc["월":"수"])


import pandas as pd

# 연속된 데이터가 아닌 여러개 데이터를 가져올 떄 
data=[100,200,300]
index=["월","화", "수"]
s=pd.Series(data,index)

s.iloc[[0,2]]
s.loc[["월","수"]]



# 기존 시리즈에 값 추가 
import pandas as pd

data=[100,200,300]
index=["월","화", "수"]
s=pd.Series(data,index)

# s.loc["목"]=400
# s["금"]=500

print(s)


import pandas as pd

# 열번호로 데이터을 가져올 꺠 
data=[100,200,300]
index=["월","화", "수"]
s=pd.Series(data,index)

s2=s.drop(["월","수"])
# 여러개의 데이터를 한번에 삭제하기 


# s1=s.drop("월")
print(s2)
print(s)



# 원본 데이터에서 데이터 삭제하기 
# s.drop('목',inplace=True)


# 데이터 수정하기 
s.iloc[0]=1000
s.loc["수"]=3000
#s["월']=3000

print(s)


# 브로드캐스팅
# 연산이 시리즈 객체의 전체 값에 적용됨
# 반복문을 사용하지 않아도 가능

import pandas as pd

# 인덱스 지정할 경우 
data=[100,200,300]
index=["월","화", "수"]
q=pd.Series(data,index)
print(q)



import pandas as pd
저가 = pd.Series([10,200,300,400,500])
고가 =pd.Series([100,300,400,600,700])

cond = (고가-저가)>=100
고가[cond]


data=[93000,82400,99100,72300]
index=['5/14','5/15','5/16','5/17']
# 종가=pd.Series(data=data,index=index)
종가=pd.Series(data=index,index=data)



# 조건=(종가>80000)&(종가<100000)
조건=~(종가=='5/15')
종가[조건]


for date in 종가[조건]:
    print(date)


# dataframe 
# 2차원 표에서 컬럼 단위로 데이터로 표현
# 컬럼명을 딕셔너리 ㅏㄷㅅ로 데이터는 딕셔너리의 value로 사용

from pandas import DataFrame
data={
    "종가":[157000,51300,68800,140000],
    "PER":[39.88,8.52,10.03,228.38],
    "PBR":[4.38,1.45,0.87,2.16]}
index=["네이버","삼성전자","LG전자","카카오"]
df=DataFrame(data,index)
print(df)


#2차원에서 로우단위로 데이터를 리스트로 표현 
from pandas import DataFrame
data=[
[157000,39.88,4.38],
[51300,8.52,1.45],
[68800,10.03,0.87],
[140000,228.38,2.16]
]

index=["naver","삼성전자","LG전자","카카오"]
column=['종가','per','pbr']
df=DataFrame(data,index,column)
print(df)


#2차원표에서 로우 단위로 데이터를 딕셔너리로 표현 
from pandas import DataFrame

data=[
    
{"종가":157000,"PER":39.88,"PBR":4.38},
{"종가":1,"PER":39.88,"PBR":4},
{"종가":2,"PER":38,"PBR":0.38},
{"종가":3,"PER":3,"PBR":0.08}
]

index=["naver","삼성전자","LG전자","카카오"]
df=DataFrame(data=data,index=index)
print(df)
print(df.iloc[0,2])
print(df.ioc["naver","카카오"])





from pandas import DataFrame

data=[

    [980,990,920,930],
    [200,300,180,180],
    [300,500,300.400],
]

index=["비트코인","리플","리더리움"]
columns=["시가","고가","저가","종가"]
dfa=DataFrame(data=data,index=index,columns=columns)
print(dfa)
# 멀티 컬럼
dfa['고가']
dfa[['저가','종가']]

# 로우 선택
dfa.iloc[1]


from pandas import DataFrame

data=[

    [980,990,920,930],
    [200,300,180,180],
    [300,500,300.400]
]

index=["비트코인","리플","리더리움"]
columns=["시가","고가","저가","종가"]
dfa=DataFrame(data=data,index=index,columns=columns)
print(dfa)



data=[]
data.append([100,100,100])
data.append([200,200,200])
data.append([300,300,300])
data




df


df.iloc[[1,3]]


df.loc[['삼성전자','카카오']]


df.iloc[0:4]#2번쨰 인텍스 값은 포함되지 않음


df.loc['naver':'LG전자']


# 특정 값을 가져오기
df
df.iloc[3,1]#0,1,2    0,1,2 
df.loc["LG전자","PBR"]#index,columns


df.iloc[[0,1],[0,1]] # 영역 가져오기 


df.loc[['naver','삼성전자'],['PER','PBR']]


df.iloc[0:2,0:2]


df.loc['naver':'삼성전자','PER':'PBR']


df.iloc[[0,1],[0,2]]


df.loc[['naver','카카오'],['PER','PBR']]



