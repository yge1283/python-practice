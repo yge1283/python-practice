f= open('test.txt','w', encoding='utf8')
# 이것으로 주피터 노트에서 문자인식 가능
f.write("sodyd")
f.close()


all((1,2,3))


eval("divmod(4,2)")


파이썬에 있는 걸 그대로 꺼내서 쓰고 싶다. : pickle






