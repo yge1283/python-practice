# 컬럼 추가 
df['컬럼명']=시리즈 객체
range=high-low



!pip install pyupbit


import pyupbit
df=pyupbit.get_ohlcv("KRW-BTC")
df


df.head()


df['range']=df['high']-df['low']
df.head()


df.drop('value', axis=1, inplace=True)
# 컬럼 삭제 


# 시계열 데이터와 인덱스 
import pandas as pd

df


# 로우 추가 

df.drop(['volume','range'], axis=1)## 컬럼이라서 
df.tail()
date="2023-08-28 09:00:00"
dt=pd.to_datetime(date)
de
df.drop(df.index[-1],axis=0,inplace=True)
df





df.drop(df.index[-1],axis=0,inplace=True)
df






